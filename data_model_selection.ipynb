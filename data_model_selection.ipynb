{
 "cells": [
  {
   "cell_type": "markdown",
   "metadata": {},
   "source": [
    "# CS 5228 - Team pandas\n",
    "\n",
    "\n",
    "A0105650R - Wang Gejing \n",
    "\n",
    "A0198889R - Chen Ningshuang \n",
    "\n",
    "A0210996X - Zhang Hao "
   ]
  },
  {
   "cell_type": "markdown",
   "metadata": {},
   "source": [
    "## Import libraries"
   ]
  },
  {
   "cell_type": "code",
   "execution_count": 1,
   "metadata": {},
   "outputs": [],
   "source": [
    "# All Imports\n",
    "from utils import *\n",
    "import pandas as pd\n",
    "import locale\n",
    "import numpy as np\n",
    "import seaborn as sb\n",
    "import matplotlib.pyplot as plt\n",
    "%matplotlib inline\n",
    "from sklearn import preprocessing\n",
    "\n",
    "# model training\n",
    "from sklearn.model_selection import train_test_split\n",
    "from sklearn.model_selection import GridSearchCV\n",
    "\n",
    "# model evaluation\n",
    "from sklearn.metrics import confusion_matrix\n",
    "from sklearn.metrics import f1_score\n",
    "from sklearn.metrics import accuracy_score\n",
    "\n",
    "# classifiers\n",
    "from sklearn.naive_bayes import GaussianNB # naive bayes\n",
    "from sklearn.neighbors import KNeighborsClassifier # KNN\n",
    "from sklearn.linear_model import LogisticRegression # logistic regression\n",
    "from sklearn.tree import DecisionTreeClassifier # decision Tree\n",
    "from sklearn.ensemble import RandomForestClassifier \n",
    "from sklearn.ensemble import GradientBoostingClassifier\n",
    "\n",
    "# ignore warnings\n",
    "import warnings\n",
    "warnings.filterwarnings('ignore')\n",
    "locale.setlocale(locale.LC_ALL,'')\n",
    "pd.set_option('display.max_columns', None)"
   ]
  },
  {
   "cell_type": "markdown",
   "metadata": {},
   "source": [
    "## Import training data"
   ]
  },
  {
   "cell_type": "code",
   "execution_count": 2,
   "metadata": {},
   "outputs": [],
   "source": [
    "# Process Training Data\n",
    "drop_columns = []\n",
    "\n",
    "le = generate_labels()\n",
    "base_dropna = get_data(le=le,type='train', dropna=True, get_dummy=True, feature_split=False, values_only=True,drop_columns=drop_columns)\n",
    "base_fillna = get_data(le=le,type='train', dropna=False, get_dummy=True, feature_split=False, values_only=True,drop_columns=drop_columns)\n",
    "feature_dropna = get_data(le=le,type='train', dropna=True, get_dummy=True, feature_split=True, values_only=True,drop_columns=drop_columns)\n",
    "feature_fillna = get_data(le=le,type='train', dropna=False, get_dummy=True, feature_split=True, values_only=True,drop_columns=drop_columns)"
   ]
  },
  {
   "cell_type": "markdown",
   "metadata": {},
   "source": [
    "## Training dataset Information"
   ]
  },
  {
   "cell_type": "code",
   "execution_count": 3,
   "metadata": {},
   "outputs": [
    {
     "name": "stdout",
     "output_type": "stream",
     "text": [
      "<class 'pandas.core.frame.DataFrame'>\n",
      "Int64Index: 49808 entries, 0 to 49999\n",
      "Data columns (total 28 columns):\n",
      " #   Column             Non-Null Count  Dtype  \n",
      "---  ------             --------------  -----  \n",
      " 0   Name               49808 non-null  int64  \n",
      " 1   City               49808 non-null  int64  \n",
      " 2   State              49808 non-null  int64  \n",
      " 3   Zip                49808 non-null  int32  \n",
      " 4   Bank               49808 non-null  int64  \n",
      " 5   BankState          49808 non-null  int64  \n",
      " 6   NAICS              49808 non-null  int32  \n",
      " 7   ApprovalDate       49808 non-null  int64  \n",
      " 8   ApprovalFY         49808 non-null  int16  \n",
      " 9   Term               49808 non-null  int64  \n",
      " 10  NoEmp              49808 non-null  int64  \n",
      " 11  CreateJob          49808 non-null  int64  \n",
      " 12  RetainedJob        49808 non-null  int64  \n",
      " 13  FranchiseCode      49808 non-null  int32  \n",
      " 14  DisbursementDate   49808 non-null  int64  \n",
      " 15  DisbursementGross  49808 non-null  float32\n",
      " 16  GrAppv             49808 non-null  float32\n",
      " 17  SBA_Appv           49808 non-null  float32\n",
      " 18  ChargeOff          49808 non-null  int64  \n",
      " 19  NewExist_1         49808 non-null  uint8  \n",
      " 20  NewExist_2         49808 non-null  uint8  \n",
      " 21  UrbanRural_0       49808 non-null  uint8  \n",
      " 22  UrbanRural_1       49808 non-null  uint8  \n",
      " 23  UrbanRural_2       49808 non-null  uint8  \n",
      " 24  RevLineCr_N        49808 non-null  uint8  \n",
      " 25  RevLineCr_Y        49808 non-null  uint8  \n",
      " 26  LowDoc_N           49808 non-null  uint8  \n",
      " 27  LowDoc_Y           49808 non-null  uint8  \n",
      "dtypes: float32(3), int16(1), int32(3), int64(12), uint8(9)\n",
      "memory usage: 6.6 MB\n"
     ]
    }
   ],
   "source": [
    "base_dropna.info()"
   ]
  },
  {
   "cell_type": "code",
   "execution_count": 4,
   "metadata": {},
   "outputs": [
    {
     "name": "stdout",
     "output_type": "stream",
     "text": [
      "<class 'pandas.core.frame.DataFrame'>\n",
      "RangeIndex: 50000 entries, 0 to 49999\n",
      "Data columns (total 28 columns):\n",
      " #   Column             Non-Null Count  Dtype  \n",
      "---  ------             --------------  -----  \n",
      " 0   Name               50000 non-null  int64  \n",
      " 1   City               50000 non-null  int64  \n",
      " 2   State              50000 non-null  int64  \n",
      " 3   Zip                50000 non-null  int32  \n",
      " 4   Bank               50000 non-null  int64  \n",
      " 5   BankState          50000 non-null  int64  \n",
      " 6   NAICS              50000 non-null  int32  \n",
      " 7   ApprovalDate       50000 non-null  int64  \n",
      " 8   ApprovalFY         50000 non-null  int16  \n",
      " 9   Term               50000 non-null  int64  \n",
      " 10  NoEmp              50000 non-null  int64  \n",
      " 11  CreateJob          50000 non-null  int64  \n",
      " 12  RetainedJob        50000 non-null  int64  \n",
      " 13  FranchiseCode      50000 non-null  int32  \n",
      " 14  DisbursementDate   50000 non-null  int64  \n",
      " 15  DisbursementGross  50000 non-null  float32\n",
      " 16  GrAppv             50000 non-null  float32\n",
      " 17  SBA_Appv           50000 non-null  float32\n",
      " 18  ChargeOff          50000 non-null  int64  \n",
      " 19  NewExist_1         50000 non-null  uint8  \n",
      " 20  NewExist_2         50000 non-null  uint8  \n",
      " 21  UrbanRural_0       50000 non-null  uint8  \n",
      " 22  UrbanRural_1       50000 non-null  uint8  \n",
      " 23  UrbanRural_2       50000 non-null  uint8  \n",
      " 24  RevLineCr_N        50000 non-null  uint8  \n",
      " 25  RevLineCr_Y        50000 non-null  uint8  \n",
      " 26  LowDoc_N           50000 non-null  uint8  \n",
      " 27  LowDoc_Y           50000 non-null  uint8  \n",
      "dtypes: float32(3), int16(1), int32(3), int64(12), uint8(9)\n",
      "memory usage: 6.2 MB\n"
     ]
    }
   ],
   "source": [
    "base_fillna.info()"
   ]
  },
  {
   "cell_type": "code",
   "execution_count": 5,
   "metadata": {},
   "outputs": [
    {
     "name": "stdout",
     "output_type": "stream",
     "text": [
      "<class 'pandas.core.frame.DataFrame'>\n",
      "Int64Index: 49808 entries, 0 to 49999\n",
      "Data columns (total 34 columns):\n",
      " #   Column             Non-Null Count  Dtype  \n",
      "---  ------             --------------  -----  \n",
      " 0   Name               49808 non-null  int64  \n",
      " 1   City               49808 non-null  int64  \n",
      " 2   State              49808 non-null  int64  \n",
      " 3   Zip                49808 non-null  int32  \n",
      " 4   Bank               49808 non-null  int64  \n",
      " 5   BankState          49808 non-null  int64  \n",
      " 6   NAICS              49808 non-null  int32  \n",
      " 7   ApprovalDate       49808 non-null  int64  \n",
      " 8   ApprovalFY         49808 non-null  int16  \n",
      " 9   CreateJob          49808 non-null  int64  \n",
      " 10  RetainedJob        49808 non-null  int64  \n",
      " 11  FranchiseCode      49808 non-null  int32  \n",
      " 12  DisbursementDate   49808 non-null  int64  \n",
      " 13  DisbursementGross  49808 non-null  float32\n",
      " 14  GrAppv             49808 non-null  float32\n",
      " 15  SBA_Appv           49808 non-null  float32\n",
      " 16  ChargeOff          49808 non-null  int64  \n",
      " 17  NewExist_1         49808 non-null  uint8  \n",
      " 18  NewExist_2         49808 non-null  uint8  \n",
      " 19  UrbanRural_0       49808 non-null  uint8  \n",
      " 20  UrbanRural_1       49808 non-null  uint8  \n",
      " 21  UrbanRural_2       49808 non-null  uint8  \n",
      " 22  RevLineCr_N        49808 non-null  uint8  \n",
      " 23  RevLineCr_Y        49808 non-null  uint8  \n",
      " 24  LowDoc_N           49808 non-null  uint8  \n",
      " 25  LowDoc_Y           49808 non-null  uint8  \n",
      " 26  NoEmp_Micro        49808 non-null  uint8  \n",
      " 27  NoEmp_Small        49808 non-null  uint8  \n",
      " 28  NoEmp_Medium       49808 non-null  uint8  \n",
      " 29  NoEmp_Large        49808 non-null  uint8  \n",
      " 30  Term_Short         49808 non-null  uint8  \n",
      " 31  Term_Intermediate  49808 non-null  uint8  \n",
      " 32  Term_Long          49808 non-null  uint8  \n",
      " 33  Term_Extra Long    49808 non-null  uint8  \n",
      "dtypes: float32(3), int16(1), int32(3), int64(10), uint8(17)\n",
      "memory usage: 6.2 MB\n"
     ]
    }
   ],
   "source": [
    "feature_dropna.info()"
   ]
  },
  {
   "cell_type": "code",
   "execution_count": 6,
   "metadata": {},
   "outputs": [
    {
     "name": "stdout",
     "output_type": "stream",
     "text": [
      "<class 'pandas.core.frame.DataFrame'>\n",
      "RangeIndex: 50000 entries, 0 to 49999\n",
      "Data columns (total 34 columns):\n",
      " #   Column             Non-Null Count  Dtype  \n",
      "---  ------             --------------  -----  \n",
      " 0   Name               50000 non-null  int64  \n",
      " 1   City               50000 non-null  int64  \n",
      " 2   State              50000 non-null  int64  \n",
      " 3   Zip                50000 non-null  int32  \n",
      " 4   Bank               50000 non-null  int64  \n",
      " 5   BankState          50000 non-null  int64  \n",
      " 6   NAICS              50000 non-null  int32  \n",
      " 7   ApprovalDate       50000 non-null  int64  \n",
      " 8   ApprovalFY         50000 non-null  int16  \n",
      " 9   CreateJob          50000 non-null  int64  \n",
      " 10  RetainedJob        50000 non-null  int64  \n",
      " 11  FranchiseCode      50000 non-null  int32  \n",
      " 12  DisbursementDate   50000 non-null  int64  \n",
      " 13  DisbursementGross  50000 non-null  float32\n",
      " 14  GrAppv             50000 non-null  float32\n",
      " 15  SBA_Appv           50000 non-null  float32\n",
      " 16  ChargeOff          50000 non-null  int64  \n",
      " 17  NewExist_1         50000 non-null  uint8  \n",
      " 18  NewExist_2         50000 non-null  uint8  \n",
      " 19  UrbanRural_0       50000 non-null  uint8  \n",
      " 20  UrbanRural_1       50000 non-null  uint8  \n",
      " 21  UrbanRural_2       50000 non-null  uint8  \n",
      " 22  RevLineCr_N        50000 non-null  uint8  \n",
      " 23  RevLineCr_Y        50000 non-null  uint8  \n",
      " 24  LowDoc_N           50000 non-null  uint8  \n",
      " 25  LowDoc_Y           50000 non-null  uint8  \n",
      " 26  NoEmp_Micro        50000 non-null  uint8  \n",
      " 27  NoEmp_Small        50000 non-null  uint8  \n",
      " 28  NoEmp_Medium       50000 non-null  uint8  \n",
      " 29  NoEmp_Large        50000 non-null  uint8  \n",
      " 30  Term_Short         50000 non-null  uint8  \n",
      " 31  Term_Intermediate  50000 non-null  uint8  \n",
      " 32  Term_Long          50000 non-null  uint8  \n",
      " 33  Term_Extra Long    50000 non-null  uint8  \n",
      "dtypes: float32(3), int16(1), int32(3), int64(10), uint8(17)\n",
      "memory usage: 5.9 MB\n"
     ]
    }
   ],
   "source": [
    "feature_fillna.info()"
   ]
  },
  {
   "cell_type": "markdown",
   "metadata": {},
   "source": [
    "## Import test data"
   ]
  },
  {
   "cell_type": "code",
   "execution_count": 7,
   "metadata": {},
   "outputs": [],
   "source": [
    "# Process Test Data\n",
    "feature_test = get_data(le=le,type='test', dropna=False, get_dummy=True, feature_split=True, values_only=True,drop_columns=drop_columns)\n",
    "base_test = get_data(le=le,type='test', dropna=False, get_dummy=True, feature_split=False, values_only=True,drop_columns=drop_columns)"
   ]
  },
  {
   "cell_type": "markdown",
   "metadata": {},
   "source": [
    "## Test dataset information"
   ]
  },
  {
   "cell_type": "code",
   "execution_count": 8,
   "metadata": {},
   "outputs": [
    {
     "name": "stdout",
     "output_type": "stream",
     "text": [
      "<class 'pandas.core.frame.DataFrame'>\n",
      "RangeIndex: 100000 entries, 0 to 99999\n",
      "Data columns (total 33 columns):\n",
      " #   Column             Non-Null Count   Dtype  \n",
      "---  ------             --------------   -----  \n",
      " 0   Name               100000 non-null  int64  \n",
      " 1   City               100000 non-null  int64  \n",
      " 2   State              100000 non-null  int64  \n",
      " 3   Zip                100000 non-null  int32  \n",
      " 4   Bank               100000 non-null  int64  \n",
      " 5   BankState          100000 non-null  int64  \n",
      " 6   NAICS              100000 non-null  int32  \n",
      " 7   ApprovalDate       100000 non-null  int64  \n",
      " 8   ApprovalFY         100000 non-null  float64\n",
      " 9   CreateJob          100000 non-null  int64  \n",
      " 10  RetainedJob        100000 non-null  int64  \n",
      " 11  FranchiseCode      100000 non-null  int32  \n",
      " 12  DisbursementDate   100000 non-null  int64  \n",
      " 13  DisbursementGross  100000 non-null  float32\n",
      " 14  GrAppv             100000 non-null  float32\n",
      " 15  SBA_Appv           100000 non-null  float32\n",
      " 16  NewExist_1         100000 non-null  uint8  \n",
      " 17  NewExist_2         100000 non-null  uint8  \n",
      " 18  UrbanRural_0       100000 non-null  uint8  \n",
      " 19  UrbanRural_1       100000 non-null  uint8  \n",
      " 20  UrbanRural_2       100000 non-null  uint8  \n",
      " 21  RevLineCr_N        100000 non-null  uint8  \n",
      " 22  RevLineCr_Y        100000 non-null  uint8  \n",
      " 23  LowDoc_N           100000 non-null  uint8  \n",
      " 24  LowDoc_Y           100000 non-null  uint8  \n",
      " 25  NoEmp_Micro        100000 non-null  uint8  \n",
      " 26  NoEmp_Small        100000 non-null  uint8  \n",
      " 27  NoEmp_Medium       100000 non-null  uint8  \n",
      " 28  NoEmp_Large        100000 non-null  uint8  \n",
      " 29  Term_Short         100000 non-null  uint8  \n",
      " 30  Term_Intermediate  100000 non-null  uint8  \n",
      " 31  Term_Long          100000 non-null  uint8  \n",
      " 32  Term_Extra Long    100000 non-null  uint8  \n",
      "dtypes: float32(3), float64(1), int32(3), int64(9), uint8(17)\n",
      "memory usage: 11.5 MB\n"
     ]
    }
   ],
   "source": [
    "feature_test.info()"
   ]
  },
  {
   "cell_type": "code",
   "execution_count": 9,
   "metadata": {},
   "outputs": [
    {
     "name": "stdout",
     "output_type": "stream",
     "text": [
      "<class 'pandas.core.frame.DataFrame'>\n",
      "RangeIndex: 100000 entries, 0 to 99999\n",
      "Data columns (total 27 columns):\n",
      " #   Column             Non-Null Count   Dtype  \n",
      "---  ------             --------------   -----  \n",
      " 0   Name               100000 non-null  int64  \n",
      " 1   City               100000 non-null  int64  \n",
      " 2   State              100000 non-null  int64  \n",
      " 3   Zip                100000 non-null  int32  \n",
      " 4   Bank               100000 non-null  int64  \n",
      " 5   BankState          100000 non-null  int64  \n",
      " 6   NAICS              100000 non-null  int32  \n",
      " 7   ApprovalDate       100000 non-null  int64  \n",
      " 8   ApprovalFY         100000 non-null  float64\n",
      " 9   Term               100000 non-null  int64  \n",
      " 10  NoEmp              100000 non-null  int64  \n",
      " 11  CreateJob          100000 non-null  int64  \n",
      " 12  RetainedJob        100000 non-null  int64  \n",
      " 13  FranchiseCode      100000 non-null  int32  \n",
      " 14  DisbursementDate   100000 non-null  int64  \n",
      " 15  DisbursementGross  100000 non-null  float32\n",
      " 16  GrAppv             100000 non-null  float32\n",
      " 17  SBA_Appv           100000 non-null  float32\n",
      " 18  NewExist_1         100000 non-null  uint8  \n",
      " 19  NewExist_2         100000 non-null  uint8  \n",
      " 20  UrbanRural_0       100000 non-null  uint8  \n",
      " 21  UrbanRural_1       100000 non-null  uint8  \n",
      " 22  UrbanRural_2       100000 non-null  uint8  \n",
      " 23  RevLineCr_N        100000 non-null  uint8  \n",
      " 24  RevLineCr_Y        100000 non-null  uint8  \n",
      " 25  LowDoc_N           100000 non-null  uint8  \n",
      " 26  LowDoc_Y           100000 non-null  uint8  \n",
      "dtypes: float32(3), float64(1), int32(3), int64(11), uint8(9)\n",
      "memory usage: 12.3 MB\n"
     ]
    }
   ],
   "source": [
    "base_test.info()"
   ]
  },
  {
   "cell_type": "markdown",
   "metadata": {},
   "source": [
    "## Data and model selection"
   ]
  },
  {
   "cell_type": "code",
   "execution_count": 10,
   "metadata": {},
   "outputs": [],
   "source": [
    "model_names = ['KNN', 'LR', 'DT', 'RF', 'GBM']\n",
    "base_dropna_f1 = []\n",
    "base_dropna_acc = []\n",
    "base_fillna_f1 = []\n",
    "base_fillna_acc = []\n",
    "feature_dropna_f1 = []\n",
    "feature_dropna_acc = []\n",
    "feature_fillna_f1 = []\n",
    "feature_fillna_acc = []\n",
    "\n",
    "def calculate_acc_and_f1(classifier, x_train, y_train, x_test, y_test):\n",
    "    classifier.fit(x_train, y_train)\n",
    "    y_pred = classifier.predict(x_test)\n",
    "    f1 = round(f1_score(y_test, y_pred, average='weighted') * 100, 2)\n",
    "    acc = round(accuracy_score(y_test, y_pred) * 100, 2)\n",
    "    return f1, acc\n",
    "\n",
    "    \n",
    "def train_single_classifier(classifier, df_in, f1_list, acc_list):\n",
    "    df_x = df_in.drop(columns='ChargeOff')\n",
    "    df_y = df_in['ChargeOff']\n",
    "    x_train, x_test, y_train, y_test = train_test_split(df_x, df_y, test_size = 0.25, random_state=0)\n",
    "    f1, acc = calculate_acc_and_f1(classifier, x_train, y_train, x_test, y_test)\n",
    "    f1_list.append(f1)\n",
    "    acc_list.append(acc)\n",
    "    \n",
    "\n",
    "def train_model(df_in, f1_list, acc_list):\n",
    "    train_single_classifier(KNeighborsClassifier(), df_in, f1_list, acc_list)\n",
    "    train_single_classifier(LogisticRegression(), df_in, f1_list, acc_list)\n",
    "    train_single_classifier(DecisionTreeClassifier(), df_in, f1_list, acc_list)\n",
    "    train_single_classifier(RandomForestClassifier(), df_in, f1_list, acc_list)\n",
    "    train_single_classifier(GradientBoostingClassifier(), df_in, f1_list, acc_list)\n",
    "    \n",
    "\n",
    "train_model(base_dropna, base_dropna_f1, base_dropna_acc)\n",
    "train_model(base_fillna, base_fillna_f1, base_fillna_acc)\n",
    "train_model(feature_dropna, feature_dropna_f1, feature_dropna_acc)\n",
    "train_model(feature_fillna, feature_fillna_f1, feature_fillna_acc)\n"
   ]
  },
  {
   "cell_type": "code",
   "execution_count": 11,
   "metadata": {},
   "outputs": [
    {
     "name": "stdout",
     "output_type": "stream",
     "text": [
      "       base_dropna_acc  base_fillna_acc  feature_dropna_acc  \\\n",
      "Model                                                         \n",
      "KNN             68.500           68.460               68.50   \n",
      "LR              63.760           61.220               63.75   \n",
      "DT              87.770           87.520               71.43   \n",
      "RF              90.160           89.620               79.34   \n",
      "GBM             90.100           89.590               77.68   \n",
      "avg             80.058           79.282               72.14   \n",
      "\n",
      "       feature_fillna_acc  acc_mean  \n",
      "Model                                \n",
      "KNN                68.460    68.480  \n",
      "LR                 61.220    62.490  \n",
      "DT                 71.900    79.660  \n",
      "RF                 79.190    84.580  \n",
      "GBM                77.870    83.810  \n",
      "avg                71.728    75.804  \n",
      "\n",
      "\n",
      "       base_dropna_f1  base_fillna_f1  feature_dropna_f1  feature_fillna_f1  \\\n",
      "Model                                                                         \n",
      "KNN             68.49          68.460             68.490             68.460   \n",
      "LR              63.03          59.950             63.010             59.950   \n",
      "DT              87.77          87.520             71.440             71.900   \n",
      "RF              90.16          89.610             79.320             79.160   \n",
      "GBM             90.10          89.590             77.680             77.860   \n",
      "avg             79.91          79.026             71.988             71.466   \n",
      "\n",
      "       F1_mean  \n",
      "Model           \n",
      "KNN     68.470  \n",
      "LR      61.480  \n",
      "DT      79.660  \n",
      "RF      84.560  \n",
      "GBM     83.810  \n",
      "avg     75.596  \n"
     ]
    }
   ],
   "source": [
    "accuracy_record = pd.DataFrame({'Model': model_names, 'base_dropna_acc': base_dropna_acc, 'base_fillna_acc': base_fillna_acc, 'feature_dropna_acc': feature_dropna_acc, 'feature_fillna_acc': feature_fillna_acc})\n",
    "# accuracy_record = pd.DataFrame({'Model': model_names, 'base_dropna_acc': base_dropna_acc, 'feature_dropna_acc': feature_dropna_acc})\n",
    "accuracy_record['acc_mean'] = accuracy_record.mean(axis=1).round(2)\n",
    "accuracy_record.set_index('Model', inplace=True)\n",
    "accuracy_record.loc['avg'] = accuracy_record.mean()\n",
    "\n",
    "F1_record = pd.DataFrame({'Model': model_names, 'base_dropna_f1': base_dropna_f1, 'base_fillna_f1': base_fillna_f1, 'feature_dropna_f1': feature_dropna_f1, 'feature_fillna_f1': feature_fillna_f1})\n",
    "# F1_record = pd.DataFrame({'Model': model_names, 'base_dropna_f1': base_dropna_f1, 'feature_dropna_f1': feature_dropna_f1})\n",
    "F1_record['F1_mean'] = F1_record.mean(axis=1).round(2)\n",
    "F1_record.set_index('Model', inplace=True)\n",
    "F1_record.loc['avg'] = F1_record.mean()\n",
    "\n",
    "print(accuracy_record)\n",
    "print('\\n')\n",
    "print(F1_record)"
   ]
  },
  {
   "cell_type": "markdown",
   "metadata": {},
   "source": [
    "## Drop columns"
   ]
  },
  {
   "cell_type": "code",
   "execution_count": 12,
   "metadata": {},
   "outputs": [],
   "source": [
    "# Process Training Data\n",
    "drop_columns = ['CreateJob','RetainedJob','City','Name','Zip','BankState']\n",
    "\n",
    "base_dropna = get_data(le=le,type='train', dropna=True, get_dummy=True, feature_split=False, values_only=True,drop_columns=drop_columns)\n",
    "base_fillna = get_data(le=le,type='train', dropna=False, get_dummy=True, feature_split=False, values_only=True,drop_columns=drop_columns)\n",
    "feature_dropna = get_data(le=le,type='train', dropna=True, get_dummy=True, feature_split=True, values_only=True,drop_columns=drop_columns)\n",
    "feature_fillna = get_data(le=le,type='train', dropna=False, get_dummy=True, feature_split=True, values_only=True,drop_columns=drop_columns)"
   ]
  },
  {
   "cell_type": "markdown",
   "metadata": {},
   "source": [
    "## Training dataset Information"
   ]
  },
  {
   "cell_type": "code",
   "execution_count": 13,
   "metadata": {},
   "outputs": [
    {
     "name": "stdout",
     "output_type": "stream",
     "text": [
      "<class 'pandas.core.frame.DataFrame'>\n",
      "Int64Index: 49808 entries, 0 to 49999\n",
      "Data columns (total 22 columns):\n",
      " #   Column             Non-Null Count  Dtype  \n",
      "---  ------             --------------  -----  \n",
      " 0   State              49808 non-null  int64  \n",
      " 1   Bank               49808 non-null  int64  \n",
      " 2   NAICS              49808 non-null  int32  \n",
      " 3   ApprovalDate       49808 non-null  int64  \n",
      " 4   ApprovalFY         49808 non-null  int16  \n",
      " 5   Term               49808 non-null  int64  \n",
      " 6   NoEmp              49808 non-null  int64  \n",
      " 7   FranchiseCode      49808 non-null  int32  \n",
      " 8   DisbursementDate   49808 non-null  int64  \n",
      " 9   DisbursementGross  49808 non-null  float32\n",
      " 10  GrAppv             49808 non-null  float32\n",
      " 11  SBA_Appv           49808 non-null  float32\n",
      " 12  ChargeOff          49808 non-null  int64  \n",
      " 13  NewExist_1         49808 non-null  uint8  \n",
      " 14  NewExist_2         49808 non-null  uint8  \n",
      " 15  UrbanRural_0       49808 non-null  uint8  \n",
      " 16  UrbanRural_1       49808 non-null  uint8  \n",
      " 17  UrbanRural_2       49808 non-null  uint8  \n",
      " 18  RevLineCr_N        49808 non-null  uint8  \n",
      " 19  RevLineCr_Y        49808 non-null  uint8  \n",
      " 20  LowDoc_N           49808 non-null  uint8  \n",
      " 21  LowDoc_Y           49808 non-null  uint8  \n",
      "dtypes: float32(3), int16(1), int32(2), int64(7), uint8(9)\n",
      "memory usage: 4.5 MB\n"
     ]
    }
   ],
   "source": [
    "base_dropna.info()"
   ]
  },
  {
   "cell_type": "code",
   "execution_count": 14,
   "metadata": {},
   "outputs": [
    {
     "name": "stdout",
     "output_type": "stream",
     "text": [
      "<class 'pandas.core.frame.DataFrame'>\n",
      "RangeIndex: 50000 entries, 0 to 49999\n",
      "Data columns (total 22 columns):\n",
      " #   Column             Non-Null Count  Dtype  \n",
      "---  ------             --------------  -----  \n",
      " 0   State              50000 non-null  int64  \n",
      " 1   Bank               50000 non-null  int64  \n",
      " 2   NAICS              50000 non-null  int32  \n",
      " 3   ApprovalDate       50000 non-null  int64  \n",
      " 4   ApprovalFY         50000 non-null  int16  \n",
      " 5   Term               50000 non-null  int64  \n",
      " 6   NoEmp              50000 non-null  int64  \n",
      " 7   FranchiseCode      50000 non-null  int32  \n",
      " 8   DisbursementDate   50000 non-null  int64  \n",
      " 9   DisbursementGross  50000 non-null  float32\n",
      " 10  GrAppv             50000 non-null  float32\n",
      " 11  SBA_Appv           50000 non-null  float32\n",
      " 12  ChargeOff          50000 non-null  int64  \n",
      " 13  NewExist_1         50000 non-null  uint8  \n",
      " 14  NewExist_2         50000 non-null  uint8  \n",
      " 15  UrbanRural_0       50000 non-null  uint8  \n",
      " 16  UrbanRural_1       50000 non-null  uint8  \n",
      " 17  UrbanRural_2       50000 non-null  uint8  \n",
      " 18  RevLineCr_N        50000 non-null  uint8  \n",
      " 19  RevLineCr_Y        50000 non-null  uint8  \n",
      " 20  LowDoc_N           50000 non-null  uint8  \n",
      " 21  LowDoc_Y           50000 non-null  uint8  \n",
      "dtypes: float32(3), int16(1), int32(2), int64(7), uint8(9)\n",
      "memory usage: 4.1 MB\n"
     ]
    }
   ],
   "source": [
    "base_fillna.info()"
   ]
  },
  {
   "cell_type": "code",
   "execution_count": 15,
   "metadata": {},
   "outputs": [
    {
     "name": "stdout",
     "output_type": "stream",
     "text": [
      "<class 'pandas.core.frame.DataFrame'>\n",
      "Int64Index: 49808 entries, 0 to 49999\n",
      "Data columns (total 28 columns):\n",
      " #   Column             Non-Null Count  Dtype  \n",
      "---  ------             --------------  -----  \n",
      " 0   State              49808 non-null  int64  \n",
      " 1   Bank               49808 non-null  int64  \n",
      " 2   NAICS              49808 non-null  int32  \n",
      " 3   ApprovalDate       49808 non-null  int64  \n",
      " 4   ApprovalFY         49808 non-null  int16  \n",
      " 5   FranchiseCode      49808 non-null  int32  \n",
      " 6   DisbursementDate   49808 non-null  int64  \n",
      " 7   DisbursementGross  49808 non-null  float32\n",
      " 8   GrAppv             49808 non-null  float32\n",
      " 9   SBA_Appv           49808 non-null  float32\n",
      " 10  ChargeOff          49808 non-null  int64  \n",
      " 11  NewExist_1         49808 non-null  uint8  \n",
      " 12  NewExist_2         49808 non-null  uint8  \n",
      " 13  UrbanRural_0       49808 non-null  uint8  \n",
      " 14  UrbanRural_1       49808 non-null  uint8  \n",
      " 15  UrbanRural_2       49808 non-null  uint8  \n",
      " 16  RevLineCr_N        49808 non-null  uint8  \n",
      " 17  RevLineCr_Y        49808 non-null  uint8  \n",
      " 18  LowDoc_N           49808 non-null  uint8  \n",
      " 19  LowDoc_Y           49808 non-null  uint8  \n",
      " 20  NoEmp_Micro        49808 non-null  uint8  \n",
      " 21  NoEmp_Small        49808 non-null  uint8  \n",
      " 22  NoEmp_Medium       49808 non-null  uint8  \n",
      " 23  NoEmp_Large        49808 non-null  uint8  \n",
      " 24  Term_Short         49808 non-null  uint8  \n",
      " 25  Term_Intermediate  49808 non-null  uint8  \n",
      " 26  Term_Long          49808 non-null  uint8  \n",
      " 27  Term_Extra Long    49808 non-null  uint8  \n",
      "dtypes: float32(3), int16(1), int32(2), int64(5), uint8(17)\n",
      "memory usage: 4.1 MB\n"
     ]
    }
   ],
   "source": [
    "feature_dropna.info()"
   ]
  },
  {
   "cell_type": "code",
   "execution_count": 16,
   "metadata": {},
   "outputs": [
    {
     "name": "stdout",
     "output_type": "stream",
     "text": [
      "<class 'pandas.core.frame.DataFrame'>\n",
      "RangeIndex: 50000 entries, 0 to 49999\n",
      "Data columns (total 28 columns):\n",
      " #   Column             Non-Null Count  Dtype  \n",
      "---  ------             --------------  -----  \n",
      " 0   State              50000 non-null  int64  \n",
      " 1   Bank               50000 non-null  int64  \n",
      " 2   NAICS              50000 non-null  int32  \n",
      " 3   ApprovalDate       50000 non-null  int64  \n",
      " 4   ApprovalFY         50000 non-null  int16  \n",
      " 5   FranchiseCode      50000 non-null  int32  \n",
      " 6   DisbursementDate   50000 non-null  int64  \n",
      " 7   DisbursementGross  50000 non-null  float32\n",
      " 8   GrAppv             50000 non-null  float32\n",
      " 9   SBA_Appv           50000 non-null  float32\n",
      " 10  ChargeOff          50000 non-null  int64  \n",
      " 11  NewExist_1         50000 non-null  uint8  \n",
      " 12  NewExist_2         50000 non-null  uint8  \n",
      " 13  UrbanRural_0       50000 non-null  uint8  \n",
      " 14  UrbanRural_1       50000 non-null  uint8  \n",
      " 15  UrbanRural_2       50000 non-null  uint8  \n",
      " 16  RevLineCr_N        50000 non-null  uint8  \n",
      " 17  RevLineCr_Y        50000 non-null  uint8  \n",
      " 18  LowDoc_N           50000 non-null  uint8  \n",
      " 19  LowDoc_Y           50000 non-null  uint8  \n",
      " 20  NoEmp_Micro        50000 non-null  uint8  \n",
      " 21  NoEmp_Small        50000 non-null  uint8  \n",
      " 22  NoEmp_Medium       50000 non-null  uint8  \n",
      " 23  NoEmp_Large        50000 non-null  uint8  \n",
      " 24  Term_Short         50000 non-null  uint8  \n",
      " 25  Term_Intermediate  50000 non-null  uint8  \n",
      " 26  Term_Long          50000 non-null  uint8  \n",
      " 27  Term_Extra Long    50000 non-null  uint8  \n",
      "dtypes: float32(3), int16(1), int32(2), int64(5), uint8(17)\n",
      "memory usage: 3.8 MB\n"
     ]
    }
   ],
   "source": [
    "feature_fillna.info()"
   ]
  },
  {
   "cell_type": "markdown",
   "metadata": {},
   "source": [
    "## Import test data"
   ]
  },
  {
   "cell_type": "code",
   "execution_count": 17,
   "metadata": {},
   "outputs": [],
   "source": [
    "# Process Test Data\n",
    "feature_test = get_data(le=le,type='test', dropna=False, get_dummy=True, feature_split=True, values_only=True,drop_columns=drop_columns)\n",
    "base_test = get_data(le=le,type='test', dropna=False, get_dummy=True, feature_split=False, values_only=True,drop_columns=drop_columns)"
   ]
  },
  {
   "cell_type": "markdown",
   "metadata": {},
   "source": [
    "## Test dataset information"
   ]
  },
  {
   "cell_type": "code",
   "execution_count": 18,
   "metadata": {},
   "outputs": [
    {
     "name": "stdout",
     "output_type": "stream",
     "text": [
      "<class 'pandas.core.frame.DataFrame'>\n",
      "RangeIndex: 100000 entries, 0 to 99999\n",
      "Data columns (total 27 columns):\n",
      " #   Column             Non-Null Count   Dtype  \n",
      "---  ------             --------------   -----  \n",
      " 0   State              100000 non-null  int64  \n",
      " 1   Bank               100000 non-null  int64  \n",
      " 2   NAICS              100000 non-null  int32  \n",
      " 3   ApprovalDate       100000 non-null  int64  \n",
      " 4   ApprovalFY         100000 non-null  float64\n",
      " 5   FranchiseCode      100000 non-null  int32  \n",
      " 6   DisbursementDate   100000 non-null  int64  \n",
      " 7   DisbursementGross  100000 non-null  float32\n",
      " 8   GrAppv             100000 non-null  float32\n",
      " 9   SBA_Appv           100000 non-null  float32\n",
      " 10  NewExist_1         100000 non-null  uint8  \n",
      " 11  NewExist_2         100000 non-null  uint8  \n",
      " 12  UrbanRural_0       100000 non-null  uint8  \n",
      " 13  UrbanRural_1       100000 non-null  uint8  \n",
      " 14  UrbanRural_2       100000 non-null  uint8  \n",
      " 15  RevLineCr_N        100000 non-null  uint8  \n",
      " 16  RevLineCr_Y        100000 non-null  uint8  \n",
      " 17  LowDoc_N           100000 non-null  uint8  \n",
      " 18  LowDoc_Y           100000 non-null  uint8  \n",
      " 19  NoEmp_Micro        100000 non-null  uint8  \n",
      " 20  NoEmp_Small        100000 non-null  uint8  \n",
      " 21  NoEmp_Medium       100000 non-null  uint8  \n",
      " 22  NoEmp_Large        100000 non-null  uint8  \n",
      " 23  Term_Short         100000 non-null  uint8  \n",
      " 24  Term_Intermediate  100000 non-null  uint8  \n",
      " 25  Term_Long          100000 non-null  uint8  \n",
      " 26  Term_Extra Long    100000 non-null  uint8  \n",
      "dtypes: float32(3), float64(1), int32(2), int64(4), uint8(17)\n",
      "memory usage: 7.3 MB\n"
     ]
    }
   ],
   "source": [
    "feature_test.info()"
   ]
  },
  {
   "cell_type": "code",
   "execution_count": 19,
   "metadata": {},
   "outputs": [
    {
     "name": "stdout",
     "output_type": "stream",
     "text": [
      "<class 'pandas.core.frame.DataFrame'>\n",
      "RangeIndex: 100000 entries, 0 to 99999\n",
      "Data columns (total 21 columns):\n",
      " #   Column             Non-Null Count   Dtype  \n",
      "---  ------             --------------   -----  \n",
      " 0   State              100000 non-null  int64  \n",
      " 1   Bank               100000 non-null  int64  \n",
      " 2   NAICS              100000 non-null  int32  \n",
      " 3   ApprovalDate       100000 non-null  int64  \n",
      " 4   ApprovalFY         100000 non-null  float64\n",
      " 5   Term               100000 non-null  int64  \n",
      " 6   NoEmp              100000 non-null  int64  \n",
      " 7   FranchiseCode      100000 non-null  int32  \n",
      " 8   DisbursementDate   100000 non-null  int64  \n",
      " 9   DisbursementGross  100000 non-null  float32\n",
      " 10  GrAppv             100000 non-null  float32\n",
      " 11  SBA_Appv           100000 non-null  float32\n",
      " 12  NewExist_1         100000 non-null  uint8  \n",
      " 13  NewExist_2         100000 non-null  uint8  \n",
      " 14  UrbanRural_0       100000 non-null  uint8  \n",
      " 15  UrbanRural_1       100000 non-null  uint8  \n",
      " 16  UrbanRural_2       100000 non-null  uint8  \n",
      " 17  RevLineCr_N        100000 non-null  uint8  \n",
      " 18  RevLineCr_Y        100000 non-null  uint8  \n",
      " 19  LowDoc_N           100000 non-null  uint8  \n",
      " 20  LowDoc_Y           100000 non-null  uint8  \n",
      "dtypes: float32(3), float64(1), int32(2), int64(6), uint8(9)\n",
      "memory usage: 8.1 MB\n"
     ]
    }
   ],
   "source": [
    "base_test.info()"
   ]
  },
  {
   "cell_type": "markdown",
   "metadata": {},
   "source": [
    "## Data and model selection"
   ]
  },
  {
   "cell_type": "code",
   "execution_count": 20,
   "metadata": {},
   "outputs": [],
   "source": [
    "model_names = ['KNN', 'LR', 'DT', 'RF', 'GBM']\n",
    "base_dropna_f1 = []\n",
    "base_dropna_acc = []\n",
    "base_fillna_f1 = []\n",
    "base_fillna_acc = []\n",
    "feature_dropna_f1 = []\n",
    "feature_dropna_acc = []\n",
    "feature_fillna_f1 = []\n",
    "feature_fillna_acc = []\n",
    "\n",
    "def calculate_acc_and_f1(classifier, x_train, y_train, x_test, y_test):\n",
    "    classifier.fit(x_train, y_train)\n",
    "    y_pred = classifier.predict(x_test)\n",
    "    f1 = round(f1_score(y_test, y_pred, average='weighted') * 100, 2)\n",
    "    acc = round(accuracy_score(y_test, y_pred) * 100, 2)\n",
    "    return f1, acc\n",
    "\n",
    "    \n",
    "def train_single_classifier(classifier, df_in, f1_list, acc_list):\n",
    "    df_x = df_in.drop(columns='ChargeOff')\n",
    "    df_y = df_in['ChargeOff']\n",
    "    x_train, x_test, y_train, y_test = train_test_split(df_x, df_y, test_size = 0.25, random_state=0)\n",
    "    f1, acc = calculate_acc_and_f1(classifier, x_train, y_train, x_test, y_test)\n",
    "    f1_list.append(f1)\n",
    "    acc_list.append(acc)\n",
    "    \n",
    "\n",
    "def train_model(df_in, f1_list, acc_list):\n",
    "    train_single_classifier(KNeighborsClassifier(), df_in, f1_list, acc_list)\n",
    "    train_single_classifier(LogisticRegression(), df_in, f1_list, acc_list)\n",
    "    train_single_classifier(DecisionTreeClassifier(), df_in, f1_list, acc_list)\n",
    "    train_single_classifier(RandomForestClassifier(), df_in, f1_list, acc_list)\n",
    "    train_single_classifier(GradientBoostingClassifier(), df_in, f1_list, acc_list)\n",
    "    \n",
    "\n",
    "train_model(base_dropna, base_dropna_f1, base_dropna_acc)\n",
    "train_model(base_fillna, base_fillna_f1, base_fillna_acc)\n",
    "train_model(feature_dropna, feature_dropna_f1, feature_dropna_acc)\n",
    "train_model(feature_fillna, feature_fillna_f1, feature_fillna_acc)\n"
   ]
  },
  {
   "cell_type": "code",
   "execution_count": 21,
   "metadata": {},
   "outputs": [
    {
     "name": "stdout",
     "output_type": "stream",
     "text": [
      "       base_dropna_acc  base_fillna_acc  feature_dropna_acc  \\\n",
      "Model                                                         \n",
      "KNN             68.360           68.420              68.360   \n",
      "LR              63.280           61.180              63.280   \n",
      "DT              88.330           87.920              71.320   \n",
      "RF              89.920           89.700              78.400   \n",
      "GBM             90.090           89.820              77.710   \n",
      "avg             79.996           79.408              71.814   \n",
      "\n",
      "       feature_fillna_acc  acc_mean  \n",
      "Model                                \n",
      "KNN                 68.42     68.39  \n",
      "LR                  61.18     62.23  \n",
      "DT                  71.10     79.67  \n",
      "RF                  78.18     84.05  \n",
      "GBM                 77.42     83.76  \n",
      "avg                 71.26     75.62  \n",
      "\n",
      "\n",
      "       base_dropna_f1  base_fillna_f1  feature_dropna_f1  feature_fillna_f1  \\\n",
      "Model                                                                         \n",
      "KNN            68.360           68.42              68.36             68.420   \n",
      "LR             62.380           59.90              62.38             59.900   \n",
      "DT             88.330           87.92              71.32             71.100   \n",
      "RF             89.920           89.69              78.38             78.150   \n",
      "GBM            90.090           89.82              77.71             77.410   \n",
      "avg            79.816           79.15              71.63             70.996   \n",
      "\n",
      "       F1_mean  \n",
      "Model           \n",
      "KNN      68.39  \n",
      "LR       61.14  \n",
      "DT       79.67  \n",
      "RF       84.04  \n",
      "GBM      83.76  \n",
      "avg      75.40  \n"
     ]
    }
   ],
   "source": [
    "accuracy_record = pd.DataFrame({'Model': model_names, 'base_dropna_acc': base_dropna_acc, 'base_fillna_acc': base_fillna_acc, 'feature_dropna_acc': feature_dropna_acc, 'feature_fillna_acc': feature_fillna_acc})\n",
    "# accuracy_record = pd.DataFrame({'Model': model_names, 'base_dropna_acc': base_dropna_acc, 'feature_dropna_acc': feature_dropna_acc})\n",
    "accuracy_record['acc_mean'] = accuracy_record.mean(axis=1).round(2)\n",
    "accuracy_record.set_index('Model', inplace=True)\n",
    "accuracy_record.loc['avg'] = accuracy_record.mean()\n",
    "\n",
    "F1_record = pd.DataFrame({'Model': model_names, 'base_dropna_f1': base_dropna_f1, 'base_fillna_f1': base_fillna_f1, 'feature_dropna_f1': feature_dropna_f1, 'feature_fillna_f1': feature_fillna_f1})\n",
    "# F1_record = pd.DataFrame({'Model': model_names, 'base_dropna_f1': base_dropna_f1, 'feature_dropna_f1': feature_dropna_f1})\n",
    "F1_record['F1_mean'] = F1_record.mean(axis=1).round(2)\n",
    "F1_record.set_index('Model', inplace=True)\n",
    "F1_record.loc['avg'] = F1_record.mean()\n",
    "\n",
    "print(accuracy_record)\n",
    "print('\\n')\n",
    "print(F1_record)"
   ]
  }
 ],
 "metadata": {
  "kernelspec": {
   "display_name": "Python 3",
   "language": "python",
   "name": "python3"
  },
  "language_info": {
   "codemirror_mode": {
    "name": "ipython",
    "version": 3
   },
   "file_extension": ".py",
   "mimetype": "text/x-python",
   "name": "python",
   "nbconvert_exporter": "python",
   "pygments_lexer": "ipython3",
   "version": "3.7.4"
  }
 },
 "nbformat": 4,
 "nbformat_minor": 4
}
