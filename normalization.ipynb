{
 "cells": [
  {
   "cell_type": "markdown",
   "metadata": {},
   "source": [
    "# CS 5228\n"
   ]
  },
  {
   "cell_type": "markdown",
   "metadata": {},
   "source": [
    "## Import Data"
   ]
  },
  {
   "cell_type": "code",
   "execution_count": 7,
   "metadata": {},
   "outputs": [],
   "source": [
    "# All Imports\n",
    "from utils import *\n",
    "import pandas as pd\n",
    "import locale\n",
    "import numpy as np\n",
    "import seaborn as sb\n",
    "import matplotlib.pyplot as plt\n",
    "%matplotlib inline\n",
    "from sklearn import preprocessing\n",
    "from sklearn.pipeline import Pipeline\n",
    "from sklearn.compose import ColumnTransformer\n",
    "\n",
    "# model training\n",
    "from sklearn.model_selection import train_test_split\n",
    "from sklearn.model_selection import GridSearchCV\n",
    "\n",
    "# model evaluation\n",
    "from sklearn.metrics import confusion_matrix\n",
    "from sklearn.metrics import f1_score\n",
    "from sklearn.metrics import accuracy_score\n",
    "\n",
    "# classifiers\n",
    "from sklearn.naive_bayes import GaussianNB # naive bayes\n",
    "from sklearn.neighbors import KNeighborsClassifier # KNN\n",
    "from sklearn.linear_model import LogisticRegression # logistic regression\n",
    "from sklearn.tree import DecisionTreeClassifier # decision Tree\n",
    "from sklearn.ensemble import RandomForestClassifier \n",
    "from sklearn.ensemble import GradientBoostingClassifier\n",
    "\n",
    "# ignore warnings\n",
    "import warnings\n",
    "warnings.filterwarnings('ignore')\n",
    "locale.setlocale(locale.LC_ALL,'')\n",
    "pd.set_option('display.max_columns', None)"
   ]
  },
  {
   "cell_type": "code",
   "execution_count": 2,
   "metadata": {},
   "outputs": [],
   "source": [
    "# Process Training Data\n",
    "drop_columns = []\n",
    "le = generate_labels()\n",
    "\n",
    "base_dropna = get_data(le=le,type='train', dropna=True, get_dummy=True, feature_split=False, values_only=True,drop_columns=drop_columns)"
   ]
  },
  {
   "cell_type": "code",
   "execution_count": 3,
   "metadata": {},
   "outputs": [],
   "source": [
    "# Process Test Data\n",
    "base_test = get_data(le=le,type='test', dropna=False, get_dummy=True, feature_split=False, values_only=True,drop_columns=drop_columns)"
   ]
  },
  {
   "cell_type": "code",
   "execution_count": null,
   "metadata": {},
   "outputs": [],
   "source": [
    "base_dropna_x = base_dropna.drop(columns='ChargeOff')\n",
    "base_dropna_y = base_dropna['ChargeOff']"
   ]
  },
  {
   "cell_type": "markdown",
   "metadata": {},
   "source": [
    "## Scale Only Selected Columns"
   ]
  },
  {
   "cell_type": "code",
   "execution_count": 9,
   "metadata": {},
   "outputs": [
    {
     "name": "stdout",
     "output_type": "stream",
     "text": [
      "Best Accuracy : 0.9316777391271854\n"
     ]
    }
   ],
   "source": [
    "\n",
    "# Create scaler\n",
    "scale_columns = ['DisbursementGross', 'GrAppv', 'SBA_Appv', 'Term', 'NoEmp']\n",
    "\n",
    "minmax_transformer = Pipeline(steps=[\n",
    "        ('minmax', preprocessing.MinMaxScaler())])\n",
    "\n",
    "scaler = ColumnTransformer(\n",
    "        remainder='passthrough', #passthough features not listed\n",
    "        transformers=[\n",
    "            ('mm', minmax_transformer , scale_columns)\n",
    "        ])\n",
    "\n",
    "# Scale\n",
    "scaler.fit(base_dropna_x)\n",
    "\n",
    "base_dropna_x_scaled = scaler.transform(base_dropna_x)\n",
    "base_dropna_x_normalized = pd.DataFrame(base_dropna_x_scaled, columns=base_dropna_x.columns)\n",
    "\n",
    "# Train Model\n",
    "clf = GradientBoostingClassifier()\n",
    "param_grid = {'learning_rate': [0.5],\n",
    "              'loss': ['exponential'],\n",
    "              'max_depth':[8],\n",
    "              'max_features':[None],\n",
    "              'n_estimators':[310],\n",
    "              'min_samples_split':[2],\n",
    "              \n",
    "             }\n",
    "model = GridSearchCV(clf, param_grid,scoring = 'accuracy', cv=5)\n",
    "model.fit(base_dropna_x_normalized, base_dropna_y)\n",
    "\n",
    "print(\"Best Accuracy :\",model.best_score_)\n",
    "\n",
    "\n",
    "# Prediction\n",
    "x_scaled = scaler.transform(base_test)\n",
    "test_normalized = pd.DataFrame(x_scaled, columns=base_test.columns)\n",
    "\n",
    "test_pred = model.predict(test_normalized)\n",
    "pd.DataFrame(test_pred).to_csv('y_pred.csv',header=['ChargeOff'],index_label=\"Id\")"
   ]
  },
  {
   "cell_type": "markdown",
   "metadata": {},
   "source": [
    "## Scale all columns"
   ]
  },
  {
   "cell_type": "code",
   "execution_count": 10,
   "metadata": {},
   "outputs": [
    {
     "name": "stdout",
     "output_type": "stream",
     "text": [
      "Best Accuracy : 0.932059196697274\n"
     ]
    }
   ],
   "source": [
    "# Create scaler\n",
    "scale_columns = base_dropna_x.columns\n",
    "\n",
    "minmax_transformer = Pipeline(steps=[\n",
    "        ('minmax', preprocessing.MinMaxScaler())])\n",
    "\n",
    "scaler = ColumnTransformer(\n",
    "        remainder='passthrough', #passthough features not listed\n",
    "        transformers=[\n",
    "            ('mm', minmax_transformer , scale_columns)\n",
    "        ])\n",
    "\n",
    "# Scale\n",
    "scaler.fit(base_dropna_x)\n",
    "\n",
    "base_dropna_x_scaled = scaler.transform(base_dropna_x)\n",
    "base_dropna_x_normalized = pd.DataFrame(base_dropna_x_scaled, columns=base_dropna_x.columns)\n",
    "\n",
    "# Train Model\n",
    "clf = GradientBoostingClassifier()\n",
    "param_grid = {'learning_rate': [0.5],\n",
    "              'loss': ['exponential'],\n",
    "              'max_depth':[8],\n",
    "              'max_features':[None],\n",
    "              'n_estimators':[310],\n",
    "              'min_samples_split':[2],\n",
    "              \n",
    "             }\n",
    "model = GridSearchCV(clf, param_grid,scoring = 'accuracy', cv=5)\n",
    "model.fit(base_dropna_x_normalized, base_dropna_y)\n",
    "\n",
    "print(\"Best Accuracy :\",model.best_score_)\n",
    "\n",
    "\n",
    "# Prediction\n",
    "x_scaled = scaler.transform(base_test)\n",
    "test_normalized = pd.DataFrame(x_scaled, columns=base_test.columns)\n",
    "\n",
    "test_pred = model.predict(test_normalized)\n",
    "pd.DataFrame(test_pred).to_csv('y_pred.csv',header=['ChargeOff'],index_label=\"Id\")"
   ]
  },
  {
   "cell_type": "markdown",
   "metadata": {},
   "source": [
    "## Robust Scaler"
   ]
  },
  {
   "cell_type": "code",
   "execution_count": null,
   "metadata": {},
   "outputs": [],
   "source": [
    "# Create scaler\n",
    "scale_columns = base_dropna_x.columns\n",
    "\n",
    "robust_transformer = Pipeline(steps=[\n",
    "        ('robust', preprocessing.RobustScaler())])\n",
    "\n",
    "scaler = ColumnTransformer(\n",
    "        remainder='passthrough', #passthough features not listed\n",
    "        transformers=[\n",
    "            ('rb', robust_transformer , scale_columns)\n",
    "        ])\n",
    "\n",
    "# Scale\n",
    "scaler.fit(base_dropna_x)\n",
    "\n",
    "base_dropna_x_scaled = scaler.transform(base_dropna_x)\n",
    "base_dropna_x_normalized = pd.DataFrame(base_dropna_x_scaled, columns=base_dropna_x.columns)\n",
    "\n",
    "\n",
    "# Train Model\n",
    "clf = GradientBoostingClassifier()\n",
    "param_grid = {'learning_rate': [0.5],\n",
    "              'loss': ['exponential'],\n",
    "              'max_depth':[8],\n",
    "              'max_features':[None],\n",
    "              'n_estimators':[310],\n",
    "              'min_samples_split':[2],\n",
    "              \n",
    "             }\n",
    "model = GridSearchCV(clf, param_grid,scoring = 'accuracy', cv=5)\n",
    "model.fit(base_dropna_x_normalized, base_dropna_y)\n",
    "\n",
    "print(\"Best Accuracy :\",model.best_score_)\n",
    "\n",
    "\n",
    "# Prediction\n",
    "x_scaled = scaler.transform(base_test)\n",
    "test_normalized = pd.DataFrame(x_scaled, columns=base_test.columns)\n",
    "\n",
    "test_pred = model.predict(test_normalized)\n",
    "pd.DataFrame(test_pred).to_csv('y_pred.csv',header=['ChargeOff'],index_label=\"Id\")\n",
    "\n",
    "# Best Accuracy : 0.9311757915698567"
   ]
  },
  {
   "cell_type": "markdown",
   "metadata": {},
   "source": [
    "## Standard Scaler"
   ]
  },
  {
   "cell_type": "code",
   "execution_count": 19,
   "metadata": {},
   "outputs": [
    {
     "name": "stdout",
     "output_type": "stream",
     "text": [
      "Best Accuracy : 0.9320391445932451\n"
     ]
    }
   ],
   "source": [
    "# Create scaler\n",
    "scale_columns = base_dropna_x.columns\n",
    "\n",
    "standard_transformer = Pipeline(steps=[\n",
    "        ('standard', preprocessing.StandardScaler())])\n",
    "\n",
    "scaler = ColumnTransformer(\n",
    "        remainder='passthrough', #passthough features not listed\n",
    "        transformers=[\n",
    "            ('sd', standard_transformer , scale_columns)\n",
    "        ])\n",
    "\n",
    "# Scale\n",
    "scaler.fit(base_dropna_x)\n",
    "\n",
    "base_dropna_x_scaled = scaler.transform(base_dropna_x)\n",
    "base_dropna_x_normalized = pd.DataFrame(base_dropna_x_scaled, columns=base_dropna_x.columns)\n",
    "\n",
    "\n",
    "# Train Model\n",
    "clf = GradientBoostingClassifier()\n",
    "param_grid = {'learning_rate': [0.5],\n",
    "              'loss': ['exponential'],\n",
    "              'max_depth':[8],\n",
    "              'max_features':[None],\n",
    "              'n_estimators':[310],\n",
    "              'min_samples_split':[2],\n",
    "              \n",
    "             }\n",
    "model = GridSearchCV(clf, param_grid,scoring = 'accuracy', cv=5)\n",
    "model.fit(base_dropna_x_normalized, base_dropna_y)\n",
    "\n",
    "\n",
    "print(\"Best Accuracy :\",model.best_score_)\n",
    "\n",
    "\n",
    "# Prediction\n",
    "x_scaled = scaler.transform(base_test)\n",
    "test_normalized = pd.DataFrame(x_scaled, columns=base_test.columns)\n",
    "\n",
    "test_pred = model.predict(test_normalized)\n",
    "pd.DataFrame(test_pred).to_csv('y_pred.csv',header=['ChargeOff'],index_label=\"Id\")\n"
   ]
  },
  {
   "cell_type": "markdown",
   "metadata": {},
   "source": [
    "## PowerTransformer"
   ]
  },
  {
   "cell_type": "code",
   "execution_count": 21,
   "metadata": {},
   "outputs": [
    {
     "name": "stdout",
     "output_type": "stream",
     "text": [
      "Best Accuracy : 0.9317379458265069\n"
     ]
    }
   ],
   "source": [
    "# Create scaler\n",
    "scale_columns = base_dropna_x.columns\n",
    "\n",
    "power_transformer = Pipeline(steps=[\n",
    "        ('power', preprocessing.PowerTransformer())])\n",
    "\n",
    "scaler = ColumnTransformer(\n",
    "        remainder='passthrough', #passthough features not listed\n",
    "        transformers=[\n",
    "            ('pt', power_transformer , scale_columns)\n",
    "        ])\n",
    "\n",
    "# Scale\n",
    "scaler.fit(base_dropna_x)\n",
    "\n",
    "base_dropna_x_scaled = scaler.transform(base_dropna_x)\n",
    "base_dropna_x_normalized = pd.DataFrame(base_dropna_x_scaled, columns=base_dropna_x.columns)\n",
    "\n",
    "\n",
    "# Train Model\n",
    "clf = GradientBoostingClassifier()\n",
    "param_grid = {'learning_rate': [0.5],\n",
    "              'loss': ['exponential'],\n",
    "              'max_depth':[8],\n",
    "              'max_features':[None],\n",
    "              'n_estimators':[310],\n",
    "              'min_samples_split':[2],\n",
    "              \n",
    "             }\n",
    "model = GridSearchCV(clf, param_grid,scoring = 'accuracy', cv=5)\n",
    "model.fit(base_dropna_x_normalized, base_dropna_y)\n",
    "\n",
    "print(\"Best Accuracy :\",model.best_score_)\n",
    "\n",
    "\n",
    "# Prediction\n",
    "x_scaled = scaler.transform(base_test)\n",
    "test_normalized = pd.DataFrame(x_scaled, columns=base_test.columns)\n",
    "\n",
    "test_pred = model.predict(test_normalized)\n",
    "pd.DataFrame(test_pred).to_csv('y_pred.csv',header=['ChargeOff'],index_label=\"Id\")\n"
   ]
  },
  {
   "cell_type": "markdown",
   "metadata": {},
   "source": [
    "## QuantileTransformer (Gaussian output)¶"
   ]
  },
  {
   "cell_type": "code",
   "execution_count": 22,
   "metadata": {},
   "outputs": [
    {
     "name": "stdout",
     "output_type": "stream",
     "text": [
      "Best Accuracy : 0.9312360244705404\n"
     ]
    }
   ],
   "source": [
    "# Create scaler\n",
    "scale_columns = base_dropna_x.columns\n",
    "\n",
    "quantile_gaussian_transformer = Pipeline(steps=[\n",
    "        ('quantileg', preprocessing.QuantileTransformer(output_distribution='normal'))])\n",
    "\n",
    "scaler = ColumnTransformer(\n",
    "        remainder='passthrough', #passthough features not listed\n",
    "        transformers=[\n",
    "            ('qg', quantile_gaussian_transformer , scale_columns)\n",
    "        ])\n",
    "\n",
    "# Scale\n",
    "scaler.fit(base_dropna_x)\n",
    "\n",
    "base_dropna_x_scaled = scaler.transform(base_dropna_x)\n",
    "base_dropna_x_normalized = pd.DataFrame(base_dropna_x_scaled, columns=base_dropna_x.columns)\n",
    "\n",
    "\n",
    "# Train Model\n",
    "clf = GradientBoostingClassifier()\n",
    "param_grid = {'learning_rate': [0.5],\n",
    "              'loss': ['exponential'],\n",
    "              'max_depth':[8],\n",
    "              'max_features':[None],\n",
    "              'n_estimators':[310],\n",
    "              'min_samples_split':[2],\n",
    "              \n",
    "             }\n",
    "model = GridSearchCV(clf, param_grid,scoring = 'accuracy', cv=5)\n",
    "model.fit(base_dropna_x_normalized, base_dropna_y)\n",
    "\n",
    "print(\"Best Accuracy :\",model.best_score_)\n",
    "\n",
    "\n",
    "# Prediction\n",
    "x_scaled = scaler.transform(base_test)\n",
    "test_normalized = pd.DataFrame(x_scaled, columns=base_test.columns)\n",
    "\n",
    "test_pred = model.predict(test_normalized)\n",
    "pd.DataFrame(test_pred).to_csv('y_pred.csv',header=['ChargeOff'],index_label=\"Id\")\n"
   ]
  },
  {
   "cell_type": "markdown",
   "metadata": {},
   "source": [
    "## QuantileTransformer (uniform output)¶"
   ]
  },
  {
   "cell_type": "code",
   "execution_count": 25,
   "metadata": {},
   "outputs": [
    {
     "name": "stdout",
     "output_type": "stream",
     "text": [
      "Best Accuracy : 0.9318182489706242\n"
     ]
    }
   ],
   "source": [
    "# Create scaler\n",
    "scale_columns = base_dropna_x.columns\n",
    "\n",
    "quantile_uniform_transformer = Pipeline(steps=[\n",
    "        ('quantileu', preprocessing.QuantileTransformer())])\n",
    "\n",
    "scaler = ColumnTransformer(\n",
    "        remainder='passthrough', #passthough features not listed\n",
    "        transformers=[\n",
    "            ('qu', quantile_uniform_transformer , scale_columns)\n",
    "        ])\n",
    "\n",
    "# Scale\n",
    "scaler.fit(base_dropna_x)\n",
    "\n",
    "base_dropna_x_scaled = scaler.transform(base_dropna_x)\n",
    "base_dropna_x_normalized = pd.DataFrame(base_dropna_x_scaled, columns=base_dropna_x.columns)\n",
    "\n",
    "\n",
    "# Train Model\n",
    "clf = GradientBoostingClassifier()\n",
    "param_grid = {'learning_rate': [0.5],\n",
    "              'loss': ['exponential'],\n",
    "              'max_depth':[8],\n",
    "              'max_features':[None],\n",
    "              'n_estimators':[310],\n",
    "              'min_samples_split':[2],\n",
    "              \n",
    "             }\n",
    "model = GridSearchCV(clf, param_grid,scoring = 'accuracy', cv=5)\n",
    "model.fit(base_dropna_x_normalized, base_dropna_y)\n",
    "\n",
    "print(\"Best Accuracy :\",model.best_score_)\n",
    "\n",
    "\n",
    "# Prediction\n",
    "x_scaled = scaler.transform(base_test)\n",
    "test_normalized = pd.DataFrame(x_scaled, columns=base_test.columns)\n",
    "\n",
    "test_pred = model.predict(test_normalized)\n",
    "pd.DataFrame(test_pred).to_csv('y_pred.csv',header=['ChargeOff'],index_label=\"Id\")\n"
   ]
  },
  {
   "cell_type": "code",
   "execution_count": null,
   "metadata": {},
   "outputs": [],
   "source": []
  }
 ],
 "metadata": {
  "kernelspec": {
   "display_name": "Python 3",
   "language": "python",
   "name": "python3"
  },
  "language_info": {
   "codemirror_mode": {
    "name": "ipython",
    "version": 3
   },
   "file_extension": ".py",
   "mimetype": "text/x-python",
   "name": "python",
   "nbconvert_exporter": "python",
   "pygments_lexer": "ipython3",
   "version": "3.7.4"
  }
 },
 "nbformat": 4,
 "nbformat_minor": 4
}
