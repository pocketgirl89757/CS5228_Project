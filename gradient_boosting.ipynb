{
 "cells": [
  {
   "cell_type": "markdown",
   "metadata": {},
   "source": [
    "# CS5228 - Team pandas - Gradient Boosting Fine Tuning\n",
    "\n",
    "A0105650R - Wang Gejing \n",
    "\n",
    "A0198889R - Chen Ningshuang \n",
    "\n",
    "A0210996X - Zhang Hao "
   ]
  },
  {
   "cell_type": "markdown",
   "metadata": {},
   "source": [
    "## Import Libraries"
   ]
  },
  {
   "cell_type": "code",
   "execution_count": 4,
   "metadata": {},
   "outputs": [],
   "source": [
    "# All Imports\n",
    "from utils import *\n",
    "import pandas as pd\n",
    "import locale\n",
    "import numpy as np\n",
    "import seaborn as sb\n",
    "import matplotlib.pyplot as plt\n",
    "%matplotlib inline\n",
    "from sklearn import preprocessing\n",
    "\n",
    "# model training\n",
    "from sklearn.model_selection import train_test_split\n",
    "from sklearn.model_selection import GridSearchCV\n",
    "\n",
    "# model evaluation\n",
    "from sklearn.metrics import confusion_matrix\n",
    "from sklearn.metrics import f1_score\n",
    "from sklearn.metrics import accuracy_score\n",
    "\n",
    "# classifiers\n",
    "from sklearn.naive_bayes import GaussianNB # naive bayes\n",
    "from sklearn.neighbors import KNeighborsClassifier # KNN\n",
    "from sklearn.linear_model import LogisticRegression # logistic regression\n",
    "from sklearn.tree import DecisionTreeClassifier # decision Tree\n",
    "from sklearn.ensemble import RandomForestClassifier \n",
    "from sklearn.ensemble import GradientBoostingClassifier\n",
    "from sklearn.externals.joblib import parallel_backend\n",
    "\n",
    "# ignore warnings\n",
    "import warnings\n",
    "warnings.filterwarnings('ignore')\n",
    "locale.setlocale(locale.LC_ALL,'')\n",
    "pd.set_option('display.max_columns', None)"
   ]
  },
  {
   "cell_type": "markdown",
   "metadata": {},
   "source": [
    "## Load training and testing data"
   ]
  },
  {
   "cell_type": "code",
   "execution_count": 5,
   "metadata": {},
   "outputs": [],
   "source": [
    "drop_columns = []\n",
    "le = generate_labels()\n",
    "scaler = generate_scaler(le, preprocessing.MinMaxScaler())\n",
    "\n",
    "base_dropna = get_data(scaler=scaler,le=le,type='train', dropna=True, get_dummy=True, feature_split=False, values_only=True,drop_columns=drop_columns)\n",
    "base_test = get_data(scaler=scaler,le=le,type='test', dropna=False, get_dummy=True, feature_split=False, values_only=True,drop_columns=drop_columns)"
   ]
  },
  {
   "cell_type": "markdown",
   "metadata": {},
   "source": [
    "## Fine tune Gradient Boostiing Classifier - Generate 9 Outputs for Voting"
   ]
  },
  {
   "cell_type": "code",
   "execution_count": 6,
   "metadata": {},
   "outputs": [
    {
     "name": "stdout",
     "output_type": "stream",
     "text": [
      "Fitting 5 folds for each of 1 candidates, totalling 5 fits\n",
      "[CV] learning_rate=0.19, loss=exponential, max_depth=9, max_features=None, min_samples_leaf=2, min_samples_split=5, n_estimators=820, random_state=41, subsample=0.9 \n",
      "[CV] learning_rate=0.19, loss=exponential, max_depth=9, max_features=None, min_samples_leaf=2, min_samples_split=5, n_estimators=820, random_state=41, subsample=0.9 \n",
      "[CV] learning_rate=0.19, loss=exponential, max_depth=9, max_features=None, min_samples_leaf=2, min_samples_split=5, n_estimators=820, random_state=41, subsample=0.9 \n",
      "[CV] learning_rate=0.19, loss=exponential, max_depth=9, max_features=None, min_samples_leaf=2, min_samples_split=5, n_estimators=820, random_state=41, subsample=0.9 \n",
      "[CV] learning_rate=0.19, loss=exponential, max_depth=9, max_features=None, min_samples_leaf=2, min_samples_split=5, n_estimators=820, random_state=41, subsample=0.9 \n"
     ]
    },
    {
     "name": "stderr",
     "output_type": "stream",
     "text": [
      "[Parallel(n_jobs=-1)]: Using backend ThreadingBackend with 8 concurrent workers.\n"
     ]
    },
    {
     "name": "stdout",
     "output_type": "stream",
     "text": [
      "[CV]  learning_rate=0.19, loss=exponential, max_depth=9, max_features=None, min_samples_leaf=2, min_samples_split=5, n_estimators=820, random_state=41, subsample=0.9, total= 4.6min\n",
      "[CV]  learning_rate=0.19, loss=exponential, max_depth=9, max_features=None, min_samples_leaf=2, min_samples_split=5, n_estimators=820, random_state=41, subsample=0.9, total= 4.6min\n"
     ]
    },
    {
     "name": "stderr",
     "output_type": "stream",
     "text": [
      "[Parallel(n_jobs=-1)]: Done   2 out of   5 | elapsed:  4.6min remaining:  6.9min\n"
     ]
    },
    {
     "name": "stdout",
     "output_type": "stream",
     "text": [
      "[CV]  learning_rate=0.19, loss=exponential, max_depth=9, max_features=None, min_samples_leaf=2, min_samples_split=5, n_estimators=820, random_state=41, subsample=0.9, total= 4.8min\n",
      "[CV]  learning_rate=0.19, loss=exponential, max_depth=9, max_features=None, min_samples_leaf=2, min_samples_split=5, n_estimators=820, random_state=41, subsample=0.9, total= 4.8min\n",
      "[CV]  learning_rate=0.19, loss=exponential, max_depth=9, max_features=None, min_samples_leaf=2, min_samples_split=5, n_estimators=820, random_state=41, subsample=0.9, total= 4.8min\n"
     ]
    },
    {
     "name": "stderr",
     "output_type": "stream",
     "text": [
      "[Parallel(n_jobs=-1)]: Done   5 out of   5 | elapsed:  4.8min remaining:    0.0s\n",
      "[Parallel(n_jobs=-1)]: Done   5 out of   5 | elapsed:  4.8min finished\n"
     ]
    },
    {
     "name": "stdout",
     "output_type": "stream",
     "text": [
      "Best Accuracy : 0.9343078459717049\n",
      "Best Parameter:  {'learning_rate': 0.19, 'loss': 'exponential', 'max_depth': 9, 'max_features': None, 'min_samples_leaf': 2, 'min_samples_split': 5, 'n_estimators': 820, 'random_state': 41, 'subsample': 0.9}\n"
     ]
    }
   ],
   "source": [
    "clf = GradientBoostingClassifier()\n",
    "param_grid = {'learning_rate': [0.19],\n",
    "              'loss': ['exponential'],\n",
    "              'max_depth':[9],\n",
    "              'max_features':[None],\n",
    "              'n_estimators': [820],\n",
    "              'min_samples_split': [5],\n",
    "              'subsample': [0.9],\n",
    "              'min_samples_leaf': [2],\n",
    "              'random_state': [41]}\n",
    "model = GridSearchCV(clf, param_grid,scoring = 'accuracy', verbose=2, n_jobs=-1)\n",
    "with parallel_backend('threading'):\n",
    "    model.fit(base_dropna.drop(columns='ChargeOff'), base_dropna['ChargeOff'])\n",
    "\n",
    "# Validation\n",
    "print(\"Best Accuracy :\",model.best_score_)\n",
    "print(\"Best Parameter: \", model.best_params_)\n",
    "\n",
    "# Prediction\n",
    "test_pred = model.predict(base_test)\n",
    "pd.DataFrame(test_pred).to_csv('y_pred_1.csv',header=['ChargeOff'],index_label=\"Id\")"
   ]
  },
  {
   "cell_type": "code",
   "execution_count": 7,
   "metadata": {},
   "outputs": [
    {
     "name": "stdout",
     "output_type": "stream",
     "text": [
      "Fitting 5 folds for each of 1 candidates, totalling 5 fits\n",
      "[CV] learning_rate=0.19, loss=exponential, max_depth=9, max_features=None, min_samples_leaf=2, min_samples_split=5, n_estimators=820, random_state=57, subsample=0.9 [CV] learning_rate=0.19, loss=exponential, max_depth=9, max_features=None, min_samples_leaf=2, min_samples_split=5, n_estimators=820, random_state=57, subsample=0.9 \n",
      "[CV] learning_rate=0.19, loss=exponential, max_depth=9, max_features=None, min_samples_leaf=2, min_samples_split=5, n_estimators=820, random_state=57, subsample=0.9 \n",
      "[CV] learning_rate=0.19, loss=exponential, max_depth=9, max_features=None, min_samples_leaf=2, min_samples_split=5, n_estimators=820, random_state=57, subsample=0.9 \n",
      "[CV] learning_rate=0.19, loss=exponential, max_depth=9, max_features=None, min_samples_leaf=2, min_samples_split=5, n_estimators=820, random_state=57, subsample=0.9 \n",
      "\n"
     ]
    },
    {
     "name": "stderr",
     "output_type": "stream",
     "text": [
      "[Parallel(n_jobs=-1)]: Using backend ThreadingBackend with 8 concurrent workers.\n"
     ]
    },
    {
     "name": "stdout",
     "output_type": "stream",
     "text": [
      "[CV]  learning_rate=0.19, loss=exponential, max_depth=9, max_features=None, min_samples_leaf=2, min_samples_split=5, n_estimators=820, random_state=57, subsample=0.9, total= 4.7min\n",
      "[CV]  learning_rate=0.19, loss=exponential, max_depth=9, max_features=None, min_samples_leaf=2, min_samples_split=5, n_estimators=820, random_state=57, subsample=0.9, total= 4.7min\n"
     ]
    },
    {
     "name": "stderr",
     "output_type": "stream",
     "text": [
      "[Parallel(n_jobs=-1)]: Done   2 out of   5 | elapsed:  4.7min remaining:  7.0min\n"
     ]
    },
    {
     "name": "stdout",
     "output_type": "stream",
     "text": [
      "[CV]  learning_rate=0.19, loss=exponential, max_depth=9, max_features=None, min_samples_leaf=2, min_samples_split=5, n_estimators=820, random_state=57, subsample=0.9, total= 4.7min\n",
      "[CV]  learning_rate=0.19, loss=exponential, max_depth=9, max_features=None, min_samples_leaf=2, min_samples_split=5, n_estimators=820, random_state=57, subsample=0.9, total= 4.7min\n",
      "[CV]  learning_rate=0.19, loss=exponential, max_depth=9, max_features=None, min_samples_leaf=2, min_samples_split=5, n_estimators=820, random_state=57, subsample=0.9, total= 4.7min\n"
     ]
    },
    {
     "name": "stderr",
     "output_type": "stream",
     "text": [
      "[Parallel(n_jobs=-1)]: Done   5 out of   5 | elapsed:  4.7min remaining:    0.0s\n",
      "[Parallel(n_jobs=-1)]: Done   5 out of   5 | elapsed:  4.7min finished\n"
     ]
    },
    {
     "name": "stdout",
     "output_type": "stream",
     "text": [
      "Best Accuracy : 0.9344885265343514\n",
      "Best Parameter:  {'learning_rate': 0.19, 'loss': 'exponential', 'max_depth': 9, 'max_features': None, 'min_samples_leaf': 2, 'min_samples_split': 5, 'n_estimators': 820, 'random_state': 57, 'subsample': 0.9}\n"
     ]
    }
   ],
   "source": [
    "clf = GradientBoostingClassifier()\n",
    "param_grid = {'learning_rate': [0.19],\n",
    "              'loss': ['exponential'],\n",
    "              'max_depth':[9],\n",
    "              'max_features':[None],\n",
    "              'n_estimators': [820],\n",
    "              'min_samples_split': [5],\n",
    "              'subsample': [0.9],\n",
    "              'min_samples_leaf': [2],\n",
    "              'random_state': [57]}\n",
    "model = GridSearchCV(clf, param_grid,scoring = 'accuracy', verbose=2, n_jobs=-1)\n",
    "with parallel_backend('threading'):\n",
    "    model.fit(base_dropna.drop(columns='ChargeOff'), base_dropna['ChargeOff'])\n",
    "\n",
    "# Validation\n",
    "print(\"Best Accuracy :\", model.best_score_)\n",
    "print(\"Best Parameter: \", model.best_params_)\n",
    "\n",
    "# Prediction\n",
    "test_pred = model.predict(base_test)\n",
    "pd.DataFrame(test_pred).to_csv('y_pred_2.csv',header=['ChargeOff'],index_label=\"Id\")"
   ]
  },
  {
   "cell_type": "code",
   "execution_count": 8,
   "metadata": {},
   "outputs": [
    {
     "name": "stdout",
     "output_type": "stream",
     "text": [
      "Fitting 5 folds for each of 1 candidates, totalling 5 fits\n",
      "[CV] learning_rate=0.19, loss=exponential, max_depth=9, max_features=None, min_samples_leaf=2, min_samples_split=5, n_estimators=820, random_state=731, subsample=0.9 \n",
      "[CV] learning_rate=0.19, loss=exponential, max_depth=9, max_features=None, min_samples_leaf=2, min_samples_split=5, n_estimators=820, random_state=731, subsample=0.9 \n",
      "[CV] learning_rate=0.19, loss=exponential, max_depth=9, max_features=None, min_samples_leaf=2, min_samples_split=5, n_estimators=820, random_state=731, subsample=0.9 \n",
      "[CV] learning_rate=0.19, loss=exponential, max_depth=9, max_features=None, min_samples_leaf=2, min_samples_split=5, n_estimators=820, random_state=731, subsample=0.9 \n",
      "[CV] learning_rate=0.19, loss=exponential, max_depth=9, max_features=None, min_samples_leaf=2, min_samples_split=5, n_estimators=820, random_state=731, subsample=0.9 \n"
     ]
    },
    {
     "name": "stderr",
     "output_type": "stream",
     "text": [
      "[Parallel(n_jobs=-1)]: Using backend ThreadingBackend with 8 concurrent workers.\n"
     ]
    },
    {
     "name": "stdout",
     "output_type": "stream",
     "text": [
      "[CV]  learning_rate=0.19, loss=exponential, max_depth=9, max_features=None, min_samples_leaf=2, min_samples_split=5, n_estimators=820, random_state=731, subsample=0.9, total= 4.5min\n",
      "[CV]  learning_rate=0.19, loss=exponential, max_depth=9, max_features=None, min_samples_leaf=2, min_samples_split=5, n_estimators=820, random_state=731, subsample=0.9, total= 4.5min\n"
     ]
    },
    {
     "name": "stderr",
     "output_type": "stream",
     "text": [
      "[Parallel(n_jobs=-1)]: Done   2 out of   5 | elapsed:  4.5min remaining:  6.8min\n"
     ]
    },
    {
     "name": "stdout",
     "output_type": "stream",
     "text": [
      "[CV]  learning_rate=0.19, loss=exponential, max_depth=9, max_features=None, min_samples_leaf=2, min_samples_split=5, n_estimators=820, random_state=731, subsample=0.9, total= 4.5min\n",
      "[CV]  learning_rate=0.19, loss=exponential, max_depth=9, max_features=None, min_samples_leaf=2, min_samples_split=5, n_estimators=820, random_state=731, subsample=0.9, total= 4.6min\n",
      "[CV]  learning_rate=0.19, loss=exponential, max_depth=9, max_features=None, min_samples_leaf=2, min_samples_split=5, n_estimators=820, random_state=731, subsample=0.9, total= 4.6min\n"
     ]
    },
    {
     "name": "stderr",
     "output_type": "stream",
     "text": [
      "[Parallel(n_jobs=-1)]: Done   5 out of   5 | elapsed:  4.6min remaining:    0.0s\n",
      "[Parallel(n_jobs=-1)]: Done   5 out of   5 | elapsed:  4.6min finished\n"
     ]
    },
    {
     "name": "stdout",
     "output_type": "stream",
     "text": [
      "Best Accuracy : 0.9338862277598556\n",
      "Best Parameter:  {'learning_rate': 0.19, 'loss': 'exponential', 'max_depth': 9, 'max_features': None, 'min_samples_leaf': 2, 'min_samples_split': 5, 'n_estimators': 820, 'random_state': 731, 'subsample': 0.9}\n"
     ]
    }
   ],
   "source": [
    "clf = GradientBoostingClassifier()\n",
    "param_grid = {'learning_rate': [0.19],\n",
    "              'loss': ['exponential'],\n",
    "              'max_depth':[9],\n",
    "              'max_features':[None],\n",
    "              'n_estimators': [820],\n",
    "              'min_samples_split': [5],\n",
    "              'subsample': [0.9],\n",
    "              'min_samples_leaf': [2],\n",
    "              'random_state': [731]}\n",
    "model = GridSearchCV(clf, param_grid,scoring = 'accuracy', verbose=2, n_jobs=-1)\n",
    "with parallel_backend('threading'):\n",
    "    model.fit(base_dropna.drop(columns='ChargeOff'), base_dropna['ChargeOff'])\n",
    "\n",
    "# Validation\n",
    "print(\"Best Accuracy :\",model.best_score_)\n",
    "print(\"Best Parameter: \", model.best_params_)\n",
    "\n",
    "# Prediction\n",
    "test_pred = model.predict(base_test)\n",
    "pd.DataFrame(test_pred).to_csv('y_pred_3.csv',header=['ChargeOff'],index_label=\"Id\")"
   ]
  },
  {
   "cell_type": "code",
   "execution_count": 9,
   "metadata": {},
   "outputs": [
    {
     "name": "stdout",
     "output_type": "stream",
     "text": [
      "Fitting 5 folds for each of 1 candidates, totalling 5 fits\n",
      "[CV] learning_rate=0.19, loss=exponential, max_depth=9, max_features=None, min_samples_leaf=2, min_samples_split=5, n_estimators=820, random_state=1234, subsample=0.9 \n",
      "[CV] learning_rate=0.19, loss=exponential, max_depth=9, max_features=None, min_samples_leaf=2, min_samples_split=5, n_estimators=820, random_state=1234, subsample=0.9 \n",
      "[CV] learning_rate=0.19, loss=exponential, max_depth=9, max_features=None, min_samples_leaf=2, min_samples_split=5, n_estimators=820, random_state=1234, subsample=0.9 \n",
      "[CV] learning_rate=0.19, loss=exponential, max_depth=9, max_features=None, min_samples_leaf=2, min_samples_split=5, n_estimators=820, random_state=1234, subsample=0.9 \n",
      "[CV] learning_rate=0.19, loss=exponential, max_depth=9, max_features=None, min_samples_leaf=2, min_samples_split=5, n_estimators=820, random_state=1234, subsample=0.9 \n"
     ]
    },
    {
     "name": "stderr",
     "output_type": "stream",
     "text": [
      "[Parallel(n_jobs=-1)]: Using backend ThreadingBackend with 8 concurrent workers.\n"
     ]
    },
    {
     "name": "stdout",
     "output_type": "stream",
     "text": [
      "[CV]  learning_rate=0.19, loss=exponential, max_depth=9, max_features=None, min_samples_leaf=2, min_samples_split=5, n_estimators=820, random_state=1234, subsample=0.9, total= 4.6min\n",
      "[CV]  learning_rate=0.19, loss=exponential, max_depth=9, max_features=None, min_samples_leaf=2, min_samples_split=5, n_estimators=820, random_state=1234, subsample=0.9, total= 4.6min\n"
     ]
    },
    {
     "name": "stderr",
     "output_type": "stream",
     "text": [
      "[Parallel(n_jobs=-1)]: Done   2 out of   5 | elapsed:  4.6min remaining:  6.9min\n"
     ]
    },
    {
     "name": "stdout",
     "output_type": "stream",
     "text": [
      "[CV]  learning_rate=0.19, loss=exponential, max_depth=9, max_features=None, min_samples_leaf=2, min_samples_split=5, n_estimators=820, random_state=1234, subsample=0.9, total= 4.6min\n",
      "[CV]  learning_rate=0.19, loss=exponential, max_depth=9, max_features=None, min_samples_leaf=2, min_samples_split=5, n_estimators=820, random_state=1234, subsample=0.9, total= 4.6min\n",
      "[CV]  learning_rate=0.19, loss=exponential, max_depth=9, max_features=None, min_samples_leaf=2, min_samples_split=5, n_estimators=820, random_state=1234, subsample=0.9, total= 4.6min\n"
     ]
    },
    {
     "name": "stderr",
     "output_type": "stream",
     "text": [
      "[Parallel(n_jobs=-1)]: Done   5 out of   5 | elapsed:  4.6min remaining:    0.0s\n",
      "[Parallel(n_jobs=-1)]: Done   5 out of   5 | elapsed:  4.6min finished\n"
     ]
    },
    {
     "name": "stdout",
     "output_type": "stream",
     "text": [
      "Best Accuracy : 0.9340869725194672\n",
      "Best Parameter:  {'learning_rate': 0.19, 'loss': 'exponential', 'max_depth': 9, 'max_features': None, 'min_samples_leaf': 2, 'min_samples_split': 5, 'n_estimators': 820, 'random_state': 1234, 'subsample': 0.9}\n"
     ]
    }
   ],
   "source": [
    "clf = GradientBoostingClassifier()\n",
    "param_grid = {'learning_rate': [0.19],\n",
    "              'loss': ['exponential'],\n",
    "              'max_depth':[9],\n",
    "              'max_features':[None],\n",
    "              'n_estimators': [820],\n",
    "              'min_samples_split': [5],\n",
    "              'subsample': [0.9],\n",
    "              'min_samples_leaf': [2],\n",
    "              'random_state': [1234]}\n",
    "model = GridSearchCV(clf, param_grid,scoring = 'accuracy', verbose=2, n_jobs=-1)\n",
    "with parallel_backend('threading'):\n",
    "    model.fit(base_dropna.drop(columns='ChargeOff'), base_dropna['ChargeOff'])\n",
    "\n",
    "# Validation\n",
    "print(\"Best Accuracy :\",model.best_score_)\n",
    "print(\"Best Parameter: \", model.best_params_)\n",
    "\n",
    "# Prediction\n",
    "test_pred = model.predict(base_test)\n",
    "pd.DataFrame(test_pred).to_csv('y_pred_4.csv',header=['ChargeOff'],index_label=\"Id\")"
   ]
  },
  {
   "cell_type": "code",
   "execution_count": 10,
   "metadata": {},
   "outputs": [
    {
     "name": "stdout",
     "output_type": "stream",
     "text": [
      "Fitting 5 folds for each of 1 candidates, totalling 5 fits\n",
      "[CV] learning_rate=0.19, loss=exponential, max_depth=9, max_features=None, min_samples_leaf=2, min_samples_split=5, n_estimators=820, random_state=2333, subsample=0.9 \n",
      "[CV] learning_rate=0.19, loss=exponential, max_depth=9, max_features=None, min_samples_leaf=2, min_samples_split=5, n_estimators=820, random_state=2333, subsample=0.9 \n",
      "[CV] learning_rate=0.19, loss=exponential, max_depth=9, max_features=None, min_samples_leaf=2, min_samples_split=5, n_estimators=820, random_state=2333, subsample=0.9 \n",
      "[CV] learning_rate=0.19, loss=exponential, max_depth=9, max_features=None, min_samples_leaf=2, min_samples_split=5, n_estimators=820, random_state=2333, subsample=0.9 \n",
      "[CV] learning_rate=0.19, loss=exponential, max_depth=9, max_features=None, min_samples_leaf=2, min_samples_split=5, n_estimators=820, random_state=2333, subsample=0.9 \n"
     ]
    },
    {
     "name": "stderr",
     "output_type": "stream",
     "text": [
      "[Parallel(n_jobs=-1)]: Using backend ThreadingBackend with 8 concurrent workers.\n"
     ]
    },
    {
     "name": "stdout",
     "output_type": "stream",
     "text": [
      "[CV]  learning_rate=0.19, loss=exponential, max_depth=9, max_features=None, min_samples_leaf=2, min_samples_split=5, n_estimators=820, random_state=2333, subsample=0.9, total= 4.6min\n",
      "[CV]  learning_rate=0.19, loss=exponential, max_depth=9, max_features=None, min_samples_leaf=2, min_samples_split=5, n_estimators=820, random_state=2333, subsample=0.9, total= 4.6min\n"
     ]
    },
    {
     "name": "stderr",
     "output_type": "stream",
     "text": [
      "[Parallel(n_jobs=-1)]: Done   2 out of   5 | elapsed:  4.6min remaining:  6.9min\n"
     ]
    },
    {
     "name": "stdout",
     "output_type": "stream",
     "text": [
      "[CV]  learning_rate=0.19, loss=exponential, max_depth=9, max_features=None, min_samples_leaf=2, min_samples_split=5, n_estimators=820, random_state=2333, subsample=0.9, total= 4.6min\n",
      "[CV]  learning_rate=0.19, loss=exponential, max_depth=9, max_features=None, min_samples_leaf=2, min_samples_split=5, n_estimators=820, random_state=2333, subsample=0.9, total= 4.6min\n",
      "[CV]  learning_rate=0.19, loss=exponential, max_depth=9, max_features=None, min_samples_leaf=2, min_samples_split=5, n_estimators=820, random_state=2333, subsample=0.9, total= 4.6min\n"
     ]
    },
    {
     "name": "stderr",
     "output_type": "stream",
     "text": [
      "[Parallel(n_jobs=-1)]: Done   5 out of   5 | elapsed:  4.6min remaining:    0.0s\n",
      "[Parallel(n_jobs=-1)]: Done   5 out of   5 | elapsed:  4.6min finished\n"
     ]
    },
    {
     "name": "stdout",
     "output_type": "stream",
     "text": [
      "Best Accuracy : 0.9339464284127088\n",
      "Best Parameter:  {'learning_rate': 0.19, 'loss': 'exponential', 'max_depth': 9, 'max_features': None, 'min_samples_leaf': 2, 'min_samples_split': 5, 'n_estimators': 820, 'random_state': 2333, 'subsample': 0.9}\n"
     ]
    }
   ],
   "source": [
    "clf = GradientBoostingClassifier()\n",
    "param_grid = {'learning_rate': [0.19],\n",
    "              'loss': ['exponential'],\n",
    "              'max_depth':[9],\n",
    "              'max_features':[None],\n",
    "              'n_estimators': [820],\n",
    "              'min_samples_split': [5],\n",
    "              'subsample': [0.9],\n",
    "              'min_samples_leaf': [2],\n",
    "              'random_state': [2333]}\n",
    "model = GridSearchCV(clf, param_grid,scoring = 'accuracy', verbose=2, n_jobs=-1)\n",
    "with parallel_backend('threading'):\n",
    "    model.fit(base_dropna.drop(columns='ChargeOff'), base_dropna['ChargeOff'])\n",
    "\n",
    "# Validation\n",
    "print(\"Best Accuracy :\",model.best_score_)\n",
    "print(\"Best Parameter: \", model.best_params_)\n",
    "\n",
    "# Prediction\n",
    "test_pred = model.predict(base_test)\n",
    "pd.DataFrame(test_pred).to_csv('y_pred_5.csv',header=['ChargeOff'],index_label=\"Id\")"
   ]
  },
  {
   "cell_type": "code",
   "execution_count": 11,
   "metadata": {},
   "outputs": [
    {
     "name": "stdout",
     "output_type": "stream",
     "text": [
      "Fitting 5 folds for each of 1 candidates, totalling 5 fits\n",
      "[CV] learning_rate=0.19, loss=exponential, max_depth=9, max_features=None, min_samples_leaf=2, min_samples_split=5, n_estimators=820, random_state=63521, subsample=0.9 \n",
      "[CV] learning_rate=0.19, loss=exponential, max_depth=9, max_features=None, min_samples_leaf=2, min_samples_split=5, n_estimators=820, random_state=63521, subsample=0.9 \n",
      "[CV] learning_rate=0.19, loss=exponential, max_depth=9, max_features=None, min_samples_leaf=2, min_samples_split=5, n_estimators=820, random_state=63521, subsample=0.9 \n",
      "[CV] learning_rate=0.19, loss=exponential, max_depth=9, max_features=None, min_samples_leaf=2, min_samples_split=5, n_estimators=820, random_state=63521, subsample=0.9 \n",
      "[CV] learning_rate=0.19, loss=exponential, max_depth=9, max_features=None, min_samples_leaf=2, min_samples_split=5, n_estimators=820, random_state=63521, subsample=0.9 \n"
     ]
    },
    {
     "name": "stderr",
     "output_type": "stream",
     "text": [
      "[Parallel(n_jobs=-1)]: Using backend ThreadingBackend with 8 concurrent workers.\n"
     ]
    },
    {
     "name": "stdout",
     "output_type": "stream",
     "text": [
      "[CV]  learning_rate=0.19, loss=exponential, max_depth=9, max_features=None, min_samples_leaf=2, min_samples_split=5, n_estimators=820, random_state=63521, subsample=0.9, total= 4.5min\n",
      "[CV]  learning_rate=0.19, loss=exponential, max_depth=9, max_features=None, min_samples_leaf=2, min_samples_split=5, n_estimators=820, random_state=63521, subsample=0.9, total= 4.6min\n"
     ]
    },
    {
     "name": "stderr",
     "output_type": "stream",
     "text": [
      "[Parallel(n_jobs=-1)]: Done   2 out of   5 | elapsed:  4.6min remaining:  6.9min\n"
     ]
    },
    {
     "name": "stdout",
     "output_type": "stream",
     "text": [
      "[CV]  learning_rate=0.19, loss=exponential, max_depth=9, max_features=None, min_samples_leaf=2, min_samples_split=5, n_estimators=820, random_state=63521, subsample=0.9, total= 4.7min\n",
      "[CV]  learning_rate=0.19, loss=exponential, max_depth=9, max_features=None, min_samples_leaf=2, min_samples_split=5, n_estimators=820, random_state=63521, subsample=0.9, total= 4.7min\n",
      "[CV]  learning_rate=0.19, loss=exponential, max_depth=9, max_features=None, min_samples_leaf=2, min_samples_split=5, n_estimators=820, random_state=63521, subsample=0.9, total= 4.7min\n"
     ]
    },
    {
     "name": "stderr",
     "output_type": "stream",
     "text": [
      "[Parallel(n_jobs=-1)]: Done   5 out of   5 | elapsed:  4.7min remaining:    0.0s\n",
      "[Parallel(n_jobs=-1)]: Done   5 out of   5 | elapsed:  4.7min finished\n"
     ]
    },
    {
     "name": "stdout",
     "output_type": "stream",
     "text": [
      "Best Accuracy : 0.9332236900382078\n",
      "Best Parameter:  {'learning_rate': 0.19, 'loss': 'exponential', 'max_depth': 9, 'max_features': None, 'min_samples_leaf': 2, 'min_samples_split': 5, 'n_estimators': 820, 'random_state': 63521, 'subsample': 0.9}\n"
     ]
    }
   ],
   "source": [
    "clf = GradientBoostingClassifier()\n",
    "param_grid = {'learning_rate': [0.19],\n",
    "              'loss': ['exponential'],\n",
    "              'max_depth':[9],\n",
    "              'max_features':[None],\n",
    "              'n_estimators': [820],\n",
    "              'min_samples_split': [5],\n",
    "              'subsample': [0.9],\n",
    "              'min_samples_leaf': [2],\n",
    "              'random_state': [63521]}\n",
    "model = GridSearchCV(clf, param_grid,scoring = 'accuracy', verbose=2, n_jobs=-1)\n",
    "with parallel_backend('threading'):\n",
    "    model.fit(base_dropna.drop(columns='ChargeOff'), base_dropna['ChargeOff'])\n",
    "\n",
    "# Validation\n",
    "print(\"Best Accuracy :\",model.best_score_)\n",
    "print(\"Best Parameter: \", model.best_params_)\n",
    "\n",
    "# Prediction\n",
    "test_pred = model.predict(base_test)\n",
    "pd.DataFrame(test_pred).to_csv('y_pred_6.csv',header=['ChargeOff'],index_label=\"Id\")"
   ]
  },
  {
   "cell_type": "code",
   "execution_count": 12,
   "metadata": {},
   "outputs": [
    {
     "name": "stdout",
     "output_type": "stream",
     "text": [
      "Fitting 5 folds for each of 1 candidates, totalling 5 fits\n",
      "[CV] learning_rate=0.19, loss=exponential, max_depth=9, max_features=None, min_samples_leaf=2, min_samples_split=5, n_estimators=820, random_state=1111, subsample=0.9 [CV] learning_rate=0.19, loss=exponential, max_depth=9, max_features=None, min_samples_leaf=2, min_samples_split=5, n_estimators=820, random_state=1111, subsample=0.9 \n",
      "[CV] learning_rate=0.19, loss=exponential, max_depth=9, max_features=None, min_samples_leaf=2, min_samples_split=5, n_estimators=820, random_state=1111, subsample=0.9 \n",
      "[CV] learning_rate=0.19, loss=exponential, max_depth=9, max_features=None, min_samples_leaf=2, min_samples_split=5, n_estimators=820, random_state=1111, subsample=0.9 \n",
      "\n",
      "[CV] learning_rate=0.19, loss=exponential, max_depth=9, max_features=None, min_samples_leaf=2, min_samples_split=5, n_estimators=820, random_state=1111, subsample=0.9 \n"
     ]
    },
    {
     "name": "stderr",
     "output_type": "stream",
     "text": [
      "[Parallel(n_jobs=-1)]: Using backend ThreadingBackend with 8 concurrent workers.\n"
     ]
    },
    {
     "name": "stdout",
     "output_type": "stream",
     "text": [
      "[CV]  learning_rate=0.19, loss=exponential, max_depth=9, max_features=None, min_samples_leaf=2, min_samples_split=5, n_estimators=820, random_state=1111, subsample=0.9, total= 4.5min\n",
      "[CV]  learning_rate=0.19, loss=exponential, max_depth=9, max_features=None, min_samples_leaf=2, min_samples_split=5, n_estimators=820, random_state=1111, subsample=0.9, total= 4.6min\n"
     ]
    },
    {
     "name": "stderr",
     "output_type": "stream",
     "text": [
      "[Parallel(n_jobs=-1)]: Done   2 out of   5 | elapsed:  4.6min remaining:  6.9min\n"
     ]
    },
    {
     "name": "stdout",
     "output_type": "stream",
     "text": [
      "[CV]  learning_rate=0.19, loss=exponential, max_depth=9, max_features=None, min_samples_leaf=2, min_samples_split=5, n_estimators=820, random_state=1111, subsample=0.9, total= 4.6min\n",
      "[CV]  learning_rate=0.19, loss=exponential, max_depth=9, max_features=None, min_samples_leaf=2, min_samples_split=5, n_estimators=820, random_state=1111, subsample=0.9, total= 4.6min\n",
      "[CV]  learning_rate=0.19, loss=exponential, max_depth=9, max_features=None, min_samples_leaf=2, min_samples_split=5, n_estimators=820, random_state=1111, subsample=0.9, total= 4.7min\n"
     ]
    },
    {
     "name": "stderr",
     "output_type": "stream",
     "text": [
      "[Parallel(n_jobs=-1)]: Done   5 out of   5 | elapsed:  4.7min remaining:    0.0s\n",
      "[Parallel(n_jobs=-1)]: Done   5 out of   5 | elapsed:  4.7min finished\n"
     ]
    },
    {
     "name": "stdout",
     "output_type": "stream",
     "text": [
      "Best Accuracy : 0.9334043645543861\n",
      "Best Parameter:  {'learning_rate': 0.19, 'loss': 'exponential', 'max_depth': 9, 'max_features': None, 'min_samples_leaf': 2, 'min_samples_split': 5, 'n_estimators': 820, 'random_state': 1111, 'subsample': 0.9}\n"
     ]
    }
   ],
   "source": [
    "clf = GradientBoostingClassifier()\n",
    "param_grid = {'learning_rate': [0.19],\n",
    "              'loss': ['exponential'],\n",
    "              'max_depth':[9],\n",
    "              'max_features':[None],\n",
    "              'n_estimators': [820],\n",
    "              'min_samples_split': [5],\n",
    "              'subsample': [0.9],\n",
    "              'min_samples_leaf': [2],\n",
    "              'random_state': [1111]}\n",
    "model = GridSearchCV(clf, param_grid,scoring = 'accuracy', verbose=2, n_jobs=-1)\n",
    "with parallel_backend('threading'):\n",
    "    model.fit(base_dropna.drop(columns='ChargeOff'), base_dropna['ChargeOff'])\n",
    "\n",
    "# Validation\n",
    "print(\"Best Accuracy :\",model.best_score_)\n",
    "print(\"Best Parameter: \", model.best_params_)\n",
    "\n",
    "# Prediction\n",
    "test_pred = model.predict(base_test)\n",
    "pd.DataFrame(test_pred).to_csv('y_pred_7.csv',header=['ChargeOff'],index_label=\"Id\")"
   ]
  },
  {
   "cell_type": "code",
   "execution_count": 13,
   "metadata": {},
   "outputs": [
    {
     "name": "stdout",
     "output_type": "stream",
     "text": [
      "Fitting 5 folds for each of 1 candidates, totalling 5 fits\n",
      "[CV] learning_rate=0.19, loss=exponential, max_depth=9, max_features=None, min_samples_leaf=2, min_samples_split=5, n_estimators=820, random_state=4444, subsample=0.9 \n",
      "[CV] learning_rate=0.19, loss=exponential, max_depth=9, max_features=None, min_samples_leaf=2, min_samples_split=5, n_estimators=820, random_state=4444, subsample=0.9 \n",
      "[CV] learning_rate=0.19, loss=exponential, max_depth=9, max_features=None, min_samples_leaf=2, min_samples_split=5, n_estimators=820, random_state=4444, subsample=0.9 \n",
      "[CV] learning_rate=0.19, loss=exponential, max_depth=9, max_features=None, min_samples_leaf=2, min_samples_split=5, n_estimators=820, random_state=4444, subsample=0.9 \n",
      "[CV] learning_rate=0.19, loss=exponential, max_depth=9, max_features=None, min_samples_leaf=2, min_samples_split=5, n_estimators=820, random_state=4444, subsample=0.9 \n"
     ]
    },
    {
     "name": "stderr",
     "output_type": "stream",
     "text": [
      "[Parallel(n_jobs=-1)]: Using backend ThreadingBackend with 8 concurrent workers.\n"
     ]
    },
    {
     "name": "stdout",
     "output_type": "stream",
     "text": [
      "[CV]  learning_rate=0.19, loss=exponential, max_depth=9, max_features=None, min_samples_leaf=2, min_samples_split=5, n_estimators=820, random_state=4444, subsample=0.9, total= 4.6min\n",
      "[CV]  learning_rate=0.19, loss=exponential, max_depth=9, max_features=None, min_samples_leaf=2, min_samples_split=5, n_estimators=820, random_state=4444, subsample=0.9, total= 4.7min\n"
     ]
    },
    {
     "name": "stderr",
     "output_type": "stream",
     "text": [
      "[Parallel(n_jobs=-1)]: Done   2 out of   5 | elapsed:  4.7min remaining:  7.0min\n"
     ]
    },
    {
     "name": "stdout",
     "output_type": "stream",
     "text": [
      "[CV]  learning_rate=0.19, loss=exponential, max_depth=9, max_features=None, min_samples_leaf=2, min_samples_split=5, n_estimators=820, random_state=4444, subsample=0.9, total= 4.7min\n",
      "[CV]  learning_rate=0.19, loss=exponential, max_depth=9, max_features=None, min_samples_leaf=2, min_samples_split=5, n_estimators=820, random_state=4444, subsample=0.9, total= 4.7min\n",
      "[CV]  learning_rate=0.19, loss=exponential, max_depth=9, max_features=None, min_samples_leaf=2, min_samples_split=5, n_estimators=820, random_state=4444, subsample=0.9, total= 4.7min\n"
     ]
    },
    {
     "name": "stderr",
     "output_type": "stream",
     "text": [
      "[Parallel(n_jobs=-1)]: Done   5 out of   5 | elapsed:  4.7min remaining:    0.0s\n",
      "[Parallel(n_jobs=-1)]: Done   5 out of   5 | elapsed:  4.7min finished\n"
     ]
    },
    {
     "name": "stdout",
     "output_type": "stream",
     "text": [
      "Best Accuracy : 0.9337456816376075\n",
      "Best Parameter:  {'learning_rate': 0.19, 'loss': 'exponential', 'max_depth': 9, 'max_features': None, 'min_samples_leaf': 2, 'min_samples_split': 5, 'n_estimators': 820, 'random_state': 4444, 'subsample': 0.9}\n"
     ]
    }
   ],
   "source": [
    "clf = GradientBoostingClassifier()\n",
    "param_grid = {'learning_rate': [0.19],\n",
    "              'loss': ['exponential'],\n",
    "              'max_depth':[9],\n",
    "              'max_features':[None],\n",
    "              'n_estimators': [820],\n",
    "              'min_samples_split': [5],\n",
    "              'subsample': [0.9],\n",
    "              'min_samples_leaf': [2],\n",
    "              'random_state': [4444]}\n",
    "model = GridSearchCV(clf, param_grid,scoring = 'accuracy', verbose=2, n_jobs=-1)\n",
    "with parallel_backend('threading'):\n",
    "    model.fit(base_dropna.drop(columns='ChargeOff'), base_dropna['ChargeOff'])\n",
    "\n",
    "# Validation\n",
    "print(\"Best Accuracy :\",model.best_score_)\n",
    "print(\"Best Parameter: \", model.best_params_)\n",
    "\n",
    "# Prediction\n",
    "test_pred = model.predict(base_test)\n",
    "pd.DataFrame(test_pred).to_csv('y_pred_8.csv',header=['ChargeOff'],index_label=\"Id\")"
   ]
  },
  {
   "cell_type": "code",
   "execution_count": 14,
   "metadata": {},
   "outputs": [
    {
     "name": "stdout",
     "output_type": "stream",
     "text": [
      "Fitting 5 folds for each of 1 candidates, totalling 5 fits\n",
      "[CV] learning_rate=0.19, loss=exponential, max_depth=9, max_features=None, min_samples_leaf=2, min_samples_split=5, n_estimators=820, random_state=7777, subsample=0.9 \n",
      "[CV] learning_rate=0.19, loss=exponential, max_depth=9, max_features=None, min_samples_leaf=2, min_samples_split=5, n_estimators=820, random_state=7777, subsample=0.9 \n",
      "[CV] learning_rate=0.19, loss=exponential, max_depth=9, max_features=None, min_samples_leaf=2, min_samples_split=5, n_estimators=820, random_state=7777, subsample=0.9 \n",
      "[CV] learning_rate=0.19, loss=exponential, max_depth=9, max_features=None, min_samples_leaf=2, min_samples_split=5, n_estimators=820, random_state=7777, subsample=0.9 \n",
      "[CV] learning_rate=0.19, loss=exponential, max_depth=9, max_features=None, min_samples_leaf=2, min_samples_split=5, n_estimators=820, random_state=7777, subsample=0.9 \n"
     ]
    },
    {
     "name": "stderr",
     "output_type": "stream",
     "text": [
      "[Parallel(n_jobs=-1)]: Using backend ThreadingBackend with 8 concurrent workers.\n"
     ]
    },
    {
     "name": "stdout",
     "output_type": "stream",
     "text": [
      "[CV]  learning_rate=0.19, loss=exponential, max_depth=9, max_features=None, min_samples_leaf=2, min_samples_split=5, n_estimators=820, random_state=7777, subsample=0.9, total= 4.5min\n",
      "[CV]  learning_rate=0.19, loss=exponential, max_depth=9, max_features=None, min_samples_leaf=2, min_samples_split=5, n_estimators=820, random_state=7777, subsample=0.9, total= 4.5min\n"
     ]
    },
    {
     "name": "stderr",
     "output_type": "stream",
     "text": [
      "[Parallel(n_jobs=-1)]: Done   2 out of   5 | elapsed:  4.5min remaining:  6.8min\n"
     ]
    },
    {
     "name": "stdout",
     "output_type": "stream",
     "text": [
      "[CV]  learning_rate=0.19, loss=exponential, max_depth=9, max_features=None, min_samples_leaf=2, min_samples_split=5, n_estimators=820, random_state=7777, subsample=0.9, total= 4.6min\n",
      "[CV]  learning_rate=0.19, loss=exponential, max_depth=9, max_features=None, min_samples_leaf=2, min_samples_split=5, n_estimators=820, random_state=7777, subsample=0.9, total= 4.6min\n",
      "[CV]  learning_rate=0.19, loss=exponential, max_depth=9, max_features=None, min_samples_leaf=2, min_samples_split=5, n_estimators=820, random_state=7777, subsample=0.9, total= 4.6min\n"
     ]
    },
    {
     "name": "stderr",
     "output_type": "stream",
     "text": [
      "[Parallel(n_jobs=-1)]: Done   5 out of   5 | elapsed:  4.6min remaining:    0.0s\n",
      "[Parallel(n_jobs=-1)]: Done   5 out of   5 | elapsed:  4.6min finished\n"
     ]
    },
    {
     "name": "stdout",
     "output_type": "stream",
     "text": [
      "Best Accuracy : 0.9336854164890938\n",
      "Best Parameter:  {'learning_rate': 0.19, 'loss': 'exponential', 'max_depth': 9, 'max_features': None, 'min_samples_leaf': 2, 'min_samples_split': 5, 'n_estimators': 820, 'random_state': 7777, 'subsample': 0.9}\n"
     ]
    }
   ],
   "source": [
    "clf = GradientBoostingClassifier()\n",
    "param_grid = {'learning_rate': [0.19],\n",
    "              'loss': ['exponential'],\n",
    "              'max_depth':[9],\n",
    "              'max_features':[None],\n",
    "              'n_estimators': [820],\n",
    "              'min_samples_split': [5],\n",
    "              'subsample': [0.9],\n",
    "              'min_samples_leaf': [2],\n",
    "              'random_state': [7777]}\n",
    "model = GridSearchCV(clf, param_grid,scoring = 'accuracy', verbose=2, n_jobs=-1)\n",
    "with parallel_backend('threading'):\n",
    "    model.fit(base_dropna.drop(columns='ChargeOff'), base_dropna['ChargeOff'])\n",
    "\n",
    "# Validation\n",
    "print(\"Best Accuracy :\",model.best_score_)\n",
    "print(\"Best Parameter: \", model.best_params_)\n",
    "\n",
    "# Prediction\n",
    "test_pred = model.predict(base_test)\n",
    "pd.DataFrame(test_pred).to_csv('y_pred_9.csv',header=['ChargeOff'],index_label=\"Id\")"
   ]
  }
 ],
 "metadata": {
  "kernelspec": {
   "display_name": "ML",
   "language": "python",
   "name": "ml"
  },
  "language_info": {
   "codemirror_mode": {
    "name": "ipython",
    "version": 3
   },
   "file_extension": ".py",
   "mimetype": "text/x-python",
   "name": "python",
   "nbconvert_exporter": "python",
   "pygments_lexer": "ipython3",
   "version": "3.7.6"
  }
 },
 "nbformat": 4,
 "nbformat_minor": 4
}
