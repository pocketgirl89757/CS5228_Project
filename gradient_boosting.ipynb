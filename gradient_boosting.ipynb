{
 "cells": [
  {
   "cell_type": "markdown",
   "metadata": {},
   "source": [
    "# CS 5228\n"
   ]
  },
  {
   "cell_type": "code",
   "execution_count": 2,
   "metadata": {},
   "outputs": [
    {
     "name": "stderr",
     "output_type": "stream",
     "text": [
      "D:\\Conda\\envs\\ML\\lib\\site-packages\\sklearn\\externals\\joblib\\__init__.py:15: FutureWarning: sklearn.externals.joblib is deprecated in 0.21 and will be removed in 0.23. Please import this functionality directly from joblib, which can be installed with: pip install joblib. If this warning is raised when loading pickled models, you may need to re-serialize those models with scikit-learn 0.21+.\n",
      "  warnings.warn(msg, category=FutureWarning)\n"
     ]
    }
   ],
   "source": [
    "# All Imports\n",
    "from utils import *\n",
    "import pandas as pd\n",
    "import locale\n",
    "import numpy as np\n",
    "import seaborn as sb\n",
    "import matplotlib.pyplot as plt\n",
    "%matplotlib inline\n",
    "from sklearn import preprocessing\n",
    "\n",
    "# model training\n",
    "from sklearn.model_selection import train_test_split\n",
    "from sklearn.model_selection import GridSearchCV\n",
    "\n",
    "# model evaluation\n",
    "from sklearn.metrics import confusion_matrix\n",
    "from sklearn.metrics import f1_score\n",
    "from sklearn.metrics import accuracy_score\n",
    "\n",
    "# classifiers\n",
    "from sklearn.naive_bayes import GaussianNB # naive bayes\n",
    "from sklearn.neighbors import KNeighborsClassifier # KNN\n",
    "from sklearn.linear_model import LogisticRegression # logistic regression\n",
    "from sklearn.tree import DecisionTreeClassifier # decision Tree\n",
    "from sklearn.ensemble import RandomForestClassifier \n",
    "from sklearn.ensemble import GradientBoostingClassifier\n",
    "from sklearn.externals.joblib import parallel_backend\n",
    "\n",
    "# ignore warnings\n",
    "import warnings\n",
    "warnings.filterwarnings('ignore')\n",
    "locale.setlocale(locale.LC_ALL,'')\n",
    "pd.set_option('display.max_columns', None)"
   ]
  },
  {
   "cell_type": "code",
   "execution_count": 3,
   "metadata": {},
   "outputs": [],
   "source": [
    "drop_columns = []\n",
    "le = generate_labels()\n",
    "scaler = generate_scaler(le, preprocessing.MinMaxScaler())\n",
    "\n",
    "base_dropna = get_data(scaler=scaler,le=le,type='train', dropna=True, get_dummy=True, feature_split=False, values_only=True,drop_columns=drop_columns)\n",
    "base_test = get_data(scaler=scaler,le=le,type='test', dropna=False, get_dummy=True, feature_split=False, values_only=True,drop_columns=drop_columns)"
   ]
  },
  {
   "cell_type": "code",
   "execution_count": 6,
   "metadata": {},
   "outputs": [
    {
     "name": "stdout",
     "output_type": "stream",
     "text": [
      "Fitting 10 folds for each of 4 candidates, totalling 40 fits\n",
      "[CV] learning_rate=0.15, loss=exponential, max_depth=9, max_features=None, min_samples_leaf=2, min_samples_split=5, n_estimators=680, random_state=13579, subsample=0.9 \n",
      "[CV] learning_rate=0.15, loss=exponential, max_depth=9, max_features=None, min_samples_leaf=2, min_samples_split=5, n_estimators=680, random_state=13579, subsample=0.9 \n",
      "[CV] learning_rate=0.15, loss=exponential, max_depth=9, max_features=None, min_samples_leaf=2, min_samples_split=5, n_estimators=680, random_state=13579, subsample=0.9 [CV] learning_rate=0.15, loss=exponential, max_depth=9, max_features=None, min_samples_leaf=2, min_samples_split=5, n_estimators=680, random_state=13579, subsample=0.9 \n",
      "[CV] learning_rate=0.15, loss=exponential, max_depth=9, max_features=None, min_samples_leaf=2, min_samples_split=5, n_estimators=680, random_state=13579, subsample=0.9 \n",
      "[CV] learning_rate=0.15, loss=exponential, max_depth=9, max_features=None, min_samples_leaf=2, min_samples_split=5, n_estimators=680, random_state=13579, subsample=0.9 \n",
      "\n",
      "[CV] learning_rate=0.15, loss=exponential, max_depth=9, max_features=None, min_samples_leaf=2, min_samples_split=5, n_estimators=680, random_state=13579, subsample=0.9 \n",
      "[CV] learning_rate=0.15, loss=exponential, max_depth=9, max_features=None, min_samples_leaf=2, min_samples_split=5, n_estimators=680, random_state=13579, subsample=0.9 \n"
     ]
    },
    {
     "name": "stderr",
     "output_type": "stream",
     "text": [
      "[Parallel(n_jobs=-1)]: Using backend ThreadingBackend with 8 concurrent workers.\n"
     ]
    },
    {
     "name": "stdout",
     "output_type": "stream",
     "text": [
      "[CV]  learning_rate=0.15, loss=exponential, max_depth=9, max_features=None, min_samples_leaf=2, min_samples_split=5, n_estimators=680, random_state=13579, subsample=0.9, total= 6.2min\n",
      "[CV] learning_rate=0.15, loss=exponential, max_depth=9, max_features=None, min_samples_leaf=2, min_samples_split=5, n_estimators=680, random_state=13579, subsample=0.9 \n",
      "[CV]  learning_rate=0.15, loss=exponential, max_depth=9, max_features=None, min_samples_leaf=2, min_samples_split=5, n_estimators=680, random_state=13579, subsample=0.9, total= 6.2min\n",
      "[CV] learning_rate=0.15, loss=exponential, max_depth=9, max_features=None, min_samples_leaf=2, min_samples_split=5, n_estimators=680, random_state=13579, subsample=0.9 \n",
      "[CV]  learning_rate=0.15, loss=exponential, max_depth=9, max_features=None, min_samples_leaf=2, min_samples_split=5, n_estimators=680, random_state=13579, subsample=0.9, total= 6.2min\n",
      "[CV] learning_rate=0.15, loss=exponential, max_depth=9, max_features=None, min_samples_leaf=2, min_samples_split=5, n_estimators=680, random_state=41, subsample=0.9 \n",
      "[CV]  learning_rate=0.15, loss=exponential, max_depth=9, max_features=None, min_samples_leaf=2, min_samples_split=5, n_estimators=680, random_state=13579, subsample=0.9, total= 6.2min\n",
      "[CV] learning_rate=0.15, loss=exponential, max_depth=9, max_features=None, min_samples_leaf=2, min_samples_split=5, n_estimators=680, random_state=41, subsample=0.9 \n",
      "[CV]  learning_rate=0.15, loss=exponential, max_depth=9, max_features=None, min_samples_leaf=2, min_samples_split=5, n_estimators=680, random_state=13579, subsample=0.9, total= 6.2min\n",
      "[CV] learning_rate=0.15, loss=exponential, max_depth=9, max_features=None, min_samples_leaf=2, min_samples_split=5, n_estimators=680, random_state=41, subsample=0.9 \n",
      "[CV]  learning_rate=0.15, loss=exponential, max_depth=9, max_features=None, min_samples_leaf=2, min_samples_split=5, n_estimators=680, random_state=13579, subsample=0.9, total= 6.2min\n",
      "[CV] learning_rate=0.15, loss=exponential, max_depth=9, max_features=None, min_samples_leaf=2, min_samples_split=5, n_estimators=680, random_state=41, subsample=0.9 \n",
      "[CV]  learning_rate=0.15, loss=exponential, max_depth=9, max_features=None, min_samples_leaf=2, min_samples_split=5, n_estimators=680, random_state=13579, subsample=0.9, total= 6.2min\n",
      "[CV] learning_rate=0.15, loss=exponential, max_depth=9, max_features=None, min_samples_leaf=2, min_samples_split=5, n_estimators=680, random_state=41, subsample=0.9 \n",
      "[CV]  learning_rate=0.15, loss=exponential, max_depth=9, max_features=None, min_samples_leaf=2, min_samples_split=5, n_estimators=680, random_state=13579, subsample=0.9, total= 6.2min\n",
      "[CV] learning_rate=0.15, loss=exponential, max_depth=9, max_features=None, min_samples_leaf=2, min_samples_split=5, n_estimators=680, random_state=41, subsample=0.9 \n",
      "[CV]  learning_rate=0.15, loss=exponential, max_depth=9, max_features=None, min_samples_leaf=2, min_samples_split=5, n_estimators=680, random_state=41, subsample=0.9, total= 6.1min\n",
      "[CV] learning_rate=0.15, loss=exponential, max_depth=9, max_features=None, min_samples_leaf=2, min_samples_split=5, n_estimators=680, random_state=41, subsample=0.9 \n",
      "[CV]  learning_rate=0.15, loss=exponential, max_depth=9, max_features=None, min_samples_leaf=2, min_samples_split=5, n_estimators=680, random_state=13579, subsample=0.9, total= 6.2min\n",
      "[CV] learning_rate=0.15, loss=exponential, max_depth=9, max_features=None, min_samples_leaf=2, min_samples_split=5, n_estimators=680, random_state=41, subsample=0.9 \n",
      "[CV]  learning_rate=0.15, loss=exponential, max_depth=9, max_features=None, min_samples_leaf=2, min_samples_split=5, n_estimators=680, random_state=13579, subsample=0.9, total= 6.2min\n",
      "[CV] learning_rate=0.15, loss=exponential, max_depth=9, max_features=None, min_samples_leaf=2, min_samples_split=5, n_estimators=680, random_state=41, subsample=0.9 \n",
      "[CV]  learning_rate=0.15, loss=exponential, max_depth=9, max_features=None, min_samples_leaf=2, min_samples_split=5, n_estimators=680, random_state=41, subsample=0.9, total= 6.2min\n",
      "[CV] learning_rate=0.15, loss=exponential, max_depth=9, max_features=None, min_samples_leaf=2, min_samples_split=5, n_estimators=680, random_state=41, subsample=0.9 \n",
      "[CV]  learning_rate=0.15, loss=exponential, max_depth=9, max_features=None, min_samples_leaf=2, min_samples_split=5, n_estimators=680, random_state=41, subsample=0.9, total= 6.2min\n",
      "[CV] learning_rate=0.15, loss=exponential, max_depth=9, max_features=None, min_samples_leaf=2, min_samples_split=5, n_estimators=680, random_state=731, subsample=0.9 \n",
      "[CV]  learning_rate=0.15, loss=exponential, max_depth=9, max_features=None, min_samples_leaf=2, min_samples_split=5, n_estimators=680, random_state=41, subsample=0.9, total= 6.2min\n",
      "[CV] learning_rate=0.15, loss=exponential, max_depth=9, max_features=None, min_samples_leaf=2, min_samples_split=5, n_estimators=680, random_state=731, subsample=0.9 \n",
      "[CV]  learning_rate=0.15, loss=exponential, max_depth=9, max_features=None, min_samples_leaf=2, min_samples_split=5, n_estimators=680, random_state=41, subsample=0.9, total= 6.2min\n",
      "[CV] learning_rate=0.15, loss=exponential, max_depth=9, max_features=None, min_samples_leaf=2, min_samples_split=5, n_estimators=680, random_state=731, subsample=0.9 \n",
      "[CV]  learning_rate=0.15, loss=exponential, max_depth=9, max_features=None, min_samples_leaf=2, min_samples_split=5, n_estimators=680, random_state=41, subsample=0.9, total= 6.2min\n",
      "[CV] learning_rate=0.15, loss=exponential, max_depth=9, max_features=None, min_samples_leaf=2, min_samples_split=5, n_estimators=680, random_state=731, subsample=0.9 \n",
      "[CV]  learning_rate=0.15, loss=exponential, max_depth=9, max_features=None, min_samples_leaf=2, min_samples_split=5, n_estimators=680, random_state=41, subsample=0.9, total= 6.1min\n",
      "[CV] learning_rate=0.15, loss=exponential, max_depth=9, max_features=None, min_samples_leaf=2, min_samples_split=5, n_estimators=680, random_state=731, subsample=0.9 \n",
      "[CV]  learning_rate=0.15, loss=exponential, max_depth=9, max_features=None, min_samples_leaf=2, min_samples_split=5, n_estimators=680, random_state=41, subsample=0.9, total= 6.1min\n",
      "[CV] learning_rate=0.15, loss=exponential, max_depth=9, max_features=None, min_samples_leaf=2, min_samples_split=5, n_estimators=680, random_state=731, subsample=0.9 \n",
      "[CV]  learning_rate=0.15, loss=exponential, max_depth=9, max_features=None, min_samples_leaf=2, min_samples_split=5, n_estimators=680, random_state=41, subsample=0.9, total= 6.1min\n",
      "[CV] learning_rate=0.15, loss=exponential, max_depth=9, max_features=None, min_samples_leaf=2, min_samples_split=5, n_estimators=680, random_state=731, subsample=0.9 \n",
      "[CV]  learning_rate=0.15, loss=exponential, max_depth=9, max_features=None, min_samples_leaf=2, min_samples_split=5, n_estimators=680, random_state=41, subsample=0.9, total= 6.1min\n",
      "[CV] learning_rate=0.15, loss=exponential, max_depth=9, max_features=None, min_samples_leaf=2, min_samples_split=5, n_estimators=680, random_state=731, subsample=0.9 \n",
      "[CV]  learning_rate=0.15, loss=exponential, max_depth=9, max_features=None, min_samples_leaf=2, min_samples_split=5, n_estimators=680, random_state=731, subsample=0.9, total= 6.1min\n",
      "[CV] learning_rate=0.15, loss=exponential, max_depth=9, max_features=None, min_samples_leaf=2, min_samples_split=5, n_estimators=680, random_state=731, subsample=0.9 \n",
      "[CV]  learning_rate=0.15, loss=exponential, max_depth=9, max_features=None, min_samples_leaf=2, min_samples_split=5, n_estimators=680, random_state=731, subsample=0.9, total= 6.1min\n",
      "[CV] learning_rate=0.15, loss=exponential, max_depth=9, max_features=None, min_samples_leaf=2, min_samples_split=5, n_estimators=680, random_state=731, subsample=0.9 \n",
      "[CV]  learning_rate=0.15, loss=exponential, max_depth=9, max_features=None, min_samples_leaf=2, min_samples_split=5, n_estimators=680, random_state=731, subsample=0.9, total= 6.1min\n",
      "[CV] learning_rate=0.15, loss=exponential, max_depth=9, max_features=None, min_samples_leaf=2, min_samples_split=5, n_estimators=680, random_state=2333, subsample=0.9 \n",
      "[CV]  learning_rate=0.15, loss=exponential, max_depth=9, max_features=None, min_samples_leaf=2, min_samples_split=5, n_estimators=680, random_state=731, subsample=0.9, total= 6.1min\n",
      "[CV] learning_rate=0.15, loss=exponential, max_depth=9, max_features=None, min_samples_leaf=2, min_samples_split=5, n_estimators=680, random_state=2333, subsample=0.9 \n",
      "[CV]  learning_rate=0.15, loss=exponential, max_depth=9, max_features=None, min_samples_leaf=2, min_samples_split=5, n_estimators=680, random_state=731, subsample=0.9, total= 6.3min\n",
      "[CV] learning_rate=0.15, loss=exponential, max_depth=9, max_features=None, min_samples_leaf=2, min_samples_split=5, n_estimators=680, random_state=2333, subsample=0.9 \n"
     ]
    },
    {
     "name": "stderr",
     "output_type": "stream",
     "text": [
      "[Parallel(n_jobs=-1)]: Done  25 tasks      | elapsed: 24.8min\n"
     ]
    },
    {
     "name": "stdout",
     "output_type": "stream",
     "text": [
      "[CV]  learning_rate=0.15, loss=exponential, max_depth=9, max_features=None, min_samples_leaf=2, min_samples_split=5, n_estimators=680, random_state=731, subsample=0.9, total= 6.3min\n",
      "[CV] learning_rate=0.15, loss=exponential, max_depth=9, max_features=None, min_samples_leaf=2, min_samples_split=5, n_estimators=680, random_state=2333, subsample=0.9 \n",
      "[CV]  learning_rate=0.15, loss=exponential, max_depth=9, max_features=None, min_samples_leaf=2, min_samples_split=5, n_estimators=680, random_state=731, subsample=0.9, total= 6.3min\n",
      "[CV] learning_rate=0.15, loss=exponential, max_depth=9, max_features=None, min_samples_leaf=2, min_samples_split=5, n_estimators=680, random_state=2333, subsample=0.9 \n",
      "[CV]  learning_rate=0.15, loss=exponential, max_depth=9, max_features=None, min_samples_leaf=2, min_samples_split=5, n_estimators=680, random_state=731, subsample=0.9, total= 6.3min\n",
      "[CV] learning_rate=0.15, loss=exponential, max_depth=9, max_features=None, min_samples_leaf=2, min_samples_split=5, n_estimators=680, random_state=2333, subsample=0.9 \n",
      "[CV]  learning_rate=0.15, loss=exponential, max_depth=9, max_features=None, min_samples_leaf=2, min_samples_split=5, n_estimators=680, random_state=731, subsample=0.9, total= 6.3min\n",
      "[CV] learning_rate=0.15, loss=exponential, max_depth=9, max_features=None, min_samples_leaf=2, min_samples_split=5, n_estimators=680, random_state=2333, subsample=0.9 \n",
      "[CV]  learning_rate=0.15, loss=exponential, max_depth=9, max_features=None, min_samples_leaf=2, min_samples_split=5, n_estimators=680, random_state=2333, subsample=0.9, total= 6.3min\n",
      "[CV] learning_rate=0.15, loss=exponential, max_depth=9, max_features=None, min_samples_leaf=2, min_samples_split=5, n_estimators=680, random_state=2333, subsample=0.9 \n",
      "[CV]  learning_rate=0.15, loss=exponential, max_depth=9, max_features=None, min_samples_leaf=2, min_samples_split=5, n_estimators=680, random_state=2333, subsample=0.9, total= 6.3min\n",
      "[CV] learning_rate=0.15, loss=exponential, max_depth=9, max_features=None, min_samples_leaf=2, min_samples_split=5, n_estimators=680, random_state=2333, subsample=0.9 \n",
      "[CV]  learning_rate=0.15, loss=exponential, max_depth=9, max_features=None, min_samples_leaf=2, min_samples_split=5, n_estimators=680, random_state=731, subsample=0.9, total= 6.3min\n",
      "[CV] learning_rate=0.15, loss=exponential, max_depth=9, max_features=None, min_samples_leaf=2, min_samples_split=5, n_estimators=680, random_state=2333, subsample=0.9 \n",
      "[CV]  learning_rate=0.15, loss=exponential, max_depth=9, max_features=None, min_samples_leaf=2, min_samples_split=5, n_estimators=680, random_state=2333, subsample=0.9, total= 6.2min\n",
      "[CV]  learning_rate=0.15, loss=exponential, max_depth=9, max_features=None, min_samples_leaf=2, min_samples_split=5, n_estimators=680, random_state=2333, subsample=0.9, total= 6.2min\n",
      "[CV]  learning_rate=0.15, loss=exponential, max_depth=9, max_features=None, min_samples_leaf=2, min_samples_split=5, n_estimators=680, random_state=2333, subsample=0.9, total= 6.2min\n",
      "[CV]  learning_rate=0.15, loss=exponential, max_depth=9, max_features=None, min_samples_leaf=2, min_samples_split=5, n_estimators=680, random_state=2333, subsample=0.9, total= 6.2min\n",
      "[CV]  learning_rate=0.15, loss=exponential, max_depth=9, max_features=None, min_samples_leaf=2, min_samples_split=5, n_estimators=680, random_state=2333, subsample=0.9, total= 6.1min\n",
      "[CV]  learning_rate=0.15, loss=exponential, max_depth=9, max_features=None, min_samples_leaf=2, min_samples_split=5, n_estimators=680, random_state=2333, subsample=0.9, total= 6.1min\n",
      "[CV]  learning_rate=0.15, loss=exponential, max_depth=9, max_features=None, min_samples_leaf=2, min_samples_split=5, n_estimators=680, random_state=2333, subsample=0.9, total= 6.1min\n",
      "[CV]  learning_rate=0.15, loss=exponential, max_depth=9, max_features=None, min_samples_leaf=2, min_samples_split=5, n_estimators=680, random_state=2333, subsample=0.9, total= 6.2min\n"
     ]
    },
    {
     "name": "stderr",
     "output_type": "stream",
     "text": [
      "[Parallel(n_jobs=-1)]: Done  40 out of  40 | elapsed: 31.0min finished\n"
     ]
    },
    {
     "name": "stdout",
     "output_type": "stream",
     "text": [
      "Best Accuracy : 0.9353720120393237\n",
      "Best Parameter:  {'learning_rate': 0.15, 'loss': 'exponential', 'max_depth': 9, 'max_features': None, 'min_samples_leaf': 2, 'min_samples_split': 5, 'n_estimators': 680, 'random_state': 41, 'subsample': 0.9}\n"
     ]
    }
   ],
   "source": [
    "# Best learning_rate: 0.15\n",
    "# Best loss: exponential 0.9327217565893049\n",
    "# Best max_depth: 9 0.9330429973826251\n",
    "# Best max_features: None 0.9330028488338005\n",
    "# Best n_estimators: 680 0.9333240593947796\n",
    "# Best min_samples_split: 5 0.933544926800549\n",
    "# Best subsample: 0.9 0.9340468582339625\n",
    "# Best min_samples_leaf: 2\n",
    "# Best random_state: 41 0.9353720120393237\n",
    "clf = GradientBoostingClassifier()\n",
    "param_grid = {'learning_rate': [0.15],\n",
    "              'loss': ['exponential'],\n",
    "              'max_depth':[9],\n",
    "              'max_features':[None],\n",
    "              'n_estimators': [680],\n",
    "              'min_samples_split': [5],\n",
    "              'subsample': [0.9],\n",
    "              'min_samples_leaf': [2],\n",
    "              'random_state': 41}\n",
    "model = GridSearchCV(clf, param_grid,scoring = 'accuracy', verbose=2, n_jobs=-1)\n",
    "with parallel_backend('threading'):\n",
    "    model.fit(base_dropna.drop(columns='ChargeOff'), base_dropna['ChargeOff'])\n",
    "\n",
    "# Validation\n",
    "print(\"Best Accuracy :\",model.best_score_)\n",
    "print(\"Best Parameter: \", model.best_params_)\n",
    "\n",
    "# Prediction\n",
    "test_pred = model.predict(base_test)\n",
    "pd.DataFrame(test_pred).to_csv('y_pred.csv',header=['ChargeOff'],index_label=\"Id\")"
   ]
  }
 ],
 "metadata": {
  "kernelspec": {
   "display_name": "ML",
   "language": "python",
   "name": "ml"
  },
  "language_info": {
   "codemirror_mode": {
    "name": "ipython",
    "version": 3
   },
   "file_extension": ".py",
   "mimetype": "text/x-python",
   "name": "python",
   "nbconvert_exporter": "python",
   "pygments_lexer": "ipython3",
   "version": "3.7.6"
  }
 },
 "nbformat": 4,
 "nbformat_minor": 4
}
