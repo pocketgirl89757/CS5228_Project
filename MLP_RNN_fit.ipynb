{
 "cells": [
  {
   "cell_type": "markdown",
   "metadata": {},
   "source": [
    "# CS5228 - Team pandas - MLP & LSTM Baseline Estimation\n",
    "\n",
    "A0105650R - Wang Gejing \n",
    "\n",
    "A0198889R - Chen Ningshuang \n",
    "\n",
    "A0210996X - Zhang Hao "
   ]
  },
  {
   "cell_type": "markdown",
   "metadata": {},
   "source": [
    "## Import Libraries"
   ]
  },
  {
   "cell_type": "code",
   "execution_count": 1,
   "metadata": {},
   "outputs": [],
   "source": [
    "from utils import *\n",
    "import pandas as pd\n",
    "import locale\n",
    "import numpy as np\n",
    "import seaborn as sb\n",
    "import matplotlib.pyplot as plt\n",
    "%matplotlib inline\n",
    "\n",
    "# model training\n",
    "from sklearn.model_selection import train_test_split\n",
    "from sklearn.model_selection import GridSearchCV\n",
    "\n",
    "# model evaluation\n",
    "from sklearn.metrics import confusion_matrix\n",
    "from sklearn.metrics import f1_score\n",
    "from sklearn.metrics import accuracy_score\n",
    "\n",
    "# classifiers\n",
    "from sklearn.naive_bayes import GaussianNB # naive bayes\n",
    "from sklearn.neighbors import KNeighborsClassifier # KNN\n",
    "from sklearn.linear_model import LogisticRegression # logistic regression\n",
    "from sklearn.tree import DecisionTreeClassifier # decision Tree\n",
    "from sklearn.ensemble import RandomForestClassifier \n",
    "from sklearn.ensemble import GradientBoostingClassifier\n",
    "from sklearn.neural_network import MLPClassifier\n",
    "from sklearn.preprocessing import MinMaxScaler\n",
    "\n",
    "# ignore warnings\n",
    "import warnings\n",
    "warnings.filterwarnings('ignore')\n",
    "locale.setlocale(locale.LC_ALL,'')\n",
    "pd.set_option('display.max_columns', None)"
   ]
  },
  {
   "cell_type": "markdown",
   "metadata": {},
   "source": [
    "## Import training and test data"
   ]
  },
  {
   "cell_type": "code",
   "execution_count": 2,
   "metadata": {},
   "outputs": [],
   "source": [
    "drop_columns = []\n",
    "\n",
    "le = generate_labels()\n",
    "sc = generate_scaler(le, preprocessing.MinMaxScaler())\n",
    "\n",
    "base_dropna = get_data(scaler=sc,le=le,type='train', dropna=True, get_dummy=True, feature_split=False, values_only=True,drop_columns=drop_columns)\n",
    "base_test = get_data(scaler=sc,le=le,type='test', dropna=False, get_dummy=True, feature_split=False, values_only=True,drop_columns=drop_columns)"
   ]
  },
  {
   "cell_type": "markdown",
   "metadata": {},
   "source": [
    "## Fit MLP Classifier"
   ]
  },
  {
   "cell_type": "code",
   "execution_count": 3,
   "metadata": {},
   "outputs": [
    {
     "name": "stdout",
     "output_type": "stream",
     "text": [
      "f1: 84.4, acc: 84.4\n"
     ]
    }
   ],
   "source": [
    "base_dropna_x = base_dropna.drop(columns='ChargeOff')\n",
    "base_dropna_y = base_dropna['ChargeOff']\n",
    "x_train, x_val, y_train, y_val = train_test_split(base_dropna_x, base_dropna_y, test_size=0.1, random_state=0)\n",
    "\n",
    "clf = MLPClassifier(hidden_layer_sizes=(16,4)).fit(x_train, y_train)\n",
    "\n",
    "y_val_pred = clf.predict(x_val)\n",
    "f1 = round(f1_score(y_val, y_val_pred, average='weighted') * 100, 2)\n",
    "acc = round(accuracy_score(y_val, y_val_pred) * 100, 2)\n",
    "print(\"f1: {}, acc: {}\".format(f1, acc))"
   ]
  },
  {
   "cell_type": "markdown",
   "metadata": {},
   "source": [
    "## Fit LSTM Model"
   ]
  },
  {
   "cell_type": "code",
   "execution_count": 4,
   "metadata": {},
   "outputs": [],
   "source": [
    "x_train = x_train.to_numpy().reshape((x_train.shape[0], 1, x_train.shape[1]))\n",
    "x_val = x_val.to_numpy().reshape((x_val.shape[0], 1, x_val.shape[1]))\n",
    "y_train = y_train.to_numpy()\n",
    "y_val = y_val.to_numpy()"
   ]
  },
  {
   "cell_type": "code",
   "execution_count": 5,
   "metadata": {},
   "outputs": [
    {
     "name": "stdout",
     "output_type": "stream",
     "text": [
      "Model: \"sequential\"\n",
      "_________________________________________________________________\n",
      "Layer (type)                 Output Shape              Param #   \n",
      "=================================================================\n",
      "lstm (LSTM)                  (None, 64)                23552     \n",
      "_________________________________________________________________\n",
      "dense (Dense)                (None, 32)                2080      \n",
      "_________________________________________________________________\n",
      "dense_1 (Dense)              (None, 1)                 33        \n",
      "=================================================================\n",
      "Total params: 25,665\n",
      "Trainable params: 25,665\n",
      "Non-trainable params: 0\n",
      "_________________________________________________________________\n"
     ]
    }
   ],
   "source": [
    "import tensorflow as tf\n",
    "physical_devices = tf.config.experimental.list_physical_devices('GPU')\n",
    "tf.config.experimental.set_memory_growth(physical_devices[0], True)\n",
    "\n",
    "model = tf.keras.Sequential([\n",
    "    tf.keras.layers.LSTM(64, input_shape=(x_train.shape[1], x_train.shape[2])),\n",
    "    tf.keras.layers.Dense(32, activation='relu'),\n",
    "    tf.keras.layers.Dense(1, activation='sigmoid')\n",
    "])\n",
    "\n",
    "model.compile(loss='mse',\n",
    "              optimizer=tf.keras.optimizers.Adam(0.003),\n",
    "              metrics=['accuracy'])\n",
    "\n",
    "model.summary()"
   ]
  },
  {
   "cell_type": "code",
   "execution_count": 6,
   "metadata": {},
   "outputs": [
    {
     "name": "stdout",
     "output_type": "stream",
     "text": [
      "Train on 44827 samples, validate on 4981 samples\n",
      "Epoch 1/100\n",
      "44827/44827 - 8s - loss: 0.1797 - accuracy: 0.7410 - val_loss: 0.1472 - val_accuracy: 0.8073\n",
      "Epoch 2/100\n",
      "44827/44827 - 1s - loss: 0.1472 - accuracy: 0.7979 - val_loss: 0.1395 - val_accuracy: 0.8127\n",
      "Epoch 3/100\n",
      "44827/44827 - 1s - loss: 0.1384 - accuracy: 0.8114 - val_loss: 0.1302 - val_accuracy: 0.8285\n",
      "Epoch 4/100\n",
      "44827/44827 - 1s - loss: 0.1354 - accuracy: 0.8159 - val_loss: 0.1311 - val_accuracy: 0.8231\n",
      "Epoch 5/100\n",
      "44827/44827 - 1s - loss: 0.1321 - accuracy: 0.8208 - val_loss: 0.1305 - val_accuracy: 0.8263\n",
      "Epoch 6/100\n",
      "44827/44827 - 1s - loss: 0.1304 - accuracy: 0.8236 - val_loss: 0.1266 - val_accuracy: 0.8308\n",
      "Epoch 7/100\n",
      "44827/44827 - 1s - loss: 0.1293 - accuracy: 0.8243 - val_loss: 0.1246 - val_accuracy: 0.8330\n",
      "Epoch 8/100\n",
      "44827/44827 - 1s - loss: 0.1275 - accuracy: 0.8284 - val_loss: 0.1234 - val_accuracy: 0.8374\n",
      "Epoch 9/100\n",
      "44827/44827 - 1s - loss: 0.1255 - accuracy: 0.8305 - val_loss: 0.1282 - val_accuracy: 0.8245\n",
      "Epoch 10/100\n",
      "44827/44827 - 1s - loss: 0.1245 - accuracy: 0.8332 - val_loss: 0.1208 - val_accuracy: 0.8382\n",
      "Epoch 11/100\n",
      "44827/44827 - 1s - loss: 0.1241 - accuracy: 0.8331 - val_loss: 0.1244 - val_accuracy: 0.8306\n",
      "Epoch 12/100\n",
      "44827/44827 - 1s - loss: 0.1229 - accuracy: 0.8347 - val_loss: 0.1188 - val_accuracy: 0.8418\n",
      "Epoch 13/100\n",
      "44827/44827 - 1s - loss: 0.1216 - accuracy: 0.8357 - val_loss: 0.1189 - val_accuracy: 0.8448\n",
      "Epoch 14/100\n",
      "44827/44827 - 1s - loss: 0.1210 - accuracy: 0.8379 - val_loss: 0.1173 - val_accuracy: 0.8424\n",
      "Epoch 15/100\n",
      "44827/44827 - 1s - loss: 0.1193 - accuracy: 0.8399 - val_loss: 0.1175 - val_accuracy: 0.8428\n",
      "Epoch 16/100\n",
      "44827/44827 - 1s - loss: 0.1185 - accuracy: 0.8413 - val_loss: 0.1140 - val_accuracy: 0.8500\n",
      "Epoch 17/100\n",
      "44827/44827 - 1s - loss: 0.1166 - accuracy: 0.8447 - val_loss: 0.1129 - val_accuracy: 0.8504\n",
      "Epoch 18/100\n",
      "44827/44827 - 1s - loss: 0.1163 - accuracy: 0.8442 - val_loss: 0.1118 - val_accuracy: 0.8528\n",
      "Epoch 19/100\n",
      "44827/44827 - 1s - loss: 0.1153 - accuracy: 0.8455 - val_loss: 0.1104 - val_accuracy: 0.8544\n",
      "Epoch 20/100\n",
      "44827/44827 - 1s - loss: 0.1140 - accuracy: 0.8469 - val_loss: 0.1108 - val_accuracy: 0.8500\n",
      "Epoch 21/100\n",
      "44827/44827 - 1s - loss: 0.1136 - accuracy: 0.8486 - val_loss: 0.1112 - val_accuracy: 0.8508\n",
      "Epoch 22/100\n",
      "44827/44827 - 1s - loss: 0.1124 - accuracy: 0.8492 - val_loss: 0.1102 - val_accuracy: 0.8546\n",
      "Epoch 23/100\n",
      "44827/44827 - 1s - loss: 0.1120 - accuracy: 0.8500 - val_loss: 0.1095 - val_accuracy: 0.8579\n",
      "Epoch 24/100\n",
      "44827/44827 - 1s - loss: 0.1112 - accuracy: 0.8513 - val_loss: 0.1119 - val_accuracy: 0.8472\n",
      "Epoch 25/100\n",
      "44827/44827 - 1s - loss: 0.1103 - accuracy: 0.8515 - val_loss: 0.1129 - val_accuracy: 0.8484\n",
      "Epoch 26/100\n",
      "44827/44827 - 1s - loss: 0.1099 - accuracy: 0.8525 - val_loss: 0.1121 - val_accuracy: 0.8516\n",
      "Epoch 27/100\n",
      "44827/44827 - 1s - loss: 0.1090 - accuracy: 0.8535 - val_loss: 0.1060 - val_accuracy: 0.8599\n",
      "Epoch 28/100\n",
      "44827/44827 - 1s - loss: 0.1082 - accuracy: 0.8557 - val_loss: 0.1053 - val_accuracy: 0.8601\n",
      "Epoch 29/100\n",
      "44827/44827 - 1s - loss: 0.1074 - accuracy: 0.8565 - val_loss: 0.1087 - val_accuracy: 0.8552\n",
      "Epoch 30/100\n",
      "44827/44827 - 1s - loss: 0.1090 - accuracy: 0.8538 - val_loss: 0.1071 - val_accuracy: 0.8589\n",
      "Epoch 31/100\n",
      "44827/44827 - 1s - loss: 0.1070 - accuracy: 0.8572 - val_loss: 0.1061 - val_accuracy: 0.8617\n",
      "Epoch 32/100\n",
      "44827/44827 - 1s - loss: 0.1076 - accuracy: 0.8569 - val_loss: 0.1049 - val_accuracy: 0.8599\n",
      "Epoch 33/100\n",
      "44827/44827 - 1s - loss: 0.1064 - accuracy: 0.8582 - val_loss: 0.1099 - val_accuracy: 0.8583\n",
      "Epoch 34/100\n",
      "44827/44827 - 1s - loss: 0.1061 - accuracy: 0.8597 - val_loss: 0.1073 - val_accuracy: 0.8615\n",
      "Epoch 35/100\n",
      "44827/44827 - 1s - loss: 0.1059 - accuracy: 0.8591 - val_loss: 0.1074 - val_accuracy: 0.8548\n",
      "Epoch 36/100\n",
      "44827/44827 - 1s - loss: 0.1056 - accuracy: 0.8600 - val_loss: 0.1052 - val_accuracy: 0.8607\n",
      "Epoch 37/100\n",
      "44827/44827 - 1s - loss: 0.1042 - accuracy: 0.8613 - val_loss: 0.1095 - val_accuracy: 0.8524\n",
      "Epoch 38/100\n",
      "44827/44827 - 1s - loss: 0.1050 - accuracy: 0.8611 - val_loss: 0.1053 - val_accuracy: 0.8629\n",
      "Epoch 39/100\n",
      "44827/44827 - 1s - loss: 0.1042 - accuracy: 0.8616 - val_loss: 0.1088 - val_accuracy: 0.8557\n",
      "Epoch 40/100\n",
      "44827/44827 - 1s - loss: 0.1039 - accuracy: 0.8614 - val_loss: 0.1071 - val_accuracy: 0.8559\n",
      "Epoch 41/100\n",
      "44827/44827 - 1s - loss: 0.1032 - accuracy: 0.8637 - val_loss: 0.1078 - val_accuracy: 0.8546\n",
      "Epoch 42/100\n",
      "44827/44827 - 1s - loss: 0.1032 - accuracy: 0.8637 - val_loss: 0.1057 - val_accuracy: 0.8637\n",
      "Epoch 43/100\n",
      "44827/44827 - 1s - loss: 0.1028 - accuracy: 0.8633 - val_loss: 0.1050 - val_accuracy: 0.8611\n",
      "Epoch 44/100\n",
      "44827/44827 - 1s - loss: 0.1023 - accuracy: 0.8656 - val_loss: 0.1054 - val_accuracy: 0.8633\n",
      "Epoch 45/100\n",
      "44827/44827 - 1s - loss: 0.1022 - accuracy: 0.8657 - val_loss: 0.1039 - val_accuracy: 0.8627\n",
      "Epoch 46/100\n",
      "44827/44827 - 1s - loss: 0.1013 - accuracy: 0.8662 - val_loss: 0.1060 - val_accuracy: 0.8579\n",
      "Epoch 47/100\n",
      "44827/44827 - 1s - loss: 0.1011 - accuracy: 0.8664 - val_loss: 0.1056 - val_accuracy: 0.8637\n",
      "Epoch 48/100\n",
      "44827/44827 - 1s - loss: 0.1013 - accuracy: 0.8657 - val_loss: 0.1039 - val_accuracy: 0.8567\n",
      "Epoch 49/100\n",
      "44827/44827 - 1s - loss: 0.1013 - accuracy: 0.8657 - val_loss: 0.1091 - val_accuracy: 0.8522\n",
      "Epoch 50/100\n",
      "44827/44827 - 1s - loss: 0.1006 - accuracy: 0.8672 - val_loss: 0.1010 - val_accuracy: 0.8663\n",
      "Epoch 51/100\n",
      "44827/44827 - 1s - loss: 0.1002 - accuracy: 0.8671 - val_loss: 0.1100 - val_accuracy: 0.8498\n",
      "Epoch 52/100\n",
      "44827/44827 - 1s - loss: 0.1010 - accuracy: 0.8668 - val_loss: 0.1030 - val_accuracy: 0.8637\n",
      "Epoch 53/100\n",
      "44827/44827 - 1s - loss: 0.0999 - accuracy: 0.8677 - val_loss: 0.1058 - val_accuracy: 0.8571\n",
      "Epoch 54/100\n",
      "44827/44827 - 1s - loss: 0.0995 - accuracy: 0.8698 - val_loss: 0.1030 - val_accuracy: 0.8663\n",
      "Epoch 55/100\n",
      "44827/44827 - 1s - loss: 0.0994 - accuracy: 0.8690 - val_loss: 0.1032 - val_accuracy: 0.8621\n",
      "Epoch 56/100\n",
      "44827/44827 - 1s - loss: 0.0997 - accuracy: 0.8681 - val_loss: 0.1020 - val_accuracy: 0.8659\n",
      "Epoch 57/100\n",
      "44827/44827 - 1s - loss: 0.0993 - accuracy: 0.8701 - val_loss: 0.1051 - val_accuracy: 0.8609\n",
      "Epoch 58/100\n",
      "44827/44827 - 1s - loss: 0.0990 - accuracy: 0.8702 - val_loss: 0.1057 - val_accuracy: 0.8601\n",
      "Epoch 59/100\n",
      "44827/44827 - 1s - loss: 0.0994 - accuracy: 0.8693 - val_loss: 0.1038 - val_accuracy: 0.8579\n",
      "Epoch 60/100\n",
      "44827/44827 - 1s - loss: 0.0985 - accuracy: 0.8695 - val_loss: 0.1044 - val_accuracy: 0.8591\n",
      "Epoch 61/100\n",
      "44827/44827 - 1s - loss: 0.0988 - accuracy: 0.8692 - val_loss: 0.1025 - val_accuracy: 0.8649\n",
      "Epoch 62/100\n",
      "44827/44827 - 1s - loss: 0.0981 - accuracy: 0.8717 - val_loss: 0.1031 - val_accuracy: 0.8643\n",
      "Epoch 63/100\n",
      "44827/44827 - 1s - loss: 0.0979 - accuracy: 0.8711 - val_loss: 0.1049 - val_accuracy: 0.8581\n",
      "Epoch 64/100\n",
      "44827/44827 - 1s - loss: 0.0983 - accuracy: 0.8709 - val_loss: 0.1030 - val_accuracy: 0.8643\n",
      "Epoch 65/100\n",
      "44827/44827 - 1s - loss: 0.0980 - accuracy: 0.8710 - val_loss: 0.1030 - val_accuracy: 0.8603\n",
      "Epoch 66/100\n",
      "44827/44827 - 1s - loss: 0.0978 - accuracy: 0.8705 - val_loss: 0.1033 - val_accuracy: 0.8637\n",
      "Epoch 67/100\n",
      "44827/44827 - 1s - loss: 0.0967 - accuracy: 0.8727 - val_loss: 0.1031 - val_accuracy: 0.8613\n",
      "Epoch 68/100\n",
      "44827/44827 - 1s - loss: 0.0968 - accuracy: 0.8730 - val_loss: 0.1031 - val_accuracy: 0.8591\n",
      "Epoch 69/100\n",
      "44827/44827 - 1s - loss: 0.0967 - accuracy: 0.8722 - val_loss: 0.1055 - val_accuracy: 0.8585\n",
      "Epoch 70/100\n",
      "44827/44827 - 1s - loss: 0.0972 - accuracy: 0.8721 - val_loss: 0.1070 - val_accuracy: 0.8542\n",
      "Epoch 71/100\n",
      "44827/44827 - 1s - loss: 0.0975 - accuracy: 0.8721 - val_loss: 0.1052 - val_accuracy: 0.8615\n",
      "Epoch 72/100\n",
      "44827/44827 - 1s - loss: 0.0961 - accuracy: 0.8733 - val_loss: 0.1023 - val_accuracy: 0.8657\n",
      "Epoch 73/100\n",
      "44827/44827 - 1s - loss: 0.0957 - accuracy: 0.8752 - val_loss: 0.1024 - val_accuracy: 0.8639\n",
      "Epoch 74/100\n",
      "44827/44827 - 1s - loss: 0.0964 - accuracy: 0.8734 - val_loss: 0.1053 - val_accuracy: 0.8613\n",
      "Epoch 75/100\n",
      "44827/44827 - 1s - loss: 0.0954 - accuracy: 0.8749 - val_loss: 0.1044 - val_accuracy: 0.8589\n",
      "Epoch 76/100\n",
      "44827/44827 - 1s - loss: 0.0954 - accuracy: 0.8745 - val_loss: 0.1037 - val_accuracy: 0.8663\n",
      "Epoch 77/100\n",
      "44827/44827 - 1s - loss: 0.0950 - accuracy: 0.8745 - val_loss: 0.1089 - val_accuracy: 0.8550\n",
      "Epoch 78/100\n",
      "44827/44827 - 1s - loss: 0.0948 - accuracy: 0.8753 - val_loss: 0.1059 - val_accuracy: 0.8575\n",
      "Epoch 79/100\n",
      "44827/44827 - 1s - loss: 0.0953 - accuracy: 0.8754 - val_loss: 0.1067 - val_accuracy: 0.8575\n",
      "Epoch 80/100\n",
      "44827/44827 - 1s - loss: 0.0944 - accuracy: 0.8764 - val_loss: 0.1063 - val_accuracy: 0.8601\n",
      "Epoch 81/100\n",
      "44827/44827 - 1s - loss: 0.0946 - accuracy: 0.8757 - val_loss: 0.1037 - val_accuracy: 0.8637\n",
      "Epoch 82/100\n",
      "44827/44827 - 1s - loss: 0.0944 - accuracy: 0.8756 - val_loss: 0.1033 - val_accuracy: 0.8629\n",
      "Epoch 83/100\n",
      "44827/44827 - 1s - loss: 0.0943 - accuracy: 0.8763 - val_loss: 0.1054 - val_accuracy: 0.8575\n",
      "Epoch 84/100\n",
      "44827/44827 - 1s - loss: 0.0938 - accuracy: 0.8771 - val_loss: 0.1021 - val_accuracy: 0.8671\n",
      "Epoch 85/100\n",
      "44827/44827 - 1s - loss: 0.0935 - accuracy: 0.8772 - val_loss: 0.1061 - val_accuracy: 0.8579\n",
      "Epoch 86/100\n",
      "44827/44827 - 1s - loss: 0.0933 - accuracy: 0.8773 - val_loss: 0.1026 - val_accuracy: 0.8653\n",
      "Epoch 87/100\n",
      "44827/44827 - 1s - loss: 0.0928 - accuracy: 0.8785 - val_loss: 0.1026 - val_accuracy: 0.8625\n",
      "Epoch 88/100\n",
      "44827/44827 - 1s - loss: 0.0928 - accuracy: 0.8775 - val_loss: 0.1082 - val_accuracy: 0.8544\n",
      "Epoch 89/100\n",
      "44827/44827 - 1s - loss: 0.0934 - accuracy: 0.8776 - val_loss: 0.1039 - val_accuracy: 0.8621\n",
      "Epoch 90/100\n",
      "44827/44827 - 1s - loss: 0.0932 - accuracy: 0.8781 - val_loss: 0.1025 - val_accuracy: 0.8639\n",
      "Epoch 91/100\n",
      "44827/44827 - 1s - loss: 0.0922 - accuracy: 0.8797 - val_loss: 0.1033 - val_accuracy: 0.8639\n",
      "Epoch 92/100\n",
      "44827/44827 - 1s - loss: 0.0922 - accuracy: 0.8800 - val_loss: 0.1044 - val_accuracy: 0.8589\n",
      "Epoch 93/100\n",
      "44827/44827 - 1s - loss: 0.0928 - accuracy: 0.8793 - val_loss: 0.1043 - val_accuracy: 0.8605\n",
      "Epoch 94/100\n",
      "44827/44827 - 1s - loss: 0.0931 - accuracy: 0.8776 - val_loss: 0.1044 - val_accuracy: 0.8615\n",
      "Epoch 95/100\n",
      "44827/44827 - 1s - loss: 0.0920 - accuracy: 0.8796 - val_loss: 0.1070 - val_accuracy: 0.8559\n",
      "Epoch 96/100\n",
      "44827/44827 - 1s - loss: 0.0921 - accuracy: 0.8788 - val_loss: 0.1034 - val_accuracy: 0.8615\n",
      "Epoch 97/100\n",
      "44827/44827 - 1s - loss: 0.0917 - accuracy: 0.8801 - val_loss: 0.1038 - val_accuracy: 0.8601\n",
      "Epoch 98/100\n",
      "44827/44827 - 1s - loss: 0.0913 - accuracy: 0.8805 - val_loss: 0.1051 - val_accuracy: 0.8597\n",
      "Epoch 99/100\n",
      "44827/44827 - 1s - loss: 0.0912 - accuracy: 0.8815 - val_loss: 0.1048 - val_accuracy: 0.8607\n",
      "Epoch 100/100\n",
      "44827/44827 - 1s - loss: 0.0910 - accuracy: 0.8805 - val_loss: 0.1082 - val_accuracy: 0.8567\n"
     ]
    }
   ],
   "source": [
    "history = model.fit(x_train, y_train, epochs=100, batch_size=128, validation_data=(x_val, y_val), verbose=2, shuffle=True)"
   ]
  },
  {
   "cell_type": "code",
   "execution_count": 7,
   "metadata": {},
   "outputs": [
    {
     "data": {
      "image/png": "[encoded data removed]",
      "text/plain": [
       "<Figure size 432x288 with 1 Axes>"
      ]
     },
     "metadata": {
      "needs_background": "light"
     },
     "output_type": "display_data"
    }
   ],
   "source": [
    "plt.plot(history.history['loss'], label='train')\n",
    "plt.plot(history.history['val_loss'], label='validation')\n",
    "plt.legend()\n",
    "plt.show()"
   ]
  },
  {
   "cell_type": "code",
   "execution_count": null,
   "metadata": {},
   "outputs": [],
   "source": []
  }
 ],
 "metadata": {
  "kernelspec": {
   "display_name": "ML",
   "language": "python",
   "name": "ml"
  },
  "language_info": {
   "codemirror_mode": {
    "name": "ipython",
    "version": 3
   },
   "file_extension": ".py",
   "mimetype": "text/x-python",
   "name": "python",
   "nbconvert_exporter": "python",
   "pygments_lexer": "ipython3",
   "version": "3.7.6"
  }
 },
 "nbformat": 4,
 "nbformat_minor": 4
}
