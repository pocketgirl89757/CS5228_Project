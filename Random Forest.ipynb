{
 "cells": [
  {
   "cell_type": "code",
   "execution_count": 1,
   "metadata": {},
   "outputs": [],
   "source": [
    "# All Imports\n",
    "from utils import *\n",
    "import pandas as pd\n",
    "import locale\n",
    "import numpy as np\n",
    "import seaborn as sb\n",
    "import matplotlib.pyplot as plt\n",
    "%matplotlib inline\n",
    "from sklearn import preprocessing\n",
    "\n",
    "# model training\n",
    "from sklearn.model_selection import train_test_split\n",
    "from sklearn.model_selection import GridSearchCV\n",
    "\n",
    "# model evaluation\n",
    "from sklearn.metrics import confusion_matrix\n",
    "from sklearn.metrics import f1_score\n",
    "from sklearn.metrics import accuracy_score\n",
    "\n",
    "# classifiers\n",
    "from sklearn.ensemble import RandomForestClassifier \n",
    "\n",
    "# ignore warnings\n",
    "import warnings\n",
    "warnings.filterwarnings('ignore')\n",
    "locale.setlocale(locale.LC_ALL,'')\n",
    "pd.set_option('display.max_columns', None)"
   ]
  },
  {
   "cell_type": "code",
   "execution_count": 2,
   "metadata": {},
   "outputs": [],
   "source": [
    "# Process Training Data\n",
    "# drop_columns = ['CreateJob','RetainedJob','City','Name','Zip','BankState']\n",
    "\n",
    "# drop_columns = ['CreateJob','ApprovalFY','ApprovalDate','DisbursementGross','SBA_Appv']\n",
    "\n",
    "drop_columns = []\n",
    "\n",
    "le = generate_labels()\n",
    "sc = generate_scaler(le, preprocessing.MinMaxScaler())\n",
    "\n",
    "base_dropna = get_data(scaler=sc,le=le,type='train', dropna=True, get_dummy=True, feature_split=False, values_only=True,drop_columns=drop_columns)\n",
    "base_test = get_data(scaler=sc,le=le,type='test', dropna=False, get_dummy=True, feature_split=False, values_only=True,drop_columns=drop_columns)"
   ]
  },
  {
   "cell_type": "code",
   "execution_count": 3,
   "metadata": {},
   "outputs": [],
   "source": [
    "base_dropna_x = base_dropna.drop(columns='ChargeOff')\n",
    "base_dropna_y = base_dropna['ChargeOff']"
   ]
  },
  {
   "cell_type": "code",
   "execution_count": 5,
   "metadata": {},
   "outputs": [
    {
     "name": "stdout",
     "output_type": "stream",
     "text": [
      "Fitting 10 folds for each of 1 candidates, totalling 10 fits\n"
     ]
    },
    {
     "name": "stderr",
     "output_type": "stream",
     "text": [
      "[Parallel(n_jobs=-1)]: Using backend LokyBackend with 12 concurrent workers.\n",
      "[Parallel(n_jobs=-1)]: Done   3 out of  10 | elapsed:   10.2s remaining:   23.8s\n",
      "[Parallel(n_jobs=-1)]: Done   5 out of  10 | elapsed:   10.2s remaining:   10.2s\n",
      "[Parallel(n_jobs=-1)]: Done   7 out of  10 | elapsed:   10.3s remaining:    4.4s\n",
      "[Parallel(n_jobs=-1)]: Done  10 out of  10 | elapsed:   10.8s finished\n"
     ]
    },
    {
     "name": "stdout",
     "output_type": "stream",
     "text": [
      "Best Accuracy : 0.9022447589998622\n",
      "Best Parameters {}\n",
      "{'mean_fit_time': array([10.02176611]), 'std_fit_time': array([0.09323126]), 'mean_score_time': array([0.10208473]), 'std_score_time': array([0.01522704]), 'params': [{}], 'split0_test_score': array([0.90082313]), 'split1_test_score': array([0.90303152]), 'split2_test_score': array([0.89560329]), 'split3_test_score': array([0.89981931]), 'split4_test_score': array([0.90142542]), 'split5_test_score': array([0.8988155]), 'split6_test_score': array([0.90945593]), 'split7_test_score': array([0.90202771]), 'split8_test_score': array([0.90421687]), 'split9_test_score': array([0.90722892]), 'mean_test_score': array([0.90224476]), 'std_test_score': array([0.00381893]), 'rank_test_score': array([1], dtype=int32)}\n"
     ]
    }
   ],
   "source": [
    "# Train Model\n",
    "clf = RandomForestClassifier(random_state=1234)\n",
    "\n",
    "param_grid = {\n",
    "#     'learning_rate': [0.05,0.1,0.2],\n",
    "#               'loss': ['exponential'],\n",
    "#               'max_depth':[2,4,6,8,12],\n",
    "#               'max_features':[None],\n",
    "#               'n_estimators':[100,200,300],\n",
    "#               'min_samples_split':[2],\n",
    "#               \"base_estimator__min_samples_split\":[2,3,4],\n",
    "#               \"base_estimator__criterion\":[\"gini\", \"entropy\"],\n",
    "#               \"base_estimator__max_depth\":[2,3,4,5]\n",
    "             }\n",
    "\n",
    "model = GridSearchCV(clf, param_grid,scoring = 'accuracy', cv=10,n_jobs=-1,verbose=10)\n",
    "model.fit(base_dropna_x, base_dropna_y)\n",
    "\n",
    "\n",
    "print(\"Best Accuracy :\",model.best_score_)\n",
    "print(\"Best Parameters\",model.best_params_)\n",
    "print(model.cv_results_)\n",
    "\n",
    "# Prediction\n",
    "test_pred = model.predict(base_test)\n",
    "pd.DataFrame(test_pred).to_csv('results/rf/y_pred1.csv',header=['ChargeOff'],index_label=\"Id\")"
   ]
  },
  {
   "cell_type": "code",
   "execution_count": 7,
   "metadata": {},
   "outputs": [
    {
     "name": "stdout",
     "output_type": "stream",
     "text": [
      "Fitting 10 folds for each of 15 candidates, totalling 150 fits\n"
     ]
    },
    {
     "name": "stderr",
     "output_type": "stream",
     "text": [
      "[Parallel(n_jobs=-1)]: Using backend LokyBackend with 12 concurrent workers.\n",
      "[Parallel(n_jobs=-1)]: Done   1 tasks      | elapsed:    3.0s\n",
      "[Parallel(n_jobs=-1)]: Done   8 tasks      | elapsed:    3.0s\n",
      "[Parallel(n_jobs=-1)]: Done  17 tasks      | elapsed:    6.8s\n",
      "[Parallel(n_jobs=-1)]: Done  26 tasks      | elapsed:   10.5s\n",
      "[Parallel(n_jobs=-1)]: Done  37 tasks      | elapsed:   13.7s\n",
      "[Parallel(n_jobs=-1)]: Done  48 tasks      | elapsed:   19.4s\n",
      "[Parallel(n_jobs=-1)]: Done  61 tasks      | elapsed:   28.7s\n",
      "[Parallel(n_jobs=-1)]: Done  74 tasks      | elapsed:   37.5s\n",
      "[Parallel(n_jobs=-1)]: Done  89 tasks      | elapsed:   50.7s\n",
      "[Parallel(n_jobs=-1)]: Done 104 tasks      | elapsed:  1.0min\n",
      "[Parallel(n_jobs=-1)]: Done 121 tasks      | elapsed:  1.3min\n",
      "[Parallel(n_jobs=-1)]: Done 143 out of 150 | elapsed:  1.9min remaining:    5.7s\n",
      "[Parallel(n_jobs=-1)]: Done 150 out of 150 | elapsed:  2.0min finished\n"
     ]
    },
    {
     "name": "stdout",
     "output_type": "stream",
     "text": [
      "Best Accuracy : 0.8906603728707239\n",
      "Best Parameters {'max_depth': 12, 'min_samples_split': 2, 'n_estimators': 200}\n",
      "{'mean_fit_time': array([ 1.88846743,  3.68350213,  5.49014349,  3.09526651,  6.10848911,\n",
      "        9.19571376,  4.35539672,  8.6811362 , 12.95212588,  5.56765823,\n",
      "       11.1856061 , 16.81616201,  7.86299601, 15.59076922, 20.94420762]), 'std_fit_time': array([0.01073888, 0.0260579 , 0.02617536, 0.02500397, 0.01725443,\n",
      "       0.02255412, 0.03014543, 0.02796782, 0.0649214 , 0.01949433,\n",
      "       0.04253022, 0.05325811, 0.02594382, 0.04318491, 0.86616855]), 'mean_score_time': array([0.03805962, 0.07497137, 0.10591438, 0.04609506, 0.08486137,\n",
      "       0.12736497, 0.05089397, 0.10255318, 0.15389981, 0.06054749,\n",
      "       0.11961012, 0.17846229, 0.08712935, 0.1633512 , 0.17302759]), 'std_score_time': array([0.00197466, 0.00227691, 0.00237838, 0.00378197, 0.00172447,\n",
      "       0.00266806, 0.00189545, 0.00427772, 0.0062377 , 0.00076395,\n",
      "       0.00351582, 0.00524032, 0.00602625, 0.00235188, 0.02966441]), 'param_max_depth': masked_array(data=[2, 2, 2, 4, 4, 4, 6, 6, 6, 8, 8, 8, 12, 12, 12],\n",
      "             mask=[False, False, False, False, False, False, False, False,\n",
      "                   False, False, False, False, False, False, False],\n",
      "       fill_value='?',\n",
      "            dtype=object), 'param_min_samples_split': masked_array(data=[2, 2, 2, 2, 2, 2, 2, 2, 2, 2, 2, 2, 2, 2, 2],\n",
      "             mask=[False, False, False, False, False, False, False, False,\n",
      "                   False, False, False, False, False, False, False],\n",
      "       fill_value='?',\n",
      "            dtype=object), 'param_n_estimators': masked_array(data=[100, 200, 300, 100, 200, 300, 100, 200, 300, 100, 200,\n",
      "                   300, 100, 200, 300],\n",
      "             mask=[False, False, False, False, False, False, False, False,\n",
      "                   False, False, False, False, False, False, False],\n",
      "       fill_value='?',\n",
      "            dtype=object), 'params': [{'max_depth': 2, 'min_samples_split': 2, 'n_estimators': 100}, {'max_depth': 2, 'min_samples_split': 2, 'n_estimators': 200}, {'max_depth': 2, 'min_samples_split': 2, 'n_estimators': 300}, {'max_depth': 4, 'min_samples_split': 2, 'n_estimators': 100}, {'max_depth': 4, 'min_samples_split': 2, 'n_estimators': 200}, {'max_depth': 4, 'min_samples_split': 2, 'n_estimators': 300}, {'max_depth': 6, 'min_samples_split': 2, 'n_estimators': 100}, {'max_depth': 6, 'min_samples_split': 2, 'n_estimators': 200}, {'max_depth': 6, 'min_samples_split': 2, 'n_estimators': 300}, {'max_depth': 8, 'min_samples_split': 2, 'n_estimators': 100}, {'max_depth': 8, 'min_samples_split': 2, 'n_estimators': 200}, {'max_depth': 8, 'min_samples_split': 2, 'n_estimators': 300}, {'max_depth': 12, 'min_samples_split': 2, 'n_estimators': 100}, {'max_depth': 12, 'min_samples_split': 2, 'n_estimators': 200}, {'max_depth': 12, 'min_samples_split': 2, 'n_estimators': 300}], 'split0_test_score': array([0.78317607, 0.77534632, 0.77896005, 0.82834772, 0.8295523 ,\n",
      "       0.82493475, 0.85384461, 0.85424614, 0.85484842, 0.86769725,\n",
      "       0.86829954, 0.86729572, 0.89138727, 0.89038346, 0.88958041]), 'split1_test_score': array([0.79160811, 0.77293716, 0.77454326, 0.8295523 , 0.82854848,\n",
      "       0.82674162, 0.85685605, 0.85504919, 0.85264003, 0.87090946,\n",
      "       0.86950412, 0.86910259, 0.88757278, 0.88857659, 0.88857659]), 'split2_test_score': array([0.78438065, 0.76952419, 0.77374021, 0.82533628, 0.82613933,\n",
      "       0.82112026, 0.85083317, 0.8490263 , 0.84802249, 0.86247741,\n",
      "       0.86408352, 0.86368199, 0.88576591, 0.88536438, 0.88616744]), 'split3_test_score': array([0.7922104 , 0.77996386, 0.7813692 , 0.82674162, 0.8279462 ,\n",
      "       0.82654086, 0.84962859, 0.84942783, 0.84762096, 0.86247741,\n",
      "       0.86328047, 0.86267818, 0.88536438, 0.88576591, 0.88536438]), 'split4_test_score': array([0.79281269, 0.77755471, 0.78317607, 0.83095764, 0.83256374,\n",
      "       0.82975306, 0.8598675 , 0.85745834, 0.85846216, 0.87351937,\n",
      "       0.8739209 , 0.87432243, 0.89078498, 0.89138727, 0.8917888 ]), 'split5_test_score': array([0.78638828, 0.77414174, 0.7813692 , 0.82935154, 0.82854848,\n",
      "       0.82734391, 0.85003011, 0.85103393, 0.85023088, 0.86107207,\n",
      "       0.86067055, 0.86167436, 0.88556515, 0.88415981, 0.8825537 ]), 'split6_test_score': array([0.80044168, 0.78859667, 0.79180887, 0.84059426, 0.8403935 ,\n",
      "       0.83938968, 0.86328047, 0.86006826, 0.86067055, 0.87291708,\n",
      "       0.87492471, 0.87452319, 0.89741016, 0.89801245, 0.89741016]), 'split7_test_score': array([0.79502108, 0.78197149, 0.78699056, 0.83356756, 0.83336679,\n",
      "       0.82874925, 0.85083317, 0.85304156, 0.85324232, 0.87131098,\n",
      "       0.87171251, 0.87111022, 0.88717125, 0.88978117, 0.88877735]), 'split8_test_score': array([0.79417671, 0.78072289, 0.78795181, 0.8315261 , 0.83393574,\n",
      "       0.8311245 , 0.85100402, 0.85261044, 0.85220884, 0.87148594,\n",
      "       0.87269076, 0.87208835, 0.8935743 , 0.8937751 , 0.89437751]), 'split9_test_score': array([0.79658635, 0.78393574, 0.7873494 , 0.83995984, 0.84136546,\n",
      "       0.83935743, 0.86044177, 0.86024096, 0.85963855, 0.87971888,\n",
      "       0.88052209, 0.87971888, 0.89859438, 0.89939759, 0.89919679]), 'mean_test_score': array([0.7916802 , 0.77846948, 0.78272586, 0.83159348, 0.832236  ,\n",
      "       0.82950553, 0.85466194, 0.85422029, 0.85375852, 0.86935859,\n",
      "       0.86996092, 0.86961959, 0.89031906, 0.89066037, 0.89037931]), 'std_test_score': array([0.00522881, 0.00540333, 0.00561372, 0.00487582, 0.00494102,\n",
      "       0.00557061, 0.00479326, 0.00381706, 0.0043886 , 0.00560518,\n",
      "       0.00575179, 0.00555614, 0.00464811, 0.00489974, 0.00505704]), 'rank_test_score': array([13, 15, 14, 11, 10, 12,  7,  8,  9,  6,  4,  5,  3,  1,  2],\n",
      "      dtype=int32)}\n"
     ]
    }
   ],
   "source": [
    "# Train Model\n",
    "clf = RandomForestClassifier(random_state=1234)\n",
    "\n",
    "param_grid = {\n",
    "#     'learning_rate': [0.05,0.1,0.2],\n",
    "#               'loss': ['exponential'],\n",
    "              'max_depth':[2,4,6,8,12],\n",
    "              'n_estimators':[100,200,300],\n",
    "              'min_samples_split':[2],\n",
    "#               \"base_estimator__min_samples_split\":[2,3,4],\n",
    "#               \"base_estimator__criterion\":[\"gini\", \"entropy\"],\n",
    "#               \"base_estimator__max_depth\":[2,3,4,5]\n",
    "             }\n",
    "\n",
    "model = GridSearchCV(clf, param_grid,scoring = 'accuracy', cv=10,n_jobs=-1,verbose=10)\n",
    "model.fit(base_dropna_x, base_dropna_y)\n",
    "\n",
    "\n",
    "print(\"Best Accuracy :\",model.best_score_)\n",
    "print(\"Best Parameters\",model.best_params_)\n",
    "print(model.cv_results_)\n",
    "\n",
    "# Prediction\n",
    "test_pred = model.predict(base_test)\n",
    "pd.DataFrame(test_pred).to_csv('results/rf/y_pred2.csv',header=['ChargeOff'],index_label=\"Id\")"
   ]
  },
  {
   "cell_type": "code",
   "execution_count": 8,
   "metadata": {},
   "outputs": [
    {
     "name": "stdout",
     "output_type": "stream",
     "text": [
      "Fitting 10 folds for each of 20 candidates, totalling 200 fits\n"
     ]
    },
    {
     "name": "stderr",
     "output_type": "stream",
     "text": [
      "[Parallel(n_jobs=-1)]: Using backend LokyBackend with 12 concurrent workers.\n",
      "[Parallel(n_jobs=-1)]: Done   1 tasks      | elapsed:   11.2s\n",
      "[Parallel(n_jobs=-1)]: Done   8 tasks      | elapsed:   11.4s\n",
      "[Parallel(n_jobs=-1)]: Done  17 tasks      | elapsed:   22.5s\n",
      "[Parallel(n_jobs=-1)]: Done  26 tasks      | elapsed:   34.2s\n",
      "[Parallel(n_jobs=-1)]: Done  37 tasks      | elapsed:   45.3s\n",
      "[Parallel(n_jobs=-1)]: Done  48 tasks      | elapsed:   45.7s\n",
      "[Parallel(n_jobs=-1)]: Done  61 tasks      | elapsed:  1.2min\n",
      "[Parallel(n_jobs=-1)]: Done  74 tasks      | elapsed:  1.5min\n",
      "[Parallel(n_jobs=-1)]: Done  89 tasks      | elapsed:  1.8min\n",
      "[Parallel(n_jobs=-1)]: Done 104 tasks      | elapsed:  2.1min\n",
      "[Parallel(n_jobs=-1)]: Done 121 tasks      | elapsed:  2.5min\n",
      "[Parallel(n_jobs=-1)]: Done 138 tasks      | elapsed:  2.7min\n",
      "[Parallel(n_jobs=-1)]: Done 157 tasks      | elapsed:  3.2min\n",
      "[Parallel(n_jobs=-1)]: Done 176 tasks      | elapsed:  3.6min\n",
      "[Parallel(n_jobs=-1)]: Done 198 out of 200 | elapsed:  4.1min remaining:    2.5s\n",
      "[Parallel(n_jobs=-1)]: Done 200 out of 200 | elapsed:  4.2min finished\n"
     ]
    },
    {
     "name": "stdout",
     "output_type": "stream",
     "text": [
      "Best Accuracy : 0.8918449384770563\n",
      "Best Parameters {'criterion': 'entropy', 'max_depth': 12, 'min_samples_split': 4, 'n_estimators': 200}\n",
      "{'mean_fit_time': array([11.08282006, 11.10494573, 11.4078202 , 11.42165523, 11.13847854,\n",
      "       15.55803359, 15.66525619, 15.67773099, 15.97225955, 16.30375421,\n",
      "       13.35672383, 13.27889488, 13.19331312, 12.9194659 , 13.07569587,\n",
      "       18.70015049, 18.41342402, 17.97326682, 18.03508646, 15.77436032]), 'std_fit_time': array([0.05409745, 0.04770592, 0.26654368, 0.2109608 , 0.0412605 ,\n",
      "       0.03137988, 0.07717905, 0.05504208, 0.30901293, 0.11034367,\n",
      "       0.11163363, 0.05597797, 0.03584221, 0.09197482, 0.20322454,\n",
      "       0.08824106, 0.24652355, 0.0816763 , 0.1001311 , 1.45764468]), 'mean_score_time': array([0.11580634, 0.11503289, 0.11885331, 0.12261505, 0.11682463,\n",
      "       0.16396856, 0.17406642, 0.16913674, 0.17202203, 0.17015524,\n",
      "       0.12085409, 0.13107765, 0.12121983, 0.12553506, 0.12423136,\n",
      "       0.17067351, 0.16677403, 0.16019061, 0.16265821, 0.11303141]), 'std_score_time': array([0.00376393, 0.00300653, 0.00600498, 0.00500035, 0.00219951,\n",
      "       0.00484013, 0.00501367, 0.00352681, 0.00534982, 0.0066151 ,\n",
      "       0.00579368, 0.00439128, 0.00478115, 0.01612652, 0.00700187,\n",
      "       0.00820842, 0.00767884, 0.00329536, 0.00475265, 0.01504287]), 'param_criterion': masked_array(data=['gini', 'gini', 'gini', 'gini', 'gini', 'gini', 'gini',\n",
      "                   'gini', 'gini', 'gini', 'entropy', 'entropy',\n",
      "                   'entropy', 'entropy', 'entropy', 'entropy', 'entropy',\n",
      "                   'entropy', 'entropy', 'entropy'],\n",
      "             mask=[False, False, False, False, False, False, False, False,\n",
      "                   False, False, False, False, False, False, False, False,\n",
      "                   False, False, False, False],\n",
      "       fill_value='?',\n",
      "            dtype=object), 'param_max_depth': masked_array(data=[8, 8, 8, 8, 8, 12, 12, 12, 12, 12, 8, 8, 8, 8, 8, 12,\n",
      "                   12, 12, 12, 12],\n",
      "             mask=[False, False, False, False, False, False, False, False,\n",
      "                   False, False, False, False, False, False, False, False,\n",
      "                   False, False, False, False],\n",
      "       fill_value='?',\n",
      "            dtype=object), 'param_min_samples_split': masked_array(data=[2, 3, 4, 5, 6, 2, 3, 4, 5, 6, 2, 3, 4, 5, 6, 2, 3, 4,\n",
      "                   5, 6],\n",
      "             mask=[False, False, False, False, False, False, False, False,\n",
      "                   False, False, False, False, False, False, False, False,\n",
      "                   False, False, False, False],\n",
      "       fill_value='?',\n",
      "            dtype=object), 'param_n_estimators': masked_array(data=[200, 200, 200, 200, 200, 200, 200, 200, 200, 200, 200,\n",
      "                   200, 200, 200, 200, 200, 200, 200, 200, 200],\n",
      "             mask=[False, False, False, False, False, False, False, False,\n",
      "                   False, False, False, False, False, False, False, False,\n",
      "                   False, False, False, False],\n",
      "       fill_value='?',\n",
      "            dtype=object), 'params': [{'criterion': 'gini', 'max_depth': 8, 'min_samples_split': 2, 'n_estimators': 200}, {'criterion': 'gini', 'max_depth': 8, 'min_samples_split': 3, 'n_estimators': 200}, {'criterion': 'gini', 'max_depth': 8, 'min_samples_split': 4, 'n_estimators': 200}, {'criterion': 'gini', 'max_depth': 8, 'min_samples_split': 5, 'n_estimators': 200}, {'criterion': 'gini', 'max_depth': 8, 'min_samples_split': 6, 'n_estimators': 200}, {'criterion': 'gini', 'max_depth': 12, 'min_samples_split': 2, 'n_estimators': 200}, {'criterion': 'gini', 'max_depth': 12, 'min_samples_split': 3, 'n_estimators': 200}, {'criterion': 'gini', 'max_depth': 12, 'min_samples_split': 4, 'n_estimators': 200}, {'criterion': 'gini', 'max_depth': 12, 'min_samples_split': 5, 'n_estimators': 200}, {'criterion': 'gini', 'max_depth': 12, 'min_samples_split': 6, 'n_estimators': 200}, {'criterion': 'entropy', 'max_depth': 8, 'min_samples_split': 2, 'n_estimators': 200}, {'criterion': 'entropy', 'max_depth': 8, 'min_samples_split': 3, 'n_estimators': 200}, {'criterion': 'entropy', 'max_depth': 8, 'min_samples_split': 4, 'n_estimators': 200}, {'criterion': 'entropy', 'max_depth': 8, 'min_samples_split': 5, 'n_estimators': 200}, {'criterion': 'entropy', 'max_depth': 8, 'min_samples_split': 6, 'n_estimators': 200}, {'criterion': 'entropy', 'max_depth': 12, 'min_samples_split': 2, 'n_estimators': 200}, {'criterion': 'entropy', 'max_depth': 12, 'min_samples_split': 3, 'n_estimators': 200}, {'criterion': 'entropy', 'max_depth': 12, 'min_samples_split': 4, 'n_estimators': 200}, {'criterion': 'entropy', 'max_depth': 12, 'min_samples_split': 5, 'n_estimators': 200}, {'criterion': 'entropy', 'max_depth': 12, 'min_samples_split': 6, 'n_estimators': 200}], 'split0_test_score': array([0.86829954, 0.86930335, 0.86970488, 0.86789801, 0.8685003 ,\n",
      "       0.89038346, 0.88958041, 0.89038346, 0.88958041, 0.88937964,\n",
      "       0.86910259, 0.86950412, 0.86970488, 0.86749649, 0.86890183,\n",
      "       0.89078498, 0.89078498, 0.89078498, 0.8917888 , 0.88998193]), 'split1_test_score': array([0.86950412, 0.86970488, 0.86890183, 0.86809878, 0.86809878,\n",
      "       0.88857659, 0.88897812, 0.89038346, 0.89098575, 0.88937964,\n",
      "       0.86990564, 0.86910259, 0.86990564, 0.86990564, 0.86910259,\n",
      "       0.88877735, 0.88837583, 0.88937964, 0.89058422, 0.88817507]), 'split2_test_score': array([0.86408352, 0.86448504, 0.86348123, 0.86107207, 0.86207589,\n",
      "       0.88536438, 0.88375828, 0.8847621 , 0.8879743 , 0.88516362,\n",
      "       0.86167436, 0.8630797 , 0.86227665, 0.8614736 , 0.86187513,\n",
      "       0.88596667, 0.88496286, 0.88697049, 0.88676972, 0.8863682 ]), 'split3_test_score': array([0.86328047, 0.8614736 , 0.86227665, 0.86267818, 0.86388275,\n",
      "       0.88576591, 0.88717125, 0.88777354, 0.88777354, 0.88656896,\n",
      "       0.86508733, 0.86528809, 0.8668942 , 0.86468581, 0.86488657,\n",
      "       0.88717125, 0.88717125, 0.88817507, 0.88837583, 0.88777354]), 'split4_test_score': array([0.8739209 , 0.87351937, 0.87291708, 0.87351937, 0.87412166,\n",
      "       0.89138727, 0.89198956, 0.89299337, 0.89118651, 0.89158803,\n",
      "       0.87432243, 0.87251556, 0.87291708, 0.87291708, 0.8739209 ,\n",
      "       0.89198956, 0.89299337, 0.89098575, 0.89118651, 0.89058422]), 'split5_test_score': array([0.86067055, 0.85926521, 0.86087131, 0.86167436, 0.86328047,\n",
      "       0.88415981, 0.88436057, 0.88154989, 0.88676972, 0.88536438,\n",
      "       0.86348123, 0.8630797 , 0.86227665, 0.8630797 , 0.86247741,\n",
      "       0.88456133, 0.88335676, 0.88777354, 0.88616744, 0.88456133]), 'split6_test_score': array([0.87492471, 0.87753463, 0.87512548, 0.87311785, 0.87673158,\n",
      "       0.89801245, 0.89580406, 0.89640634, 0.89680787, 0.89741016,\n",
      "       0.87592853, 0.87633005, 0.875527  , 0.87572777, 0.87572777,\n",
      "       0.89801245, 0.89620558, 0.89821321, 0.895001  , 0.90102389]), 'split7_test_score': array([0.87171251, 0.87090946, 0.86910259, 0.86950412, 0.87191327,\n",
      "       0.88978117, 0.88978117, 0.88877735, 0.88857659, 0.8879743 ,\n",
      "       0.87131098, 0.87171251, 0.87191327, 0.87191327, 0.87151174,\n",
      "       0.88737201, 0.89058422, 0.88978117, 0.88998193, 0.8879743 ]), 'split8_test_score': array([0.87269076, 0.87228916, 0.87309237, 0.87289157, 0.87329317,\n",
      "       0.8937751 , 0.8935743 , 0.89598394, 0.8939759 , 0.8935743 ,\n",
      "       0.87389558, 0.87369478, 0.87168675, 0.87088353, 0.87148594,\n",
      "       0.89839357, 0.89538153, 0.89457831, 0.89477912, 0.89578313]), 'split9_test_score': array([0.88052209, 0.87891566, 0.87891566, 0.87610442, 0.8753012 ,\n",
      "       0.89939759, 0.9002008 , 0.90040161, 0.90120482, 0.90120482,\n",
      "       0.87871486, 0.87831325, 0.87851406, 0.87650602, 0.87690763,\n",
      "       0.89859438, 0.90060241, 0.90180723, 0.89959839, 0.90100402]), 'mean_test_score': array([0.86996092, 0.86974004, 0.86943891, 0.86865587, 0.86971991,\n",
      "       0.89066037, 0.89051985, 0.89094151, 0.89148354, 0.89076079,\n",
      "       0.87034235, 0.87026204, 0.87016162, 0.86945889, 0.86967975,\n",
      "       0.89116236, 0.89104188, 0.89184494, 0.8914233 , 0.89132296]), 'std_test_score': array([0.00575179, 0.00610704, 0.00555211, 0.00510468, 0.00505326,\n",
      "       0.00489974, 0.00481464, 0.00539188, 0.00435627, 0.0050149 ,\n",
      "       0.00531282, 0.00500439, 0.00496823, 0.00490169, 0.00500125,\n",
      "       0.00511692, 0.00509008, 0.00461819, 0.00390425, 0.00560409]), 'rank_test_score': array([14, 15, 19, 20, 16,  9, 10,  7,  2,  8, 11, 12, 13, 18, 17,  5,  6,\n",
      "        1,  3,  4], dtype=int32)}\n"
     ]
    }
   ],
   "source": [
    "# Train Model\n",
    "clf = RandomForestClassifier(random_state=1234)\n",
    "\n",
    "param_grid = {\n",
    "#     'learning_rate': [0.05,0.1,0.2],\n",
    "#               'loss': ['exponential'],\n",
    "              'max_depth':[8,12],\n",
    "              'n_estimators':[200],\n",
    "              'min_samples_split':[2,3,4,5,6],\n",
    "#               \"base_estimator__min_samples_split\":[2,3,4],\n",
    "#               \"base_estimator__criterion\":[\"gini\", \"entropy\"],\n",
    "             }\n",
    "\n",
    "model = GridSearchCV(clf, param_grid,scoring = 'accuracy', cv=10,n_jobs=-1,verbose=10)\n",
    "model.fit(base_dropna_x, base_dropna_y)\n",
    "\n",
    "\n",
    "print(\"Best Accuracy :\",model.best_score_)\n",
    "print(\"Best Parameters\",model.best_params_)\n",
    "print(model.cv_results_)\n",
    "\n",
    "# Prediction\n",
    "test_pred = model.predict(base_test)\n",
    "pd.DataFrame(test_pred).to_csv('results/rf/y_pred3.csv',header=['ChargeOff'],index_label=\"Id\")"
   ]
  },
  {
   "cell_type": "code",
   "execution_count": 12,
   "metadata": {},
   "outputs": [
    {
     "name": "stdout",
     "output_type": "stream",
     "text": [
      "Fitting 10 folds for each of 6 candidates, totalling 60 fits\n"
     ]
    },
    {
     "name": "stderr",
     "output_type": "stream",
     "text": [
      "[Parallel(n_jobs=-1)]: Using backend LokyBackend with 12 concurrent workers.\n",
      "[Parallel(n_jobs=-1)]: Done   1 tasks      | elapsed:   18.7s\n",
      "[Parallel(n_jobs=-1)]: Done   8 tasks      | elapsed:   18.9s\n",
      "[Parallel(n_jobs=-1)]: Done  17 tasks      | elapsed:   45.6s\n",
      "[Parallel(n_jobs=-1)]: Done  26 tasks      | elapsed:  1.4min\n",
      "[Parallel(n_jobs=-1)]: Done  37 tasks      | elapsed:  1.7min\n",
      "[Parallel(n_jobs=-1)]: Done  44 out of  60 | elapsed:  2.2min remaining:   48.4s\n",
      "[Parallel(n_jobs=-1)]: Done  51 out of  60 | elapsed:  3.0min remaining:   31.4s\n",
      "[Parallel(n_jobs=-1)]: Done  58 out of  60 | elapsed:  3.2min remaining:    6.7s\n",
      "[Parallel(n_jobs=-1)]: Done  60 out of  60 | elapsed:  3.2min finished\n"
     ]
    },
    {
     "name": "stdout",
     "output_type": "stream",
     "text": [
      "Best Accuracy : 0.9025057991451855\n",
      "Best Parameters {'criterion': 'entropy', 'max_depth': 20, 'min_samples_split': 4, 'n_estimators': 600}\n",
      "{'mean_fit_time': array([17.59815488, 26.42091408, 52.93964019, 22.54674053, 33.93709288,\n",
      "       60.28432391]), 'std_fit_time': array([0.0365944 , 0.06720157, 0.11752457, 0.22125107, 0.09024865,\n",
      "       1.50856873]), 'mean_score_time': array([0.15938849, 0.23875387, 0.46894214, 0.21366482, 0.31031485,\n",
      "       0.48390715]), 'std_score_time': array([0.00275553, 0.00468935, 0.00574189, 0.00482147, 0.00420601,\n",
      "       0.05668539]), 'param_criterion': masked_array(data=['entropy', 'entropy', 'entropy', 'entropy', 'entropy',\n",
      "                   'entropy'],\n",
      "             mask=[False, False, False, False, False, False],\n",
      "       fill_value='?',\n",
      "            dtype=object), 'param_max_depth': masked_array(data=[12, 12, 12, 20, 20, 20],\n",
      "             mask=[False, False, False, False, False, False],\n",
      "       fill_value='?',\n",
      "            dtype=object), 'param_min_samples_split': masked_array(data=[4, 4, 4, 4, 4, 4],\n",
      "             mask=[False, False, False, False, False, False],\n",
      "       fill_value='?',\n",
      "            dtype=object), 'param_n_estimators': masked_array(data=[200, 300, 600, 200, 300, 600],\n",
      "             mask=[False, False, False, False, False, False],\n",
      "       fill_value='?',\n",
      "            dtype=object), 'params': [{'criterion': 'entropy', 'max_depth': 12, 'min_samples_split': 4, 'n_estimators': 200}, {'criterion': 'entropy', 'max_depth': 12, 'min_samples_split': 4, 'n_estimators': 300}, {'criterion': 'entropy', 'max_depth': 12, 'min_samples_split': 4, 'n_estimators': 600}, {'criterion': 'entropy', 'max_depth': 20, 'min_samples_split': 4, 'n_estimators': 200}, {'criterion': 'entropy', 'max_depth': 20, 'min_samples_split': 4, 'n_estimators': 300}, {'criterion': 'entropy', 'max_depth': 20, 'min_samples_split': 4, 'n_estimators': 600}], 'split0_test_score': array([0.89078498, 0.89018269, 0.89078498, 0.90202771, 0.90122465,\n",
      "       0.90122465]), 'split1_test_score': array([0.88937964, 0.8879743 , 0.88737201, 0.89921702, 0.89961855,\n",
      "       0.90182694]), 'split2_test_score': array([0.88697049, 0.8863682 , 0.88697049, 0.89640634, 0.89660711,\n",
      "       0.89600482]), 'split3_test_score': array([0.88817507, 0.88817507, 0.88656896, 0.8988155 , 0.89841397,\n",
      "       0.89981931]), 'split4_test_score': array([0.89098575, 0.89058422, 0.89078498, 0.90162618, 0.90242923,\n",
      "       0.90303152]), 'split5_test_score': array([0.88777354, 0.88697049, 0.88516362, 0.89981931, 0.89901626,\n",
      "       0.9004216 ]), 'split6_test_score': array([0.89821321, 0.8988155 , 0.89821321, 0.90724754, 0.90784983,\n",
      "       0.90805059]), 'split7_test_score': array([0.88978117, 0.88978117, 0.88917888, 0.90102389, 0.90142542,\n",
      "       0.90082313]), 'split8_test_score': array([0.89457831, 0.89538153, 0.89638554, 0.90281124, 0.90522088,\n",
      "       0.90361446]), 'split9_test_score': array([0.90180723, 0.90200803, 0.90060241, 0.91164659, 0.91164659,\n",
      "       0.91024096]), 'mean_test_score': array([0.89184494, 0.89162412, 0.89120251, 0.90206413, 0.90234525,\n",
      "       0.9025058 ]), 'std_test_score': array([0.00461819, 0.00504691, 0.00509251, 0.00419802, 0.00440558,\n",
      "       0.00388382]), 'rank_test_score': array([4, 5, 6, 3, 2, 1], dtype=int32)}\n"
     ]
    }
   ],
   "source": [
    "# Train Model\n",
    "clf = RandomForestClassifier(random_state=1234)\n",
    "\n",
    "param_grid = {\n",
    "#               'loss': ['exponential'],\n",
    "              'max_depth':[12,20],\n",
    "              'n_estimators':[200,300,600],\n",
    "              'min_samples_split':[4],\n",
    "#               \"base_estimator__min_samples_split\":[2,3,4],\n",
    "              \"criterion\":[\"entropy\"],\n",
    "             }\n",
    "\n",
    "model = GridSearchCV(clf, param_grid,scoring = 'accuracy', cv=10,n_jobs=-1,verbose=10)\n",
    "model.fit(base_dropna_x, base_dropna_y)\n",
    "\n",
    "\n",
    "print(\"Best Accuracy :\",model.best_score_)\n",
    "print(\"Best Parameters\",model.best_params_)\n",
    "print(model.cv_results_)\n",
    "\n",
    "# Prediction\n",
    "test_pred = model.predict(base_test)\n",
    "pd.DataFrame(test_pred).to_csv('results/rf/y_pred4.csv',header=['ChargeOff'],index_label=\"Id\")"
   ]
  },
  {
   "cell_type": "code",
   "execution_count": 13,
   "metadata": {},
   "outputs": [
    {
     "name": "stdout",
     "output_type": "stream",
     "text": [
      "Fitting 10 folds for each of 3 candidates, totalling 30 fits\n"
     ]
    },
    {
     "name": "stderr",
     "output_type": "stream",
     "text": [
      "[Parallel(n_jobs=-1)]: Using backend LokyBackend with 12 concurrent workers.\n",
      "[Parallel(n_jobs=-1)]: Done   1 tasks      | elapsed:  1.1min\n",
      "[Parallel(n_jobs=-1)]: Done  11 out of  30 | elapsed:  1.9min remaining:  3.3min\n",
      "[Parallel(n_jobs=-1)]: Done  15 out of  30 | elapsed:  3.0min remaining:  3.0min\n",
      "[Parallel(n_jobs=-1)]: Done  19 out of  30 | elapsed:  3.0min remaining:  1.7min\n",
      "[Parallel(n_jobs=-1)]: Done  23 out of  30 | elapsed:  5.3min remaining:  1.6min\n",
      "[Parallel(n_jobs=-1)]: Done  27 out of  30 | elapsed:  6.1min remaining:   40.7s\n",
      "[Parallel(n_jobs=-1)]: Done  30 out of  30 | elapsed:  6.1min finished\n"
     ]
    },
    {
     "name": "stdout",
     "output_type": "stream",
     "text": [
      "Best Accuracy : 0.9027668030080571\n",
      "Best Parameters {'criterion': 'entropy', 'max_depth': 20, 'min_samples_split': 4, 'n_estimators': 2000}\n",
      "{'mean_fit_time': array([ 66.76712191, 111.86471729, 194.6479116 ]), 'std_fit_time': array([ 0.15399116,  0.20256414, 13.0831299 ]), 'mean_score_time': array([0.63150406, 1.03912449, 1.68725173]), 'std_score_time': array([0.00784185, 0.01751627, 0.10265465]), 'param_criterion': masked_array(data=['entropy', 'entropy', 'entropy'],\n",
      "             mask=[False, False, False],\n",
      "       fill_value='?',\n",
      "            dtype=object), 'param_max_depth': masked_array(data=[20, 20, 20],\n",
      "             mask=[False, False, False],\n",
      "       fill_value='?',\n",
      "            dtype=object), 'param_min_samples_split': masked_array(data=[4, 4, 4],\n",
      "             mask=[False, False, False],\n",
      "       fill_value='?',\n",
      "            dtype=object), 'param_n_estimators': masked_array(data=[600, 1000, 2000],\n",
      "             mask=[False, False, False],\n",
      "       fill_value='?',\n",
      "            dtype=object), 'params': [{'criterion': 'entropy', 'max_depth': 20, 'min_samples_split': 4, 'n_estimators': 600}, {'criterion': 'entropy', 'max_depth': 20, 'min_samples_split': 4, 'n_estimators': 1000}, {'criterion': 'entropy', 'max_depth': 20, 'min_samples_split': 4, 'n_estimators': 2000}], 'split0_test_score': array([0.90122465, 0.90182694, 0.90102389]), 'split1_test_score': array([0.90182694, 0.90102389, 0.90122465]), 'split2_test_score': array([0.89600482, 0.89540253, 0.89640634]), 'split3_test_score': array([0.89981931, 0.90002008, 0.90062236]), 'split4_test_score': array([0.90303152, 0.90202771, 0.90222847]), 'split5_test_score': array([0.9004216 , 0.90202771, 0.90283076]), 'split6_test_score': array([0.90805059, 0.90684601, 0.90764907]), 'split7_test_score': array([0.90082313, 0.90022084, 0.90122465]), 'split8_test_score': array([0.90361446, 0.90502008, 0.90381526]), 'split9_test_score': array([0.91024096, 0.91024096, 0.91064257]), 'mean_test_score': array([0.9025058 , 0.90246567, 0.9027668 ]), 'std_test_score': array([0.00388382, 0.00387229, 0.00374307]), 'rank_test_score': array([2, 3, 1], dtype=int32)}\n"
     ]
    }
   ],
   "source": [
    "# Train Model\n",
    "clf = RandomForestClassifier(random_state=1234)\n",
    "\n",
    "param_grid = {\n",
    "#               'loss': ['exponential'],\n",
    "              'max_depth':[20],\n",
    "              'n_estimators':[600,1000,2000],\n",
    "              'min_samples_split':[4],\n",
    "#               \"base_estimator__min_samples_split\":[2,3,4],\n",
    "              \"criterion\":[\"entropy\"],\n",
    "             }\n",
    "\n",
    "model = GridSearchCV(clf, param_grid,scoring = 'accuracy', cv=10,n_jobs=-1,verbose=10)\n",
    "model.fit(base_dropna_x, base_dropna_y)\n",
    "\n",
    "\n",
    "print(\"Best Accuracy :\",model.best_score_)\n",
    "print(\"Best Parameters\",model.best_params_)\n",
    "print(model.cv_results_)\n",
    "\n",
    "# Prediction\n",
    "test_pred = model.predict(base_test)\n",
    "pd.DataFrame(test_pred).to_csv('results/rf/y_pred5.csv',header=['ChargeOff'],index_label=\"Id\")"
   ]
  },
  {
   "cell_type": "code",
   "execution_count": null,
   "metadata": {},
   "outputs": [],
   "source": []
  }
 ],
 "metadata": {
  "kernelspec": {
   "display_name": "Python 3",
   "language": "python",
   "name": "python3"
  },
  "language_info": {
   "codemirror_mode": {
    "name": "ipython",
    "version": 3
   },
   "file_extension": ".py",
   "mimetype": "text/x-python",
   "name": "python",
   "nbconvert_exporter": "python",
   "pygments_lexer": "ipython3",
   "version": "3.7.7"
  }
 },
 "nbformat": 4,
 "nbformat_minor": 4
}
