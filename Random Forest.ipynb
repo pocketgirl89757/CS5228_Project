{
 "cells": [
  {
   "cell_type": "markdown",
   "metadata": {},
   "source": [
    "# CS5228 - Team pandas - Random Forest Fine Tuning\n",
    "\n",
    "A0105650R - Wang Gejing \n",
    "\n",
    "A0198889R - Chen Ningshuang \n",
    "\n",
    "A0210996X - Zhang Hao "
   ]
  },
  {
   "cell_type": "markdown",
   "metadata": {},
   "source": [
    "## Import libraries"
   ]
  },
  {
   "cell_type": "code",
   "execution_count": 1,
   "metadata": {},
   "outputs": [],
   "source": [
    "from utils import *\n",
    "import pandas as pd\n",
    "import locale\n",
    "import numpy as np\n",
    "import seaborn as sb\n",
    "import matplotlib.pyplot as plt\n",
    "%matplotlib inline\n",
    "from sklearn import preprocessing\n",
    "\n",
    "# model training\n",
    "from sklearn.model_selection import train_test_split\n",
    "from sklearn.model_selection import GridSearchCV\n",
    "\n",
    "# model evaluation\n",
    "from sklearn.metrics import confusion_matrix\n",
    "from sklearn.metrics import f1_score\n",
    "from sklearn.metrics import accuracy_score\n",
    "\n",
    "# classifiers\n",
    "from sklearn.ensemble import RandomForestClassifier \n",
    "\n",
    "# ignore warnings\n",
    "import warnings\n",
    "warnings.filterwarnings('ignore')\n",
    "locale.setlocale(locale.LC_ALL,'')\n",
    "pd.set_option('display.max_columns', None)"
   ]
  },
  {
   "cell_type": "markdown",
   "metadata": {},
   "source": [
    "## Import training and testing data"
   ]
  },
  {
   "cell_type": "code",
   "execution_count": 2,
   "metadata": {},
   "outputs": [],
   "source": [
    "drop_columns = []\n",
    "\n",
    "le = generate_labels()\n",
    "sc = generate_scaler(le, preprocessing.MinMaxScaler())\n",
    "\n",
    "base_dropna = get_data(scaler=sc,le=le,type='train', dropna=True, get_dummy=True, feature_split=False, values_only=True,drop_columns=drop_columns)\n",
    "base_test = get_data(scaler=sc,le=le,type='test', dropna=False, get_dummy=True, feature_split=False, values_only=True,drop_columns=drop_columns)"
   ]
  },
  {
   "cell_type": "markdown",
   "metadata": {},
   "source": [
    "## Fine Tuning Model"
   ]
  },
  {
   "cell_type": "code",
   "execution_count": 3,
   "metadata": {},
   "outputs": [],
   "source": [
    "base_dropna_x = base_dropna.drop(columns='ChargeOff')\n",
    "base_dropna_y = base_dropna['ChargeOff']"
   ]
  },
  {
   "cell_type": "code",
   "execution_count": 4,
   "metadata": {},
   "outputs": [
    {
     "name": "stdout",
     "output_type": "stream",
     "text": [
      "Fitting 5 folds for each of 1 candidates, totalling 5 fits\n"
     ]
    },
    {
     "name": "stderr",
     "output_type": "stream",
     "text": [
      "[Parallel(n_jobs=-1)]: Using backend LokyBackend with 8 concurrent workers.\n",
      "[Parallel(n_jobs=-1)]: Done   2 out of   5 | elapsed:  4.0min remaining:  6.0min\n",
      "[Parallel(n_jobs=-1)]: Done   5 out of   5 | elapsed:  4.0min remaining:    0.0s\n",
      "[Parallel(n_jobs=-1)]: Done   5 out of   5 | elapsed:  4.0min finished\n"
     ]
    },
    {
     "name": "stdout",
     "output_type": "stream",
     "text": [
      "Best Accuracy : 0.9011003826386469\n",
      "Best Parameters {'criterion': 'entropy', 'max_depth': 20, 'min_samples_split': 4, 'n_estimators': 2000}\n",
      "{'mean_fit_time': array([233.38104143]), 'std_fit_time': array([0.63777346]), 'mean_score_time': array([4.63971162]), 'std_score_time': array([0.13518784]), 'param_criterion': masked_array(data=['entropy'],\n",
      "             mask=[False],\n",
      "       fill_value='?',\n",
      "            dtype=object), 'param_max_depth': masked_array(data=[20],\n",
      "             mask=[False],\n",
      "       fill_value='?',\n",
      "            dtype=object), 'param_min_samples_split': masked_array(data=[4],\n",
      "             mask=[False],\n",
      "       fill_value='?',\n",
      "            dtype=object), 'param_n_estimators': masked_array(data=[2000],\n",
      "             mask=[False],\n",
      "       fill_value='?',\n",
      "            dtype=object), 'params': [{'criterion': 'entropy', 'max_depth': 20, 'min_samples_split': 4, 'n_estimators': 2000}], 'split0_test_score': array([0.89991969]), 'split1_test_score': array([0.89620558]), 'split2_test_score': array([0.89931741]), 'split3_test_score': array([0.90241944]), 'split4_test_score': array([0.9076398]), 'mean_test_score': array([0.90110038]), 'std_test_score': array([0.00382193]), 'rank_test_score': array([1])}\n"
     ]
    }
   ],
   "source": [
    "clf = RandomForestClassifier(random_state=1234)\n",
    "\n",
    "param_grid = {\n",
    "    'max_depth':[20],\n",
    "    'n_estimators':[2000],\n",
    "    'min_samples_split':[4],\n",
    "    \"criterion\":[\"entropy\"]\n",
    "}\n",
    "\n",
    "model = GridSearchCV(clf, param_grid,scoring = 'accuracy', cv=5, n_jobs=-1,verbose=2)\n",
    "model.fit(base_dropna_x, base_dropna_y)\n",
    "\n",
    "print(\"Best Accuracy :\",model.best_score_)\n",
    "print(\"Best Parameters\",model.best_params_)\n",
    "print(model.cv_results_)"
   ]
  }
 ],
 "metadata": {
  "kernelspec": {
   "display_name": "ML",
   "language": "python",
   "name": "ml"
  },
  "language_info": {
   "codemirror_mode": {
    "name": "ipython",
    "version": 3
   },
   "file_extension": ".py",
   "mimetype": "text/x-python",
   "name": "python",
   "nbconvert_exporter": "python",
   "pygments_lexer": "ipython3",
   "version": "3.7.6"
  }
 },
 "nbformat": 4,
 "nbformat_minor": 4
}
